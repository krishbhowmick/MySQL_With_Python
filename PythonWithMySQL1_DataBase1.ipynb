{
 "cells": [
  {
   "cell_type": "code",
   "execution_count": 1,
   "metadata": {},
   "outputs": [
    {
     "name": "stdout",
     "output_type": "stream",
     "text": [
      "<mysql.connector.connection.MySQLConnection object at 0x7fc1247c3588>\n"
     ]
    }
   ],
   "source": [
    "#Creating Databases in MySQL\n",
    "import mysql.connector\n",
    "\n",
    "mydb = mysql.connector.connect(\n",
    "  host=\"localhost\",\n",
    "  user=\"krish\",\n",
    "  password=\"#meKRISH30\"\n",
    ")\n",
    "\n",
    "print(mydb)"
   ]
  },
  {
   "cell_type": "code",
   "execution_count": 2,
   "metadata": {},
   "outputs": [],
   "source": [
    "#cursor for running the MySQL in Python Jupyter Notebook\n",
    "\n",
    "cursor = mydb.cursor()"
   ]
  },
  {
   "cell_type": "code",
   "execution_count": 3,
   "metadata": {},
   "outputs": [
    {
     "name": "stdout",
     "output_type": "stream",
     "text": [
      "('information_schema',)\n",
      "('business',)\n",
      "('dummy',)\n",
      "('krish',)\n",
      "('mysql',)\n",
      "('performance_schema',)\n",
      "('sys',)\n"
     ]
    }
   ],
   "source": [
    "# Show The Database\n",
    "\n",
    "cursor.execute('SHOW DATABASES')\n",
    "\n",
    "for database in cursor:\n",
    "    print(database)"
   ]
  },
  {
   "cell_type": "code",
   "execution_count": 4,
   "metadata": {},
   "outputs": [],
   "source": [
    "# Create a new Database\n",
    "\n",
    "#sql = 'CREATE DATABASE business'\n",
    "#cursor.execute(sql)\n"
   ]
  },
  {
   "cell_type": "code",
   "execution_count": 5,
   "metadata": {},
   "outputs": [],
   "source": [
    "# -selected database\n",
    "\n",
    "cursor.execute('use business')\n"
   ]
  },
  {
   "cell_type": "markdown",
   "metadata": {},
   "source": [
    "# CREATE_TABLE \n",
    "\n",
    "### SQL Constraints\n",
    "* SQL constraints are used to specify rules for the data in a table.\n",
    "* Constraints are used to limit the type of data that can go into a table. This ensures the accuracy and reliability of the data in the table. If there is any violation between the constraint and the data action, the action is aborted.\n",
    "* Constraints can be column level or table level. Column level constraints apply to a column, and table level constraints apply to the whole table.\n",
    "\n",
    "The following constraints are commonly used in SQL:\n",
    "\n",
    "\n",
    "### CREATE TABLE\n",
    "* CREATE TABLE Persons (\n",
    "*     PersonID int,\n",
    "*     LastName varchar(255),\n",
    "*     FirstName varchar(255),\n",
    "*     Address varchar(255),\n",
    "*     City varchar(255) );\n",
    "\n",
    "### NOT NULL - \n",
    "* Ensures that a column cannot have a NULL value\n",
    "##### SYNTEX\n",
    "* CREATE TABLE Persons (\n",
    "*     ID int NOT NULL,\n",
    "*     LastName varchar(255) NOT NULL,\n",
    "*     FirstName varchar(255) NOT NULL,\n",
    "*     Age int );\n",
    "\n",
    "### UNIQUE - \n",
    "* Ensures that all values in a column are different\n",
    "##### SYNTEX\n",
    "* CREATE TABLE Persons (\n",
    "*     ID int NOT NULL UNIQUE,\n",
    "*     LastName varchar(255) NOT NULL,\n",
    "*     FirstName varchar(255),\n",
    "*     Age int );\n",
    "\n",
    "### PRIMARI KEY - (Remember- You need to give referance table where the column present)\n",
    "* A combination of a NOT NULL and UNIQUE. Uniquely identifies each row in a table\n",
    "##### SYNTEX\n",
    "* CREATE TABLE Persons (\n",
    "*     ID int NOT NULL,\n",
    "*     LastName varchar(255) NOT NULL,\n",
    "*     FirstName varchar(255),\n",
    "*     Age int,\n",
    "*    PRIMARY KEY (ID) );\n",
    "\n",
    "### FOREIGN KEY - \n",
    "* Uniquely identifies a row/record in another table\n",
    "##### SYNTEX\n",
    "* CREATE TABLE Orders (\n",
    "*     OrderID int NOT NULL,\n",
    "*     OrderNumber int NOT NULL,\n",
    "*     PersonID int,\n",
    "*     PRIMARY KEY (OrderID),\n",
    "*     FOREIGN KEY (PersonID) REFERENCES Persons(PersonID) );\n",
    "\n",
    "### CHECK - \n",
    "* Ensures that all values in a column satisfies a specific condition\n",
    "##### SYNTEX\n",
    "* CREATE TABLE Persons (\n",
    "*     ID int NOT NULL,\n",
    "*     LastName varchar(255) NOT NULL,\n",
    "*     FirstName varchar(255),\n",
    "*     Age int,\n",
    "*     CHECK (Age>=18) );\n",
    "\n",
    "### DEFAULT - \n",
    "* Sets a default value for a column when no value is specified\n",
    "##### SYNTEX\n",
    "* CREATE TABLE Persons (\n",
    "*     ID int NOT NULL,\n",
    "*     LastName varchar(255) NOT NULL,\n",
    "*     FirstName varchar(255),\n",
    "*     Age int,\n",
    "*     City varchar(255) DEFAULT 'Sandnes' );\n",
    "\n",
    "### INDEX - \n",
    "* Used to create and retrieve data from the database very quickly\n",
    "##### SYNTEX\n",
    "* CREATE INDEX index_name\n",
    "* ON table_name (column1, column2, ...);\n",
    "\n",
    "### AUTO INCREMENT -\n",
    "* Auto-increment allows a unique number to be generated automatically when a new record is inserted into a table. MySQL uses the AUTO_INCREMENT keyword to perform an auto-increment feature.\n",
    "##### SYNTEX\n",
    "* CREATE TABLE Persons (\n",
    "*     Personid int NOT NULL AUTO_INCREMENT,\n",
    "*     LastName varchar(255) NOT NULL,\n",
    "*     FirstName varchar(255),\n",
    "*     Age int,\n",
    "*     PRIMARY KEY (Personid) );\n"
   ]
  },
  {
   "cell_type": "code",
   "execution_count": 6,
   "metadata": {},
   "outputs": [],
   "source": [
    "# Create a new table \n",
    "\n",
    "#sql= 'create table customers (CustomerID int NOT NULL UNIQUE AUTO_INCREMENT, CustomerName varchar(25), ContactName varchar(25), Address varchar(25), City varchar(25), PostalCode int, Country varchar(25), PRIMARY KEY(CustomerID) )'\n",
    "#cursor.execute(sql)\n"
   ]
  },
  {
   "cell_type": "code",
   "execution_count": 7,
   "metadata": {},
   "outputs": [
    {
     "data": {
      "text/plain": [
       "'\\n#sql = \\'INSERT INTO customers(CustomerID,CustomerName,ContactName,Address,City,PostalCode,Country) values(%s,%s,%s,%s,%s,%s,%s)\\'\\nval = [\\n    (\\'2\\',\\'Asish Mondal\\', \\'asis\\',\\'xzafor\\', \\'kolkata\\',\\'854789\\', \\'africa\\'),\\n    (\\'4\\',\\'Narayan Bhowmick\\', \\'Naran\\',\\'bohich\\', \\'tamluk\\',\\'721649\\', \\'Sriram\\'),\\n    (\\'5\\',\\'Lopa Mudra\\', \\'lopa\\',\\'jumsedpur\\', \\'jumsed\\',\\'837889\\', \\'Jharkhand\\'),\\n    (\\'6\\',\\'Mallika Ghosh\\', \\'mallu\\',\\'durgapur\\', \\'sodiya\\',\\'495856\\', \\'Westbengal\\'),\\n    (\\'7\\',\\'Arushi Sinha\\', \\'Rushi\\',\\'Daryo\\', \\'Ranchi\\',\\'905436\\', \\'Bihar\\'),\\n    (\\'8\\',\\'Asifa Nasir\\', \\'Asifa\\',\\'narofade\\', \\'Howrah\\',\\'578439\\', \\'Utterpradesh\\'),\\n    (\\'9\\',\\'Moumita Giri\\', \\'moumi\\',\\'kuch v\\', \\'Durgachak\\',\\'567832\\', \\'Haldia\\'),\\n    (\\'10\\',\\'Mrityunjoy Sarkar\\', \\'asis\\',\\'badlapurr\\', \\'Majapharpur\\',\\'857819\\', \\'africa\\'),\\n    (\\'11\\',\\'Arnab Banerjee\\', \\'Bantu\\',\\'Kanpur\\', \\'Durgapur\\',\\'908742\\', \\'Sriram\\'),\\n    (\\'12\\',\\'Pallabi Barori\\', \\'Tuli\\',\\'Anand pur\\', \\'Kallam\\',\\'700076\\', \\'West bengal\\'),\\n    (\\'13\\',\\'Pranoy Samanta\\', \\'Pranoy\\',\\'Jaliwala\\', \\'Nagpur\\',\\'567432\\', \\'Westbengal\\'),\\n    (\\'14\\',\\'Prabhat gupta\\', \\'prabhat\\',\\'Potaspur\\', \\'Kestopur\\',\\'543289\\', \\'africa\\'),\\n    (\\'15\\',\\'Priyanjana Ghose\\', \\'Priya\\',\\'Panghor\\', \\'Behala\\',\\'789432\\', \\'Westbengal\\'),\\n    (\\'16\\',\\'Sweta Adhikari\\', \\'Sweeti\\',\\'Janina\\', \\'Hatiberiya\\',\\'478903\\', \\'Utterpradesh\\'),\\n    (\\'17\\',\\'Srinjoy Roy\\', \\'Sinu\\',\\'Kharagpur\\', \\'medinipur\\',\\'721751\\', \\'Bihar\\'),\\n    (\\'18\\',\\'Sourav Devsarma\\', \\'Mota\\',\\'Hatitola\\', \\'kolkata\\',\\'700032\\', \\'Haldia\\'),\\n    (\\'19\\',\\'Swastika Saha\\', \\'Nati\\',\\'Beleghata\\', \\'kolkata\\',\\'700046\\', \\'Mumbai\\'),\\n    (\\'20\\',\\'Zahab Khan\\', \\'Zee\\',\\'Hatighata\\', \\'Khidirpur\\',\\'700321\\', \\'Mumbai\\')\\n    \\n]\\ncursor.executemany(sql,val)\\nmydb.commit()     #mydb.commit()--> It is required to make the changes, otherwise no changes are made to the table.\\n\\nprint(cursor.rowcount, \"record inserted.\") '"
      ]
     },
     "execution_count": 7,
     "metadata": {},
     "output_type": "execute_result"
    }
   ],
   "source": [
    "#Insert Multiple values in Tables\n",
    "\"\"\"\n",
    "#sql = 'INSERT INTO customers(CustomerID,CustomerName,ContactName,Address,City,PostalCode,Country) values(%s,%s,%s,%s,%s,%s,%s)'\n",
    "val = [\n",
    "    ('2','Asish Mondal', 'asis','xzafor', 'kolkata','854789', 'africa'),\n",
    "    ('4','Narayan Bhowmick', 'Naran','bohich', 'tamluk','721649', 'Sriram'),\n",
    "    ('5','Lopa Mudra', 'lopa','jumsedpur', 'jumsed','837889', 'Jharkhand'),\n",
    "    ('6','Mallika Ghosh', 'mallu','durgapur', 'sodiya','495856', 'Westbengal'),\n",
    "    ('7','Arushi Sinha', 'Rushi','Daryo', 'Ranchi','905436', 'Bihar'),\n",
    "    ('8','Asifa Nasir', 'Asifa','narofade', 'Howrah','578439', 'Utterpradesh'),\n",
    "    ('9','Moumita Giri', 'moumi','kuch v', 'Durgachak','567832', 'Haldia'),\n",
    "    ('10','Mrityunjoy Sarkar', 'asis','badlapurr', 'Majapharpur','857819', 'africa'),\n",
    "    ('11','Arnab Banerjee', 'Bantu','Kanpur', 'Durgapur','908742', 'Sriram'),\n",
    "    ('12','Pallabi Barori', 'Tuli','Anand pur', 'Kallam','700076', 'West bengal'),\n",
    "    ('13','Pranoy Samanta', 'Pranoy','Jaliwala', 'Nagpur','567432', 'Westbengal'),\n",
    "    ('14','Prabhat gupta', 'prabhat','Potaspur', 'Kestopur','543289', 'africa'),\n",
    "    ('15','Priyanjana Ghose', 'Priya','Panghor', 'Behala','789432', 'Westbengal'),\n",
    "    ('16','Sweta Adhikari', 'Sweeti','Janina', 'Hatiberiya','478903', 'Utterpradesh'),\n",
    "    ('17','Srinjoy Roy', 'Sinu','Kharagpur', 'medinipur','721751', 'Bihar'),\n",
    "    ('18','Sourav Devsarma', 'Mota','Hatitola', 'kolkata','700032', 'Haldia'),\n",
    "    ('19','Swastika Saha', 'Nati','Beleghata', 'kolkata','700046', 'Mumbai'),\n",
    "    ('20','Zahab Khan', 'Zee','Hatighata', 'Khidirpur','700321', 'Mumbai')\n",
    "    \n",
    "]\n",
    "cursor.executemany(sql,val)\n",
    "mydb.commit()     #mydb.commit()--> It is required to make the changes, otherwise no changes are made to the table.\n",
    "\n",
    "print(cursor.rowcount, \"record inserted.\") \"\"\"\n",
    "\n"
   ]
  },
  {
   "cell_type": "code",
   "execution_count": null,
   "metadata": {},
   "outputs": [],
   "source": []
  },
  {
   "cell_type": "code",
   "execution_count": 8,
   "metadata": {},
   "outputs": [],
   "source": [
    "# Create a new table \n",
    "\n",
    "#sql= 'create table orders (OrderID int NOT NULL UNIQUE AUTO_INCREMENT, CustomerID int, EmployeeID int, OrderDate varchar(25), ShipperID int, PRIMARY KEY(OrderID), FOREIGN KEY(CustomerID) REFERENCES customers(CustomerID))'\n",
    "#cursor.execute(sql)\n"
   ]
  },
  {
   "cell_type": "code",
   "execution_count": 9,
   "metadata": {},
   "outputs": [
    {
     "name": "stdout",
     "output_type": "stream",
     "text": [
      "21 record inserted.\n"
     ]
    }
   ],
   "source": [
    "#Insert Multiple values in Tables\n",
    "\"\"\"\n",
    "sql = 'INSERT INTO orders(OrderID, CustomerID, EmployeeID, OrderDate, ShipperID) values(%s,%s,%s,%s,%s)'\n",
    "val = [\n",
    "    ('10308','02', '6','2020-12-12', '4'),\n",
    "    ('10309','10', '7','2020-10-15', '3'),\n",
    "    ('10310','20', '4','2019-12-22', '3'),\n",
    "    ('10311','16', '6','2020-08-02', '1'),\n",
    "    ('10312','12', '9','2020-11-17', '3'),\n",
    "    ('10313','05', '3','2018-04-15', '4'),\n",
    "    ('10314','12', '2','2020-12-02', '4'),\n",
    "    ('10315','18', '1','2020-06-30', '2'),\n",
    "    ('10316','06', '7','2019-03-14', '3'),\n",
    "    ('10317','08', '5','2020-09-17', '1'),\n",
    "    ('10318','09', '8','2020-10-19', '3'),\n",
    "    ('10319','03', '3','2019-01-10', '4'),\n",
    "    ('10320','02', '2','2020-11-22', '2'),\n",
    "    ('10321','07', '8','2020-07-08', '4'),\n",
    "    ('10322','10', '9','2020-05-13', '3'),\n",
    "    ('10323','09', '4','2019-12-17', '3'),\n",
    "    ('10324','07', '9','2020-10-10', '4'),\n",
    "    ('10325','01', '2','2020-12-16', '1'),\n",
    "    ('10326','04', '9','2018-05-22', '4'),\n",
    "    ('10327','07', '6','2020-04-30', '3'),\n",
    "    ('10328','05', '5','2020-10-27', '4')\n",
    "    \n",
    "]\n",
    "cursor.executemany(sql,val)\n",
    "mydb.commit()     #mydb.commit()--> It is required to make the changes, otherwise no changes are made to the table.\n",
    "\n",
    "print(cursor.rowcount, \"record inserted.\")\"\"\""
   ]
  },
  {
   "cell_type": "markdown",
   "metadata": {},
   "source": [
    "# ALTER TABLE"
   ]
  },
  {
   "cell_type": "code",
   "execution_count": 10,
   "metadata": {},
   "outputs": [],
   "source": [
    "# Create a new Database\n",
    "\n",
    "#sql = 'CREATE DATABASE krish'\n",
    "#cursor.execute(sql)\n",
    "\n",
    "#ALTER TABLE table_name MODIFY COLUMN column_name datatype;\n"
   ]
  },
  {
   "cell_type": "markdown",
   "metadata": {},
   "source": [
    "# Dates\n",
    "MySQL comes with the following data types for storing a date or a date/time value in the database:\n",
    "\n",
    "* DATE - format YYYY-MM-DD\n",
    "* DATETIME - format: YYYY-MM-DD HH:MI:SS\n",
    "* TIMESTAMP - format: YYYY-MM-DD HH:MI:SS\n",
    "* YEAR - format YYYY or YY\n",
    "#### SYNTEX\n",
    "* SELECT * FROM Orders \n",
    "* WHERE OrderDate='2008-11-11'"
   ]
  },
  {
   "cell_type": "code",
   "execution_count": 15,
   "metadata": {},
   "outputs": [
    {
     "name": "stdout",
     "output_type": "stream",
     "text": [
      "(10325, 1, 2, '2020-12-16', 1)\n"
     ]
    }
   ],
   "source": [
    "# Dates\n",
    "\n",
    "sql = \"SELECT * FROM orders WHERE OrderDate='2020-12-16'\"\n",
    "cursor.execute(sql)\n",
    "\n",
    "myresult = cursor.fetchall()\n",
    "\n",
    "for x in myresult:\n",
    "  print(x)"
   ]
  },
  {
   "cell_type": "code",
   "execution_count": null,
   "metadata": {},
   "outputs": [],
   "source": [
    "# Create a new Database\n",
    "\n",
    "#sql = 'CREATE DATABASE meKRISH'\n",
    "#cursor.execute(sql)\n"
   ]
  },
  {
   "cell_type": "code",
   "execution_count": null,
   "metadata": {},
   "outputs": [],
   "source": [
    "# DROP DATABASE \n",
    "\n",
    "#sql = 'DROP DATABASE meKRISH'\n",
    "#cursor.execute(sql)\n"
   ]
  },
  {
   "cell_type": "code",
   "execution_count": null,
   "metadata": {},
   "outputs": [],
   "source": [
    "# DROP TABLE \n",
    "\n",
    "#sql = 'DROP TABLE table_name'\n",
    "#cursor.execute(sql)\n",
    "\n"
   ]
  },
  {
   "cell_type": "code",
   "execution_count": null,
   "metadata": {},
   "outputs": [],
   "source": []
  }
 ],
 "metadata": {
  "kernelspec": {
   "display_name": "Python 3",
   "language": "python",
   "name": "python3"
  },
  "language_info": {
   "codemirror_mode": {
    "name": "ipython",
    "version": 3
   },
   "file_extension": ".py",
   "mimetype": "text/x-python",
   "name": "python",
   "nbconvert_exporter": "python",
   "pygments_lexer": "ipython3",
   "version": "3.6.9"
  }
 },
 "nbformat": 4,
 "nbformat_minor": 4
}
