{
 "cells": [
  {
   "cell_type": "code",
   "execution_count": 1,
   "metadata": {},
   "outputs": [
    {
     "name": "stdout",
     "output_type": "stream",
     "text": [
      "<mysql.connector.connection_cext.CMySQLConnection object at 0x000001A3C8429280>\n"
     ]
    }
   ],
   "source": [
    "#Creating Databases in MySQL\n",
    "import mysql.connector\n",
    "\n",
    "mydb = mysql.connector.connect(\n",
    "  host=\"localhost\",\n",
    "  user=\"root\",\n",
    "  password=\"#meKRISH30\"\n",
    ")\n",
    "\n",
    "print(mydb)"
   ]
  },
  {
   "cell_type": "code",
   "execution_count": 2,
   "metadata": {},
   "outputs": [],
   "source": [
    "#cursor for running the MySQL in Python Jupyter Notebook\n",
    "\n",
    "cursor = mydb.cursor()"
   ]
  },
  {
   "cell_type": "code",
   "execution_count": 3,
   "metadata": {},
   "outputs": [
    {
     "name": "stdout",
     "output_type": "stream",
     "text": [
      "('abc',)\n",
      "('business',)\n",
      "('cantilever',)\n",
      "('games2win',)\n",
      "('grofers',)\n",
      "('information_schema',)\n",
      "('krish',)\n",
      "('mysql',)\n",
      "('performance_schema',)\n",
      "('pharm_easy',)\n",
      "('sales',)\n",
      "('sys',)\n"
     ]
    }
   ],
   "source": [
    "#\n",
    "\n",
    "cursor.execute('SHOW DATABASES')\n",
    "\n",
    "for database in cursor:\n",
    "    print(database)"
   ]
  },
  {
   "cell_type": "code",
   "execution_count": 4,
   "metadata": {},
   "outputs": [],
   "source": [
    "# use database\n",
    "\n",
    "cursor.execute('USE grofers')"
   ]
  },
  {
   "cell_type": "code",
   "execution_count": 5,
   "metadata": {},
   "outputs": [],
   "source": [
    "# sql_mode=only_full_group_by\n",
    "\n",
    "sql= \"SET sql_mode=(SELECT REPLACE(@@sql_mode,'ONLY_FULL_GROUP_BY',''))\"\n",
    "cursor.execute(sql)\n",
    "mydb.commit()"
   ]
  },
  {
   "cell_type": "markdown",
   "metadata": {},
   "source": [
    "### DATE \n",
    "\n",
    "### TIME\n",
    "\n"
   ]
  },
  {
   "cell_type": "code",
   "execution_count": 6,
   "metadata": {},
   "outputs": [
    {
     "name": "stdout",
     "output_type": "stream",
     "text": [
      "(datetime.date(2020, 2, 1), datetime.timedelta(seconds=73220))\n",
      "(datetime.date(2020, 2, 2), datetime.timedelta(seconds=27630))\n",
      "(datetime.date(2020, 2, 3), datetime.timedelta(seconds=43850))\n",
      "(datetime.date(2020, 2, 4), datetime.timedelta(seconds=39042))\n",
      "(datetime.date(2020, 2, 5), datetime.timedelta(seconds=63040))\n",
      "(datetime.date(2020, 2, 6), datetime.timedelta(seconds=70006))\n",
      "(datetime.date(2020, 2, 7), datetime.timedelta(seconds=56216))\n",
      "(datetime.date(2020, 2, 8), datetime.timedelta(seconds=19806))\n",
      "(None, None)\n"
     ]
    }
   ],
   "source": [
    "# DATE-\n",
    "# TIME-\n",
    "\n",
    "sql= \"select date(DateTime), time(DateTime) from table2\"  \n",
    "cursor.execute(sql)\n",
    "myresult= cursor.fetchall() \n",
    "for x in myresult:\n",
    "  print(x)\n"
   ]
  },
  {
   "cell_type": "markdown",
   "metadata": {},
   "source": [
    "### YEAR()- \n",
    "* Returns the year for a given date.\n",
    "\n",
    "### MONTH()- \n",
    "* Returns the month for a given date.(1-12)\n",
    "\n",
    "### DAY()- \n",
    "* Returns the day for a given date.(1-31)"
   ]
  },
  {
   "cell_type": "code",
   "execution_count": 7,
   "metadata": {},
   "outputs": [
    {
     "name": "stdout",
     "output_type": "stream",
     "text": [
      "('1', 2018, 2, 1)\n",
      "('2', 2018, 2, 2)\n",
      "('3', 2018, 2, 3)\n",
      "('4', 2018, 2, 4)\n",
      "('5', 2018, 2, 5)\n",
      "('6', 2018, 2, 6)\n",
      "('7', 2018, 2, 7)\n",
      "('8', 2019, 2, 8)\n",
      "('9', 2020, None, None)\n"
     ]
    }
   ],
   "source": [
    "# YEAR()- returns the year for a given date.\n",
    "# MONTH()- returns the month for a given date.(1-12)\n",
    "# DAY()- returns the day for a given date.(1-31)\n",
    "\n",
    "sql= \"select ID, year(Date), MONTH(DateTime), DAY(DateTime) from table2\"  \n",
    "cursor.execute(sql)\n",
    "myresult= cursor.fetchall() \n",
    "\n",
    "for x in myresult:\n",
    "  print(x)\n"
   ]
  },
  {
   "cell_type": "markdown",
   "metadata": {},
   "source": [
    "### HOUR()- \n",
    "* Returns the hour of a time.\n",
    "\n",
    "### MINUTE()- \n",
    "* Returns the minute of a time.\n",
    "\n",
    "### SECOND()- \n",
    "* Returns the second of a time."
   ]
  },
  {
   "cell_type": "code",
   "execution_count": 8,
   "metadata": {},
   "outputs": [
    {
     "name": "stdout",
     "output_type": "stream",
     "text": [
      "('1', 20, 20, 20)\n",
      "('2', 7, 40, 30)\n",
      "('3', 12, 10, 50)\n",
      "('4', 10, 50, 42)\n",
      "('5', 17, 30, 40)\n",
      "('6', 19, 26, 46)\n",
      "('7', 15, 36, 56)\n",
      "('8', 5, 30, 6)\n",
      "('9', None, None, None)\n"
     ]
    }
   ],
   "source": [
    "# HOUR()- returns the hour of a time.\n",
    "# MINUTE()- returns the minute of a time.\n",
    "# SECOND()- returns the second of a time.\n",
    "\n",
    "sql= \"select ID, HOUR(DateTime), MINUTE(DateTime), SECOND(DateTime) from table2\"  \n",
    "cursor.execute(sql)\n",
    "myresult= cursor.fetchall() \n",
    "\n",
    "for x in myresult:\n",
    "  print(x)\n"
   ]
  },
  {
   "cell_type": "markdown",
   "metadata": {},
   "source": [
    "### DAYNAME()-\n",
    "* Returns the name of the week day of a date specified in the argument.\n",
    "\n",
    "### MONTHNAME()-\n",
    "* Returns the name of the month"
   ]
  },
  {
   "cell_type": "code",
   "execution_count": 9,
   "metadata": {},
   "outputs": [
    {
     "name": "stdout",
     "output_type": "stream",
     "text": [
      "('1', 'March', 'Saturday')\n",
      "('2', 'May', 'Sunday')\n",
      "('3', 'June', 'Monday')\n",
      "('4', 'July', 'Tuesday')\n",
      "('5', 'August', 'Wednesday')\n",
      "('6', 'September', 'Thursday')\n",
      "('7', 'November', 'Friday')\n",
      "('8', 'October', 'Saturday')\n",
      "('9', 'July', None)\n"
     ]
    }
   ],
   "source": [
    "# DAYNAME()-returns the name of the week day of a date specified in the argument.\n",
    "# MONTHNAME()-Returns the name of the month\n",
    "#\n",
    "\n",
    "sql= \"select ID, monthname(Date), dayname(DateTime) from table2\"  \n",
    "cursor.execute(sql)\n",
    "myresult= cursor.fetchall() \n",
    "\n",
    "for x in myresult:\n",
    "  print(x)\n"
   ]
  },
  {
   "cell_type": "markdown",
   "metadata": {},
   "source": [
    "# DAY OF YEAR()-\n",
    "# DAY OF MONTH()-\n",
    "# DAY OF WEEK()-"
   ]
  },
  {
   "cell_type": "code",
   "execution_count": 10,
   "metadata": {},
   "outputs": [
    {
     "name": "stdout",
     "output_type": "stream",
     "text": [
      "(32, 1, 5)\n",
      "(33, 3, 5)\n",
      "(34, 4, 2)\n",
      "(35, 5, 5)\n",
      "(36, 6, 2)\n",
      "(37, 7, 6)\n",
      "(38, 15, 5)\n",
      "(39, 24, 5)\n",
      "(None, 1, 4)\n"
     ]
    }
   ],
   "source": [
    "# DAY OF YEAR()-\n",
    "# DAY OF MONTH()-\n",
    "# DAY OF WEEK()- \n",
    "\n",
    "sql= \"select dayofyear(DateTime), DAYOFMONTH(Date), DAYOFWEEK(Date) from table2;\"  \n",
    "cursor.execute(sql)\n",
    "myresult= cursor.fetchall() \n",
    "\n",
    "for x in myresult:\n",
    "  print(x)\n"
   ]
  },
  {
   "cell_type": "markdown",
   "metadata": {},
   "source": [
    "# LAST_DAY()"
   ]
  },
  {
   "cell_type": "code",
   "execution_count": 11,
   "metadata": {},
   "outputs": [
    {
     "name": "stdout",
     "output_type": "stream",
     "text": [
      "(datetime.date(2018, 3, 31),)\n",
      "(datetime.date(2018, 5, 31),)\n",
      "(datetime.date(2018, 6, 30),)\n",
      "(datetime.date(2018, 7, 31),)\n",
      "(datetime.date(2018, 8, 31),)\n",
      "(datetime.date(2018, 9, 30),)\n",
      "(datetime.date(2018, 11, 30),)\n",
      "(datetime.date(2019, 10, 31),)\n",
      "(datetime.date(2020, 7, 31),)\n"
     ]
    }
   ],
   "source": [
    "# LAST_DAY()\n",
    "#\n",
    "\n",
    "sql= \"select last_day(Date) from table2;\"  \n",
    "cursor.execute(sql)\n",
    "myresult= cursor.fetchall() \n",
    "\n",
    "for x in myresult:\n",
    "  print(x)\n"
   ]
  },
  {
   "cell_type": "markdown",
   "metadata": {},
   "source": [
    "# DATEDIFF(Exp1,Exp2)- Subtract two dates and returns in days\n",
    "* DATEDIFF('2020-03-10','2020-03-08') --> (2)\n",
    "\n",
    "# TIMEDIFF(Exp1,Exp2)- Subtract two times and returns in hours\n",
    "* TIMEDIFF('20:30','18:20') -->(02:10)"
   ]
  },
  {
   "cell_type": "code",
   "execution_count": 12,
   "metadata": {},
   "outputs": [
    {
     "name": "stdout",
     "output_type": "stream",
     "text": [
      "(450,)\n",
      "(449,)\n",
      "(448,)\n",
      "(447,)\n",
      "(446,)\n",
      "(445,)\n",
      "(444,)\n",
      "(443,)\n",
      "(None,)\n"
     ]
    }
   ],
   "source": [
    "# DATEDIFF(Exp1,Exp2)- Subtract two dates and returns in days\n",
    "# DATEDIFF('2020-03-10','2020-03-08') --> (2)\n",
    "\n",
    "sql= \"select datediff(now(),DateTime) from table2\"  \n",
    "cursor.execute(sql)\n",
    "myresult= cursor.fetchall() \n",
    "\n",
    "for x in myresult:\n",
    "  print(x)\n"
   ]
  },
  {
   "cell_type": "code",
   "execution_count": 13,
   "metadata": {},
   "outputs": [
    {
     "name": "stdout",
     "output_type": "stream",
     "text": [
      "(datetime.timedelta(seconds=7800),)\n"
     ]
    }
   ],
   "source": [
    "# TIMEDIFF(Exp1,Exp2)- Subtract two times and returns in hours\n",
    "# TIMEDIFF('20:30','18:20') -->(02:10)\n",
    "\n",
    "sql= \"select TIMEDIFF('20:30','18:20')\"  \n",
    "cursor.execute(sql)\n",
    "myresult= cursor.fetchall() \n",
    "\n",
    "for x in myresult:\n",
    "  print(x)"
   ]
  },
  {
   "cell_type": "markdown",
   "metadata": {},
   "source": [
    "### The STR_TO_DATE() returns a date based on a string and a format.\n",
    "\n",
    "* STR_TO_DATE(string, format)\n",
    "* * string\tRequired. The string to be formatted to a date\n",
    "* * format\tRequired. The format to use. Can be one or a combination of the following values:\n",
    "* -\n",
    "* %a\tAbbreviated weekday name (Sun to Sat)\n",
    "* %b\tAbbreviated month name (Jan to Dec)\n",
    "* %c\tNumeric month name (0 to 12)\n",
    "* %D\tDay of the month as a numeric value, followed by suffix (1st, 2nd, 3rd, ...)\n",
    "* %d\tDay of the month as a numeric value (01 to 31)\n",
    "* %e\tDay of the month as a numeric value (0 to 31)\n",
    "* %f\tMicroseconds (000000 to 999999)\n",
    "* %H\tHour (00 to 23)\n",
    "* %h\tHour (00 to 12)\n",
    "* %I\tHour (00 to 12)\n",
    "* %i\tMinutes (00 to 59)\n",
    "* %j\tDay of the year (001 to 366)\n",
    "* %k\tHour (0 to 23)\n",
    "* %l\tHour (1 to 12)\n",
    "* %M\tMonth name in full (January to December)\n",
    "* %m\tMonth name as a numeric value (01 to 12)\n",
    "* %p\tAM or PM\n",
    "* %r\tTime in 12 hour AM or PM format (hh:mm:ss AM/PM)\n",
    "* %S\tSeconds (00 to 59)\n",
    "* %s\tSeconds (00 to 59)\n",
    "* %T\tTime in 24 hour format (hh:mm:ss)\n",
    "* %U\tWeek where Sunday is the first day of the week (00 to 53)\n",
    "* %u\tWeek where Monday is the first day of the week (00 to 53)\n",
    "* %V\tWeek where Sunday is the first day of the week (01 to 53). Used with %X\n",
    "* %v\tWeek where Monday is the first day of the week (01 to 53). Used with %X\n",
    "* %W\tWeekday name in full (Sunday to Saturday)\n",
    "* %w\tDay of the week where Sunday=0 and Saturday=6\n",
    "* %X\tYear for the week where Sunday is the first day of the week. Used with %V\n",
    "* %x\tYear for the week where Monday is the first day of the week. Used with %V\n",
    "* %Y\tYear as a numeric, 4-digit value\n",
    "* %y\tYear as a numeric, 2-digit value"
   ]
  },
  {
   "cell_type": "code",
   "execution_count": 14,
   "metadata": {},
   "outputs": [
    {
     "name": "stdout",
     "output_type": "stream",
     "text": [
      "(datetime.timedelta(seconds=74100),)\n"
     ]
    }
   ],
   "source": [
    "# Change PM ino 24 hours\n",
    "\n",
    "# STR_TO_DATE() returns a date based on a string and a format.\n",
    "# STR_TO_DATE('08:35 PM', '%l:%i %p') -->(20:35:00)\n",
    "\n",
    "sql= \"SELECT STR_TO_DATE('08:35 PM', '%l:%i %p');\"  \n",
    "cursor.execute(sql)\n",
    "myresult= cursor.fetchall() \n",
    "\n",
    "for x in myresult:\n",
    "  print(x)"
   ]
  },
  {
   "cell_type": "code",
   "execution_count": null,
   "metadata": {},
   "outputs": [],
   "source": []
  },
  {
   "cell_type": "markdown",
   "metadata": {},
   "source": [
    "### DATE_FORMAT(\"2017-06-15\", \"%Y\")\n",
    "\n",
    "Format\tDescription\n",
    "* %D\tDay of the month as a numeric value, followed by suffix (1st, 2nd, 3rd, ...)\n",
    "* %d\tDay of the month as a numeric value (01 to 31)\n",
    "* %e\tDay of the month as a numeric value (0 to 31)\n",
    "* %j\tDay of the year (001 to 366)\n",
    "* -\n",
    "* %b\tAbbreviated month name (Jan to Dec)\n",
    "* %c\tNumeric month name (0 to 12)\n",
    "* %M\tMonth name in full (January to December)\n",
    "* %m\tMonth name as a numeric value (00 to 12)\n",
    "* -\n",
    "* %Y\tYear as a numeric, 4-digit value\n",
    "* %y\tYear as a numeric, 2-digit value\n",
    "* -\n",
    "* %a\tAbbreviated weekday name (Sun to Sat)\n",
    "* %f\tMicroseconds (000000 to 999999)\n",
    "* %H\tHour (00 to 23)\n",
    "* %h\tHour (00 to 12)\n",
    "* %I\tHour (00 to 12)\n",
    "* %i\tMinutes (00 to 59)\n",
    "* %k\tHour (0 to 23)\n",
    "* %l\tHour (1 to 12)\n",
    "* %p\tAM or PM\n",
    "* %r\tTime in 12 hour AM or PM format (hh:mm:ss AM/PM)\n",
    "* %S\tSeconds (00 to 59)\n",
    "* %s\tSeconds (00 to 59)\n",
    "* %T\tTime in 24 hour format (hh:mm:ss)\n",
    "* %U\tWeek where Sunday is the first day of the week (00 to 53)\n",
    "* %u\tWeek where Monday is the first day of the week (00 to 53)\n",
    "* %V\tWeek where Sunday is the first day of the week (01 to 53). Used with %X\n",
    "* %v\tWeek where Monday is the first day of the week (01 to 53). Used with %x\n",
    "* %W\tWeekday name in full (Sunday to Saturday)\n",
    "* %w\tDay of the week where Sunday=0 and Saturday=6\n",
    "* %X\tYear for the week where Sunday is the first day of the week. Used with %V\n",
    "* %x\tYear for the week where Monday is the first day of the week. Used with %v"
   ]
  },
  {
   "cell_type": "code",
   "execution_count": 15,
   "metadata": {},
   "outputs": [
    {
     "data": {
      "text/plain": [
       "'\\nsql= \"select DATE_FORMAT(Date,\"%Y\") from table2\"  \\ncursor.execute(sql)\\nmyresult= cursor.fetchall() \\n\\nfor x in myresult:\\n  print(x)\\n'"
      ]
     },
     "execution_count": 15,
     "metadata": {},
     "output_type": "execute_result"
    }
   ],
   "source": [
    "# \n",
    "#\n",
    "\"\"\"\n",
    "sql= \"select DATE_FORMAT(Date,\"%Y\") from table2\"  \n",
    "cursor.execute(sql)\n",
    "myresult= cursor.fetchall() \n",
    "\n",
    "for x in myresult:\n",
    "  print(x)\n",
    "\"\"\""
   ]
  },
  {
   "cell_type": "markdown",
   "metadata": {},
   "source": [
    "## The EXTRACT()- function extracts a part from a given date.\n",
    "\n",
    "Syntax\n",
    "* EXTRACT(part FROM date)\n",
    "###### Required. The part to extract. Can be one of the following:\n",
    "* MICROSECOND\n",
    "* SECOND\n",
    "* MINUTE\n",
    "* HOUR\n",
    "* DAY\n",
    "* WEEK\n",
    "* MONTH\n",
    "* QUARTER\n",
    "* YEAR\n",
    "* SECOND_MICROSECOND\n",
    "* MINUTE_MICROSECOND\n",
    "* MINUTE_SECOND\n",
    "* HOUR_MICROSECOND\n",
    "* HOUR_SECOND\n",
    "* HOUR_MINUTE\n",
    "* DAY_MICROSECOND\n",
    "* DAY_SECOND\n",
    "* DAY_MINUTE\n",
    "* DAY_HOUR\n",
    "* YEAR_MONTH"
   ]
  },
  {
   "cell_type": "code",
   "execution_count": 16,
   "metadata": {},
   "outputs": [],
   "source": [
    "# \n",
    "#\n",
    "\n",
    "sql= \"\"  \n",
    "cursor.execute(sql)\n",
    "myresult= cursor.fetchall() \n",
    "\n",
    "for x in myresult:\n",
    "  print(x)\n"
   ]
  },
  {
   "cell_type": "code",
   "execution_count": 17,
   "metadata": {},
   "outputs": [],
   "source": [
    "# \n",
    "#\n",
    "\n",
    "sql= \"\"  \n",
    "cursor.execute(sql)\n",
    "myresult= cursor.fetchall() \n",
    "\n",
    "for x in myresult:\n",
    "  print(x)\n"
   ]
  },
  {
   "cell_type": "code",
   "execution_count": 18,
   "metadata": {},
   "outputs": [
    {
     "data": {
      "text/plain": [
       "'\\nsql= \"\"  \\ncursor.execute(sql)\\nmyresult= cursor.fetchall() \\n\\nfor x in myresult:\\n  print(x)\\n'"
      ]
     },
     "execution_count": 18,
     "metadata": {},
     "output_type": "execute_result"
    }
   ],
   "source": [
    "# MAKEDATE(YEAR, YEARDAY)____MAKEDATE(2017, 175)--> 2017-06-24\n",
    "#\n",
    "\"\"\"\n",
    "sql= \"\"  \n",
    "cursor.execute(sql)\n",
    "myresult= cursor.fetchall() \n",
    "\n",
    "for x in myresult:\n",
    "  print(x)\n",
    "\"\"\""
   ]
  },
  {
   "cell_type": "code",
   "execution_count": 19,
   "metadata": {},
   "outputs": [],
   "source": [
    "# \n",
    "# \n",
    "\n",
    "sql= \"\"  \n",
    "cursor.execute(sql)\n",
    "myresult= cursor.fetchall() \n",
    "\n",
    "for x in myresult:\n",
    "  print(x)\n"
   ]
  },
  {
   "cell_type": "code",
   "execution_count": null,
   "metadata": {},
   "outputs": [],
   "source": []
  },
  {
   "cell_type": "code",
   "execution_count": null,
   "metadata": {},
   "outputs": [],
   "source": []
  }
 ],
 "metadata": {
  "kernelspec": {
   "display_name": "Python 3",
   "language": "python",
   "name": "python3"
  },
  "language_info": {
   "codemirror_mode": {
    "name": "ipython",
    "version": 3
   },
   "file_extension": ".py",
   "mimetype": "text/x-python",
   "name": "python",
   "nbconvert_exporter": "python",
   "pygments_lexer": "ipython3",
   "version": "3.8.5"
  }
 },
 "nbformat": 4,
 "nbformat_minor": 4
}
