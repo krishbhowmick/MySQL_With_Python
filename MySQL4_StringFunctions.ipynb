{
 "cells": [
  {
   "cell_type": "code",
   "execution_count": 1,
   "metadata": {},
   "outputs": [
    {
     "name": "stdout",
     "output_type": "stream",
     "text": [
      "<mysql.connector.connection_cext.CMySQLConnection object at 0x0000029FF6F600A0>\n"
     ]
    }
   ],
   "source": [
    "#Creating Databases in MySQL\n",
    "\n",
    "import mysql.connector\n",
    "\n",
    "mydb = mysql.connector.connect(\n",
    "  host=\"localhost\",\n",
    "  user=\"root\",\n",
    "  password=\"#meKRISH30\"\n",
    ")\n",
    "\n",
    "print(mydb)"
   ]
  },
  {
   "cell_type": "code",
   "execution_count": 2,
   "metadata": {},
   "outputs": [],
   "source": [
    "#cursor for running the MySQL in Python Jupyter Notebook\n",
    "\n",
    "cursor = mydb.cursor()"
   ]
  },
  {
   "cell_type": "code",
   "execution_count": 3,
   "metadata": {},
   "outputs": [
    {
     "name": "stdout",
     "output_type": "stream",
     "text": [
      "('abc',)\n",
      "('business',)\n",
      "('cantilever',)\n",
      "('games2win',)\n",
      "('grofers',)\n",
      "('information_schema',)\n",
      "('krish',)\n",
      "('mysql',)\n",
      "('performance_schema',)\n",
      "('pharm_easy',)\n",
      "('sales',)\n",
      "('sys',)\n"
     ]
    }
   ],
   "source": [
    "#\n",
    "\n",
    "cursor.execute('SHOW DATABASES')\n",
    "\n",
    "for database in cursor:\n",
    "    print(database)"
   ]
  },
  {
   "cell_type": "code",
   "execution_count": 4,
   "metadata": {},
   "outputs": [],
   "source": [
    "#\n",
    "\n",
    "sql= \"USE krish\"\n",
    "cursor.execute(sql)"
   ]
  },
  {
   "cell_type": "code",
   "execution_count": 5,
   "metadata": {},
   "outputs": [
    {
     "name": "stdout",
     "output_type": "stream",
     "text": [
      "('bt_dept',)\n"
     ]
    }
   ],
   "source": [
    "#\n",
    "\n",
    "sql= \"SHOW tables\"\n",
    "cursor.execute(sql)\n",
    "\n",
    "for database in cursor:\n",
    "    print(database)"
   ]
  },
  {
   "cell_type": "markdown",
   "metadata": {},
   "source": [
    "### CONCAT(x,y)\n",
    "\n",
    "### CONCAT_WS(' ',x,y)"
   ]
  },
  {
   "cell_type": "code",
   "execution_count": 6,
   "metadata": {},
   "outputs": [
    {
     "name": "stdout",
     "output_type": "stream",
     "text": [
      "('idname',)\n"
     ]
    }
   ],
   "source": [
    "#The CONCAT() function adds two or more expressions together.\n",
    "\n",
    "sql= \"SELECT CONCAT('id', 'name') AS Identity \"\n",
    "cursor.execute(sql)\n",
    "\n",
    "myresult = cursor.fetchall()\n",
    "\n",
    "for x in myresult:\n",
    "  print(x)"
   ]
  },
  {
   "cell_type": "code",
   "execution_count": 7,
   "metadata": {},
   "outputs": [
    {
     "name": "stdout",
     "output_type": "stream",
     "text": [
      "('id name',)\n"
     ]
    }
   ],
   "source": [
    "#The CONCAT_WS() function adds two or more expressions together with a separator.\n",
    "\n",
    "sql= \"SELECT CONCAT_WS(' ','id','name') \"\n",
    "cursor.execute(sql)\n",
    "\n",
    "myresult = cursor.fetchall()\n",
    "\n",
    "for x in myresult:\n",
    "  print(x)"
   ]
  },
  {
   "cell_type": "code",
   "execution_count": null,
   "metadata": {},
   "outputs": [],
   "source": []
  },
  {
   "cell_type": "markdown",
   "metadata": {},
   "source": [
    "### CHAR_LENGTH()\n",
    "*  function return the length of a string (in characters).\n",
    "\n",
    "### CHARACTER_LENGTH()\n",
    "*  function return the length of a string (in characters).\n"
   ]
  },
  {
   "cell_type": "code",
   "execution_count": 8,
   "metadata": {
    "scrolled": false
   },
   "outputs": [
    {
     "name": "stdout",
     "output_type": "stream",
     "text": [
      "(7,)\n"
     ]
    }
   ],
   "source": [
    "# CHAR_LENGTH()- function return the length of a string (in characters).\n",
    "\n",
    "sql= \"SELECT CHAR_LENGTH('namexyx')\"\n",
    "cursor.execute(sql)\n",
    "\n",
    "myresult = cursor.fetchall()\n",
    "\n",
    "for x in myresult:\n",
    "  print(x)"
   ]
  },
  {
   "cell_type": "code",
   "execution_count": 9,
   "metadata": {},
   "outputs": [
    {
     "name": "stdout",
     "output_type": "stream",
     "text": [
      "(4,)\n"
     ]
    }
   ],
   "source": [
    "# CHARACTER_LENGTH() function return the length of a string (in characters). \n",
    "\n",
    "sql= \"SELECT CHARACTER_LENGTH('name') \"\n",
    "cursor.execute(sql)\n",
    "\n",
    "myresult = cursor.fetchall()\n",
    "\n",
    "for x in myresult:\n",
    "  print(x) "
   ]
  },
  {
   "cell_type": "markdown",
   "metadata": {},
   "source": [
    "\n",
    "\n",
    "### INSTR()\n",
    "* The INSTR() function returns the position of the first occurrence of a string in another string.\n",
    "#### Syntax-  INSTR(string1, string2)\n",
    "* string1- The string that will be searched\n",
    "* string2- The string to search for in string1. If string2 is not found, this function returns 0\n",
    "\n",
    "### POSITION\n",
    "* POSITION()- function returns the position of the first occurrence of a substring in a string\n",
    "* Syntax- POSITION(substring IN string)\n",
    "\n",
    "### LOCATE()\n",
    "* The LOCATE() function returns the position of the first occurrence of a substring in a string\n",
    "* Syntax-LOCATE(substring, string, start)\n"
   ]
  },
  {
   "cell_type": "code",
   "execution_count": 10,
   "metadata": {},
   "outputs": [
    {
     "name": "stdout",
     "output_type": "stream",
     "text": [
      "(2,)\n"
     ]
    }
   ],
   "source": [
    "# INSTR()\n",
    "\n",
    "sql= \"SELECT INSTR('W3Schools.com', '3') AS MatchPosition\"  \n",
    "cursor.execute(sql)\n",
    "myresult= cursor.fetchall() \n",
    "\n",
    "for x in myresult:\n",
    "  print(x)"
   ]
  },
  {
   "cell_type": "code",
   "execution_count": 11,
   "metadata": {},
   "outputs": [
    {
     "name": "stdout",
     "output_type": "stream",
     "text": [
      "(2,)\n"
     ]
    }
   ],
   "source": [
    "# LOCATE()\n",
    "\n",
    "sql= \"SELECT LOCATE('3', 'W3Schools.com') AS MatchPosition\"  \n",
    "cursor.execute(sql)\n",
    "myresult= cursor.fetchall() \n",
    "\n",
    "for x in myresult:\n",
    "  print(x)"
   ]
  },
  {
   "cell_type": "code",
   "execution_count": 12,
   "metadata": {},
   "outputs": [
    {
     "name": "stdout",
     "output_type": "stream",
     "text": [
      "(2,)\n"
     ]
    }
   ],
   "source": [
    "# POSITION()\n",
    "\n",
    "sql= \"SELECT POSITION('3' IN 'W3Schools.com') AS MatchPosition\"  \n",
    "cursor.execute(sql)\n",
    "myresult= cursor.fetchall() \n",
    "\n",
    "for x in myresult:\n",
    "  print(x)"
   ]
  },
  {
   "cell_type": "markdown",
   "metadata": {},
   "source": [
    "### INSERT()\n",
    "* The INSERT() function inserts a string within a string at the specified position and for a certain number of characters.\n",
    "#### Syntax-  INSERT(string, position, number, string2)\n",
    "* string- The string that will be modified\n",
    "* position- The position where to insert string2\n",
    "* number- The number of characters to replace\n",
    "* string2- The string to insert into string\n",
    "\n",
    "### REPLACE()\n",
    "* The REPLACE() function replaces all occurrences of a substring within a string, with a new substring.\n",
    "#### Syntax-  REPLACE(string, from_string, new_string)\n",
    "* string- The original string\n",
    "* from_string- The substring to be replaced\n",
    "* new_string- The new replacement substring\n"
   ]
  },
  {
   "cell_type": "code",
   "execution_count": 13,
   "metadata": {},
   "outputs": [
    {
     "name": "stdout",
     "output_type": "stream",
     "text": [
      "('W3Example.com',)\n"
     ]
    }
   ],
   "source": [
    "# INSERT()- The INSERT() function inserts a string within a string at the specified position and for a certain number of characters\n",
    "\n",
    "sql= \"SELECT INSERT('W3Schools.com', 3, 7, 'Example')\"  \n",
    "cursor.execute(sql)\n",
    "myresult= cursor.fetchall() \n",
    "\n",
    "for x in myresult:\n",
    "  print(x)"
   ]
  },
  {
   "cell_type": "code",
   "execution_count": 14,
   "metadata": {},
   "outputs": [
    {
     "name": "stdout",
     "output_type": "stream",
     "text": [
      "('    Kr7sh Bhowm7ck    ',)\n"
     ]
    }
   ],
   "source": [
    "# REPLACE()- The REPLACE() function replaces all occurrences of a substring within a string, with a new substring\n",
    "\n",
    "sql= \"SELECT REPLACE('    Krish Bhowmick    ','i','7') AS TrimmedString\"  \n",
    "cursor.execute(sql)\n",
    "myresult= cursor.fetchall() \n",
    "\n",
    "for x in myresult:\n",
    "  print(x)"
   ]
  },
  {
   "cell_type": "markdown",
   "metadata": {},
   "source": [
    "### TRIM()\n",
    "*  Remove leading and trailing spaces from a string\n",
    "\n",
    "### RTRIM()\n",
    "*  Remove trailing spaces from a string\n",
    "\n",
    "### LTRIM()\n",
    "*  Remove leading spaces from a string"
   ]
  },
  {
   "cell_type": "code",
   "execution_count": 15,
   "metadata": {},
   "outputs": [
    {
     "name": "stdout",
     "output_type": "stream",
     "text": [
      "('Krish Bhowmick',)\n"
     ]
    }
   ],
   "source": [
    "# TRIM()\n",
    "\n",
    "sql= \"SELECT TRIM('    Krish Bhowmick    ') AS TrimmedString\"  \n",
    "cursor.execute(sql)\n",
    "myresult= cursor.fetchall() \n",
    "\n",
    "for x in myresult:\n",
    "  print(x)"
   ]
  },
  {
   "cell_type": "code",
   "execution_count": 16,
   "metadata": {},
   "outputs": [
    {
     "name": "stdout",
     "output_type": "stream",
     "text": [
      "('    Krish Bhowmick',)\n"
     ]
    }
   ],
   "source": [
    "# RTRIM()\n",
    "\n",
    "sql= \"SELECT RTRIM('    Krish Bhowmick    ') AS TrimmedString\"  \n",
    "cursor.execute(sql)\n",
    "myresult= cursor.fetchall() \n",
    "\n",
    "for x in myresult:\n",
    "  print(x)"
   ]
  },
  {
   "cell_type": "code",
   "execution_count": 17,
   "metadata": {},
   "outputs": [
    {
     "name": "stdout",
     "output_type": "stream",
     "text": [
      "('Krish Bhowmick    ',)\n"
     ]
    }
   ],
   "source": [
    "# LTRIM()\n",
    "\n",
    "sql= \"SELECT LTRIM('    Krish Bhowmick    ') AS TrimmedString\"  \n",
    "cursor.execute(sql)\n",
    "myresult= cursor.fetchall() \n",
    "\n",
    "for x in myresult:\n",
    "  print(x)"
   ]
  },
  {
   "cell_type": "markdown",
   "metadata": {},
   "source": [
    "### LEFT(string, number_of_chars) \n",
    "* Extract x characters from a string (starting from left)\n",
    "\n",
    "### RIGHT(string, number_of_chars) \n",
    "* Extract x characters from a string (starting from right)\n",
    "\n",
    "### MID()\n",
    "* The MID() function extracts a substring from a string (starting at any position).\n",
    "#### Syntax- MID(string, start, length)\n",
    "* string- The string to extract from\n",
    "* start- The start position. Can be both a positive or negative number. If it is a positive number, this function extracts from the beginning of the string. If it is a negative number, this function extracts from the end of the string\n",
    "* length- The number of characters to extract\n",
    "\n",
    "\n"
   ]
  },
  {
   "cell_type": "code",
   "execution_count": 18,
   "metadata": {},
   "outputs": [
    {
     "name": "stdout",
     "output_type": "stream",
     "text": [
      "('GRO',)\n"
     ]
    }
   ],
   "source": [
    "# LEFT()\n",
    "\n",
    "sql= \"SELECT LEFT('GRO1234',3) as a\"  \n",
    "cursor.execute(sql)\n",
    "myresult= cursor.fetchall() \n",
    "\n",
    "for x in myresult:\n",
    "  print(x)"
   ]
  },
  {
   "cell_type": "code",
   "execution_count": 19,
   "metadata": {},
   "outputs": [
    {
     "name": "stdout",
     "output_type": "stream",
     "text": [
      "('1234',)\n"
     ]
    }
   ],
   "source": [
    "# RIGHT()\n",
    "\n",
    "sql= \"SELECT RIGHT('GRO1234',4) as a\"  \n",
    "cursor.execute(sql)\n",
    "myresult= cursor.fetchall() \n",
    "\n",
    "for x in myresult:\n",
    "  print(x)"
   ]
  },
  {
   "cell_type": "code",
   "execution_count": 20,
   "metadata": {},
   "outputs": [
    {
     "name": "stdout",
     "output_type": "stream",
     "text": [
      "('ori',)\n"
     ]
    }
   ],
   "source": [
    "# MID()\n",
    "\n",
    "sql= \"SELECT MID('SQLTutorial', -5, 3) AS ExtractString;\"  \n",
    "cursor.execute(sql)\n",
    "myresult= cursor.fetchall() \n",
    "\n",
    "for x in myresult:\n",
    "  print(x)"
   ]
  },
  {
   "cell_type": "markdown",
   "metadata": {},
   "source": [
    "### SUBSTRING()\n",
    "* The SUBSTRING() function extracts a substring from a string (starting at any position).\n",
    "#### Syntax- SUBSTRING(string, start, length)\n",
    "* string- The string to extract from\n",
    "* start- The start position. Can be both a positive or negative number. If it is a positive number, this function extracts from the beginning of the string. If it is a negative number, this function extracts from the end of the string\n",
    "* length- The number of characters to extract. If omitted, the whole string will be returned (from the start position)\n",
    "\n",
    "### SUBSTR()\n",
    "* The SUBSTR() function extracts a substring from a string (starting at any position)\n",
    "#### SUBSTR(string, start, length)    OR    SUBSTR(string FROM start FOR length)\n",
    "* string- The string to extract from\n",
    "* start- The start position. Can be both a positive or negative number. If it is a positive number, this function extracts from the beginning of the string. If it is a negative number, this function extracts from the end of the string\n",
    "* length- The number of characters to extract. If omitted, the whole string will be returned (from the start position)\n",
    "\n",
    "### SUBSTRING_INDEX()\n",
    "* The SUBSTRING_INDEX() function returns a substring of a string before a specified number of delimiter occurs.\n",
    "#### Syntax-  SUBSTRING_INDEX(string, delimiter, number)\n",
    "* string- The original string\n",
    "* delimiter- The delimiter to search for\n",
    "* number- The number of times to search for the delimiter. Can be both a positive or negative number. If it is a positive number, this function returns all to the left of the delimiter. If it is a negative number, this function returns all to the right of the delimiter."
   ]
  },
  {
   "cell_type": "code",
   "execution_count": 21,
   "metadata": {},
   "outputs": [
    {
     "name": "stdout",
     "output_type": "stream",
     "text": [
      "('1234',)\n"
     ]
    }
   ],
   "source": [
    "# SUBSTRING()\n",
    "\n",
    "sql= \"SELECT substring('GRO1234',4,4) as a\"  # \n",
    "cursor.execute(sql)\n",
    "myresult= cursor.fetchall() \n",
    "\n",
    "for x in myresult:\n",
    "  print(x)"
   ]
  },
  {
   "cell_type": "code",
   "execution_count": 22,
   "metadata": {},
   "outputs": [
    {
     "name": "stdout",
     "output_type": "stream",
     "text": [
      "('Tutorial',)\n"
     ]
    }
   ],
   "source": [
    "# SUBSTR()\n",
    "\n",
    "sql= \"SELECT SUBSTR('SQLTutorial', 4,8) AS ExtractString;\"  \n",
    "cursor.execute(sql)\n",
    "myresult= cursor.fetchall() \n",
    "\n",
    "for x in myresult:\n",
    "  print(x)"
   ]
  },
  {
   "cell_type": "code",
   "execution_count": 23,
   "metadata": {},
   "outputs": [
    {
     "name": "stdout",
     "output_type": "stream",
     "text": [
      "('ori',)\n"
     ]
    }
   ],
   "source": [
    "# SUBSTR()\n",
    "\n",
    "sql= \"SELECT SUBSTR('SQL Tutorial', -5, 3) AS ExtractString;\"\n",
    "cursor.execute(sql)\n",
    "myresult= cursor.fetchall() \n",
    "\n",
    "for x in myresult:\n",
    "  print(x)"
   ]
  },
  {
   "cell_type": "code",
   "execution_count": 24,
   "metadata": {},
   "outputs": [
    {
     "name": "stdout",
     "output_type": "stream",
     "text": [
      "('w3schools.com',)\n"
     ]
    }
   ],
   "source": [
    "# SUBSTRING_INDEX()\n",
    "\n",
    "sql= \"SELECT SUBSTRING_INDEX('www.w3schools.com', '.', -2)\"  \n",
    "cursor.execute(sql)\n",
    "myresult= cursor.fetchall() \n",
    "\n",
    "for x in myresult:\n",
    "  print(x)"
   ]
  },
  {
   "cell_type": "markdown",
   "metadata": {},
   "source": [
    "### LCASE() \n",
    "* Convert the text to lower-case\n",
    "\n",
    "### LOWER()\n",
    "* Convert the text to lower-case\n",
    "\n",
    "### UCASE()\n",
    "* Convert the text to upper-case\n",
    "\n",
    "### UPPER()\n",
    "* Convert the text to upper-case\n"
   ]
  },
  {
   "cell_type": "code",
   "execution_count": 25,
   "metadata": {},
   "outputs": [
    {
     "name": "stdout",
     "output_type": "stream",
     "text": [
      "('my name is krish bhowmick',)\n"
     ]
    }
   ],
   "source": [
    "# LCASE()\n",
    "\n",
    "sql= \"SELECT LCASE('My Name is Krish Bhowmick') AS aa\"  \n",
    "cursor.execute(sql)\n",
    "myresult= cursor.fetchall() \n",
    "\n",
    "for x in myresult:\n",
    "  print(x)"
   ]
  },
  {
   "cell_type": "code",
   "execution_count": 26,
   "metadata": {},
   "outputs": [
    {
     "name": "stdout",
     "output_type": "stream",
     "text": [
      "('my name is krish bhowmick',)\n"
     ]
    }
   ],
   "source": [
    "# LOWER()\n",
    "\n",
    "sql= \"SELECT LOWER('My Name is Krish Bhowmick') AS aa\"  \n",
    "cursor.execute(sql)\n",
    "myresult= cursor.fetchall() \n",
    "\n",
    "for x in myresult:\n",
    "  print(x)"
   ]
  },
  {
   "cell_type": "code",
   "execution_count": 27,
   "metadata": {},
   "outputs": [
    {
     "name": "stdout",
     "output_type": "stream",
     "text": [
      "('MY NAME IS KRISH BHOWMICK',)\n"
     ]
    }
   ],
   "source": [
    "# UCASE()\n",
    "\n",
    "sql= \"SELECT UCASE('My Name is Krish Bhowmick') AS aa\"  \n",
    "cursor.execute(sql)\n",
    "myresult= cursor.fetchall() \n",
    "\n",
    "for x in myresult:\n",
    "  print(x)"
   ]
  },
  {
   "cell_type": "code",
   "execution_count": 28,
   "metadata": {},
   "outputs": [
    {
     "name": "stdout",
     "output_type": "stream",
     "text": [
      "('MY NAME IS KRISH BHOWMICK',)\n"
     ]
    }
   ],
   "source": [
    "# UPPER()\n",
    "\n",
    "sql= \"SELECT UPPER('My Name is Krish Bhowmick') AS aa\"  \n",
    "cursor.execute(sql)\n",
    "myresult= cursor.fetchall() \n",
    "\n",
    "for x in myresult:\n",
    "  print(x)"
   ]
  },
  {
   "cell_type": "markdown",
   "metadata": {},
   "source": [
    "### RPAD()\n",
    "* The RPAD() function right-pads a string with another string, to a certain length.\n",
    "#### Syntax- RPAD(string, length, rpad_string)\n",
    "* string-\tRequired. The original string. If the length of the original string is larger than the length parameter, this function removes the overfloating characters from string\n",
    "* length-\tRequired. The length of the string after it has been right-padded\n",
    "* rpad_string-\tRequired. The string to right-pad to string\n",
    "\n",
    "### LPAD()\n",
    "* the LPAD() function left-pads a string with another string, to a certain length.\n",
    "#### Syntax- LPAD(string, length, lpad_string)\n",
    "* string- The original string. If the length of the original string is larger than the length parameter, this function removes the overfloating characters from string\n",
    "* length- The length of the string after it has been left-padded\n",
    "* lpad_string- The string to left-pad to string\n",
    "\n",
    "### REVERSE(x)-   \n",
    "* Reverses a string and returns the result\n",
    "\n",
    "\n"
   ]
  },
  {
   "cell_type": "code",
   "execution_count": 29,
   "metadata": {},
   "outputs": [
    {
     "name": "stdout",
     "output_type": "stream",
     "text": [
      "('SQL Tutorial--------',)\n"
     ]
    }
   ],
   "source": [
    "# RPAD()\n",
    "\n",
    "sql= \"SELECT RPAD('SQL Tutorial', 20, '-') \"  \n",
    "cursor.execute(sql)\n",
    "myresult= cursor.fetchall() \n",
    "\n",
    "for x in myresult:\n",
    "  print(x)"
   ]
  },
  {
   "cell_type": "code",
   "execution_count": 30,
   "metadata": {},
   "outputs": [
    {
     "name": "stdout",
     "output_type": "stream",
     "text": [
      "('--------SQL Tutorial',)\n"
     ]
    }
   ],
   "source": [
    "# LPAD()\n",
    "\n",
    "sql= \"SELECT LPAD('SQL Tutorial', 20, '-')\"  \n",
    "cursor.execute(sql)\n",
    "myresult= cursor.fetchall() \n",
    "\n",
    "for x in myresult:\n",
    "  print(x)"
   ]
  },
  {
   "cell_type": "code",
   "execution_count": 31,
   "metadata": {},
   "outputs": [
    {
     "name": "stdout",
     "output_type": "stream",
     "text": [
      "('KCIMWOHB UDNENHSIRK SI EMAN YM',)\n"
     ]
    }
   ],
   "source": [
    "# REVERSE()\n",
    "\n",
    "sql= \"SELECT REVERSE('MY NAME IS KRISHNENDU BHOWMICK')\"  \n",
    "cursor.execute(sql)\n",
    "myresult= cursor.fetchall() \n",
    "\n",
    "for x in myresult:\n",
    "  print(x)"
   ]
  },
  {
   "cell_type": "code",
   "execution_count": 32,
   "metadata": {},
   "outputs": [
    {
     "name": "stdout",
     "output_type": "stream",
     "text": [
      "(97,)\n"
     ]
    }
   ],
   "source": [
    "# ASCII()- The ASCII() function returns the ASCII value for the specific character.\n",
    "\n",
    "sql= \"SELECT ASCII('aaf')\"\n",
    "cursor.execute(sql)\n",
    "\n",
    "myresult = cursor.fetchall()\n",
    "\n",
    "for x in myresult:\n",
    "  print(x)"
   ]
  },
  {
   "cell_type": "code",
   "execution_count": null,
   "metadata": {},
   "outputs": [],
   "source": []
  },
  {
   "cell_type": "code",
   "execution_count": null,
   "metadata": {},
   "outputs": [],
   "source": []
  }
 ],
 "metadata": {
  "kernelspec": {
   "display_name": "Python 3",
   "language": "python",
   "name": "python3"
  },
  "language_info": {
   "codemirror_mode": {
    "name": "ipython",
    "version": 3
   },
   "file_extension": ".py",
   "mimetype": "text/x-python",
   "name": "python",
   "nbconvert_exporter": "python",
   "pygments_lexer": "ipython3",
   "version": "3.8.5"
  }
 },
 "nbformat": 4,
 "nbformat_minor": 4
}
