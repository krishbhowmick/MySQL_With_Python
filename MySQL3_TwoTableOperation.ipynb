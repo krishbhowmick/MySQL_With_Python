{
 "cells": [
  {
   "cell_type": "code",
   "execution_count": 1,
   "metadata": {},
   "outputs": [
    {
     "name": "stdout",
     "output_type": "stream",
     "text": [
      "<mysql.connector.connection_cext.CMySQLConnection object at 0x000002F4776E07C0>\n"
     ]
    }
   ],
   "source": [
    "#Creating Databases in MySQL\n",
    "import mysql.connector\n",
    "\n",
    "mydb = mysql.connector.connect(\n",
    "  host=\"localhost\",\n",
    "  user=\"root\",\n",
    "  password=\"#meKRISH30\"\n",
    ")\n",
    "\n",
    "print(mydb)"
   ]
  },
  {
   "cell_type": "code",
   "execution_count": 2,
   "metadata": {},
   "outputs": [],
   "source": [
    "#cursor for running the MySQL in Python Jupyter Notebook\n",
    "\n",
    "cursor = mydb.cursor()"
   ]
  },
  {
   "cell_type": "code",
   "execution_count": 11,
   "metadata": {},
   "outputs": [
    {
     "name": "stdout",
     "output_type": "stream",
     "text": [
      "('abc',)\n",
      "('business',)\n",
      "('cantilever',)\n",
      "('games2win',)\n",
      "('grofers',)\n",
      "('information_schema',)\n",
      "('krish',)\n",
      "('mysql',)\n",
      "('performance_schema',)\n",
      "('pharm_easy',)\n",
      "('sales',)\n",
      "('sys',)\n"
     ]
    }
   ],
   "source": [
    "#\n",
    "\n",
    "cursor.execute('SHOW DATABASES')\n",
    "\n",
    "for database in cursor:\n",
    "    print(database)"
   ]
  },
  {
   "cell_type": "code",
   "execution_count": 12,
   "metadata": {},
   "outputs": [],
   "source": [
    "# use database\n",
    "\n",
    "cursor.execute('USE pharm_easy')"
   ]
  },
  {
   "cell_type": "code",
   "execution_count": 13,
   "metadata": {},
   "outputs": [],
   "source": [
    "# sql_mode=only_full_group_by\n",
    "\n",
    "sql= \"SET sql_mode=(SELECT REPLACE(@@sql_mode,'ONLY_FULL_GROUP_BY',''))\"\n",
    "cursor.execute(sql)\n",
    "mydb.commit()"
   ]
  },
  {
   "cell_type": "markdown",
   "metadata": {},
   "source": [
    "# JOIN\n",
    "* A JOIN clause is used to combine rows from two or more tables, based on a related column between them.\n",
    "### Different Types of SQL JOINs\n",
    "* (INNER) JOIN: Returns records that have matching values in both tables\n",
    "* LEFT (OUTER) JOIN: Returns all records from the left table, and the matched records from the right table\n",
    "* RIGHT (OUTER) JOIN: Returns all records from the right table, and the matched records from the left table\n",
    "* FULL (OUTER) JOIN: Returns all records when there is a match in either left or right table\n",
    "##### INNER JOIN Syntax\n",
    "* SELECT column_name(s)\n",
    "* FROM table1\n",
    "* INNER JOIN table2\n",
    "* ON table1.column_name = table2.column_name;\n",
    "##### LEFT JOIN Syntax\n",
    "* SELECT column_name(s)\n",
    "* FROM table1\n",
    "* LEFT JOIN table2\n",
    "* ON table1.column_name = table2.column_name;\n",
    "#### RIGHT JOIN Syntax\n",
    "* SELECT column_name(s)\n",
    "* FROM table1\n",
    "* RIGHT JOIN table2\n",
    "* ON table1.column_name = table2.column_name;\n",
    "##### FULL OUTER JOIN Syntax\n",
    "* SELECT column_name(s)\n",
    "* FROM table1\n",
    "* FULL OUTER JOIN table2\n",
    "* ON table1.column_name = table2.column_name\n",
    "* WHERE condition;"
   ]
  },
  {
   "cell_type": "code",
   "execution_count": 14,
   "metadata": {},
   "outputs": [
    {
     "name": "stdout",
     "output_type": "stream",
     "text": [
      "('1101', 'Debabrata', 'Maiti', 'BRAK', '1101', '1102', '2010-04-21 13:35:20')\n",
      "('1101', 'Debabrata', 'Maiti', 'BRAK', '1101', '1105', '2014-07-27 12:35:50')\n",
      "('1101', 'Debabrata', 'Maiti', 'BRAK', '1101', '1110', '2018-01-27 18:15:20')\n",
      "('1101', 'Debabrata', 'Maiti', 'BRAK', '1101', '1115', '2016-07-07 19:45:40')\n",
      "('1102', 'Anil', 'Sethi', 'BRAK', '1102', '1116', '2018-04-16 20:05:20')\n",
      "('1102', 'Anil', 'Sethi', 'BRAK', '1102', '1109', '2015-11-19 22:45:20')\n",
      "('1102', 'Anil', 'Sethi', 'BRAK', '1102', '1106', '2013-03-13 23:42:20')\n",
      "('1102', 'Anil', 'Sethi', 'BRAK', '1102', '1103', '2011-09-15 13:22:40')\n"
     ]
    }
   ],
   "source": [
    "#3.1.1 # INNER JOIN\n",
    "\n",
    "sql= \"SELECT * FROM users as A INNER JOIN follows as B ON A.user_id=B.id\"\n",
    "cursor.execute(sql)\n",
    "\n",
    "myresult = cursor.fetchall()\n",
    "\n",
    "for x in myresult:\n",
    "  print(x)"
   ]
  },
  {
   "cell_type": "code",
   "execution_count": 15,
   "metadata": {},
   "outputs": [
    {
     "name": "stdout",
     "output_type": "stream",
     "text": [
      "('1101', 'Debabrata', 'Maiti', 'BRAK', '1101', '1102', '2010-04-21 13:35:20')\n",
      "('1101', 'Debabrata', 'Maiti', 'BRAK', '1101', '1105', '2014-07-27 12:35:50')\n",
      "('1101', 'Debabrata', 'Maiti', 'BRAK', '1101', '1110', '2018-01-27 18:15:20')\n",
      "('1101', 'Debabrata', 'Maiti', 'BRAK', '1101', '1115', '2016-07-07 19:45:40')\n",
      "('1102', 'Anil', 'Sethi', 'BRAK', '1102', '1116', '2018-04-16 20:05:20')\n",
      "('1102', 'Anil', 'Sethi', 'BRAK', '1102', '1109', '2015-11-19 22:45:20')\n",
      "('1102', 'Anil', 'Sethi', 'BRAK', '1102', '1106', '2013-03-13 23:42:20')\n",
      "('1102', 'Anil', 'Sethi', 'BRAK', '1102', '1103', '2011-09-15 13:22:40')\n"
     ]
    }
   ],
   "source": [
    "#3.1.2 #RIGHT JOIN\n",
    "\n",
    "sql= \"SELECT * FROM users as A RIGHT JOIN follows as B ON A.user_id=B.id\"\n",
    "cursor.execute(sql)\n",
    "\n",
    "myresult = cursor.fetchall()\n",
    "\n",
    "for x in myresult:\n",
    "  print(x)"
   ]
  },
  {
   "cell_type": "code",
   "execution_count": 16,
   "metadata": {},
   "outputs": [
    {
     "ename": "ProgrammingError",
     "evalue": "1054 (42S22): Unknown column 'B.user_id' in 'on clause'",
     "output_type": "error",
     "traceback": [
      "\u001b[1;31m---------------------------------------------------------------------------\u001b[0m",
      "\u001b[1;31mMySQLInterfaceError\u001b[0m                       Traceback (most recent call last)",
      "\u001b[1;32mC:\\DataScience\\Anaconda_Python\\lib\\site-packages\\mysql\\connector\\connection_cext.py\u001b[0m in \u001b[0;36mcmd_query\u001b[1;34m(self, query, raw, buffered, raw_as_string)\u001b[0m\n\u001b[0;32m    506\u001b[0m                 \u001b[0mquery\u001b[0m \u001b[1;33m=\u001b[0m \u001b[0mquery\u001b[0m\u001b[1;33m.\u001b[0m\u001b[0mencode\u001b[0m\u001b[1;33m(\u001b[0m\u001b[1;34m'utf-8'\u001b[0m\u001b[1;33m)\u001b[0m\u001b[1;33m\u001b[0m\u001b[1;33m\u001b[0m\u001b[0m\n\u001b[1;32m--> 507\u001b[1;33m             self._cmysql.query(query,\n\u001b[0m\u001b[0;32m    508\u001b[0m                                \u001b[0mraw\u001b[0m\u001b[1;33m=\u001b[0m\u001b[0mraw\u001b[0m\u001b[1;33m,\u001b[0m \u001b[0mbuffered\u001b[0m\u001b[1;33m=\u001b[0m\u001b[0mbuffered\u001b[0m\u001b[1;33m,\u001b[0m\u001b[1;33m\u001b[0m\u001b[1;33m\u001b[0m\u001b[0m\n",
      "\u001b[1;31mMySQLInterfaceError\u001b[0m: Unknown column 'B.user_id' in 'on clause'",
      "\nDuring handling of the above exception, another exception occurred:\n",
      "\u001b[1;31mProgrammingError\u001b[0m                          Traceback (most recent call last)",
      "\u001b[1;32m<ipython-input-16-aa2d5395c2f2>\u001b[0m in \u001b[0;36m<module>\u001b[1;34m\u001b[0m\n\u001b[0;32m      2\u001b[0m \u001b[1;33m\u001b[0m\u001b[0m\n\u001b[0;32m      3\u001b[0m \u001b[0msql\u001b[0m\u001b[1;33m=\u001b[0m \u001b[1;34m\"SELECT * FROM users as A LEFT JOIN follows as B ON A.user_id=B.user_id\"\u001b[0m\u001b[1;33m\u001b[0m\u001b[1;33m\u001b[0m\u001b[0m\n\u001b[1;32m----> 4\u001b[1;33m \u001b[0mcursor\u001b[0m\u001b[1;33m.\u001b[0m\u001b[0mexecute\u001b[0m\u001b[1;33m(\u001b[0m\u001b[0msql\u001b[0m\u001b[1;33m)\u001b[0m\u001b[1;33m\u001b[0m\u001b[1;33m\u001b[0m\u001b[0m\n\u001b[0m\u001b[0;32m      5\u001b[0m \u001b[1;33m\u001b[0m\u001b[0m\n\u001b[0;32m      6\u001b[0m \u001b[0mmyresult\u001b[0m \u001b[1;33m=\u001b[0m \u001b[0mcursor\u001b[0m\u001b[1;33m.\u001b[0m\u001b[0mfetchall\u001b[0m\u001b[1;33m(\u001b[0m\u001b[1;33m)\u001b[0m\u001b[1;33m\u001b[0m\u001b[1;33m\u001b[0m\u001b[0m\n",
      "\u001b[1;32mC:\\DataScience\\Anaconda_Python\\lib\\site-packages\\mysql\\connector\\cursor_cext.py\u001b[0m in \u001b[0;36mexecute\u001b[1;34m(self, operation, params, multi)\u001b[0m\n\u001b[0;32m    272\u001b[0m \u001b[1;33m\u001b[0m\u001b[0m\n\u001b[0;32m    273\u001b[0m         \u001b[1;32mtry\u001b[0m\u001b[1;33m:\u001b[0m\u001b[1;33m\u001b[0m\u001b[1;33m\u001b[0m\u001b[0m\n\u001b[1;32m--> 274\u001b[1;33m             result = self._cnx.cmd_query(stmt, raw=self._raw,\n\u001b[0m\u001b[0;32m    275\u001b[0m                                          \u001b[0mbuffered\u001b[0m\u001b[1;33m=\u001b[0m\u001b[0mself\u001b[0m\u001b[1;33m.\u001b[0m\u001b[0m_buffered\u001b[0m\u001b[1;33m,\u001b[0m\u001b[1;33m\u001b[0m\u001b[1;33m\u001b[0m\u001b[0m\n\u001b[0;32m    276\u001b[0m                                          raw_as_string=self._raw_as_string)\n",
      "\u001b[1;32mC:\\DataScience\\Anaconda_Python\\lib\\site-packages\\mysql\\connector\\connection_cext.py\u001b[0m in \u001b[0;36mcmd_query\u001b[1;34m(self, query, raw, buffered, raw_as_string)\u001b[0m\n\u001b[0;32m    509\u001b[0m                                raw_as_string=raw_as_string)\n\u001b[0;32m    510\u001b[0m         \u001b[1;32mexcept\u001b[0m \u001b[0mMySQLInterfaceError\u001b[0m \u001b[1;32mas\u001b[0m \u001b[0mexc\u001b[0m\u001b[1;33m:\u001b[0m\u001b[1;33m\u001b[0m\u001b[1;33m\u001b[0m\u001b[0m\n\u001b[1;32m--> 511\u001b[1;33m             raise errors.get_mysql_exception(exc.errno, msg=exc.msg,\n\u001b[0m\u001b[0;32m    512\u001b[0m                                              sqlstate=exc.sqlstate)\n\u001b[0;32m    513\u001b[0m         \u001b[1;32mexcept\u001b[0m \u001b[0mAttributeError\u001b[0m\u001b[1;33m:\u001b[0m\u001b[1;33m\u001b[0m\u001b[1;33m\u001b[0m\u001b[0m\n",
      "\u001b[1;31mProgrammingError\u001b[0m: 1054 (42S22): Unknown column 'B.user_id' in 'on clause'"
     ]
    }
   ],
   "source": [
    "#3.1.3 #LEFT JOIN\n",
    "\n",
    "sql= \"SELECT * FROM users as A LEFT JOIN follows as B ON A.user_id=B.user_id\"\n",
    "cursor.execute(sql)\n",
    "\n",
    "myresult = cursor.fetchall()\n",
    "\n",
    "for x in myresult:\n",
    "  print(x)"
   ]
  },
  {
   "cell_type": "code",
   "execution_count": 17,
   "metadata": {},
   "outputs": [
    {
     "data": {
      "text/plain": [
       "'\\nsql= \"SELECT * FROM users as A FULL JOIN follows as B ON A.user_id=B.id\"\\ncursor.execute(sql)\\n\\nmyresult = cursor.fetchall()\\n\\nfor x in myresult:\\n  print(x) '"
      ]
     },
     "execution_count": 17,
     "metadata": {},
     "output_type": "execute_result"
    }
   ],
   "source": [
    "#3.1.4 FULL OUTER JOIN\n",
    "\"\"\"\n",
    "sql= \"SELECT * FROM users as A FULL JOIN follows as B ON A.user_id=B.id\"\n",
    "cursor.execute(sql)\n",
    "\n",
    "myresult = cursor.fetchall()\n",
    "\n",
    "for x in myresult:\n",
    "  print(x) \"\"\""
   ]
  },
  {
   "cell_type": "code",
   "execution_count": 18,
   "metadata": {},
   "outputs": [],
   "source": [
    "#SELF JOIN\n"
   ]
  },
  {
   "cell_type": "markdown",
   "metadata": {},
   "source": [
    "#  UNION (join two table colume wise)\n",
    "* The UNION operator is used to **combine the result-set of two or more SELECT statements**.\n",
    "** Each SELECT statement within UNION must have the same number of columns\n",
    "** The columns must also have similar data types\n",
    "** The columns in each SELECT statement must also be in the same order\n",
    "\n",
    "#### UNION Syntax-- The UNION operator selects only distinct values by default with sorted.\n",
    "* SELECT column_name(s) FROM table1\n",
    "* UNION\n",
    "* SELECT column_name(s) FROM table2;\n",
    "\n",
    "#### UNION ALL Syntax-- It allow duplicate values, use UNION ALL:\n",
    "* SELECT column_name(s) FROM table1\n",
    "* UNION ALL\n",
    "* SELECT column_name(s) FROM table2;\n",
    "\n",
    "##### EXAMPLE\n",
    "* 1st table -- NAME(s) | AGE(i) | SEX(s)\n",
    "* 2nd table-- COMP(s) | NUM(i) | ADD(s)"
   ]
  },
  {
   "cell_type": "code",
   "execution_count": 19,
   "metadata": {},
   "outputs": [
    {
     "data": {
      "text/plain": [
       "'\\nsql= \"SELECT *  FROM customers UNION SELECT * FROM orders \"\\ncursor.execute(sql)\\n\\nmyresult = cursor.fetchall()\\n\\nfor x in myresult:\\n  print(x) '"
      ]
     },
     "execution_count": 19,
     "metadata": {},
     "output_type": "execute_result"
    }
   ],
   "source": [
    "#3.2 #UNION\n",
    "\"\"\"\n",
    "sql= \"SELECT *  FROM customers UNION SELECT * FROM orders \"\n",
    "cursor.execute(sql)\n",
    "\n",
    "myresult = cursor.fetchall()\n",
    "\n",
    "for x in myresult:\n",
    "  print(x) \"\"\""
   ]
  },
  {
   "cell_type": "markdown",
   "metadata": {},
   "source": [
    "# EXISTS\n",
    "* The MySQL EXISTS condition is used in combination with a subquery and is considered \"to be met\" if the subquery returns at least one row. It can be used in a SELECT, INSERT, UPDATE, or DELETE statement.\n",
    "* The EXISTS operator is used to test for the existence of any record in a subquery.\n",
    "* The EXISTS operator returns true if the subquery returns one or more records.\n",
    "#### EXISTS Syntax\n",
    "* SELECT column_name(s)\n",
    "* FROM table_name\n",
    "* WHERE EXISTS (SELECT column_name FROM table_name WHERE condition);"
   ]
  },
  {
   "cell_type": "code",
   "execution_count": 20,
   "metadata": {},
   "outputs": [
    {
     "data": {
      "text/plain": [
       "'\\nsql= \"SELECT customerName FROM customers WHERE EXISTS (SELECT OrderDate FROM orders WHERE customers.CustomerID= orders.CustomerID AND ShipperID=\\'4\\')  \"\\ncursor.execute(sql)\\n\\nmyresult = cursor.fetchall()\\n\\nfor x in myresult:\\n  print(x)\\n'"
      ]
     },
     "execution_count": 20,
     "metadata": {},
     "output_type": "execute_result"
    }
   ],
   "source": [
    "#3.3 #\n",
    "\"\"\"\n",
    "sql= \"SELECT customerName FROM customers WHERE EXISTS (SELECT OrderDate FROM orders WHERE customers.CustomerID= orders.CustomerID AND ShipperID='4')  \"\n",
    "cursor.execute(sql)\n",
    "\n",
    "myresult = cursor.fetchall()\n",
    "\n",
    "for x in myresult:\n",
    "  print(x)\n",
    "\"\"\""
   ]
  },
  {
   "cell_type": "code",
   "execution_count": 21,
   "metadata": {},
   "outputs": [
    {
     "data": {
      "text/plain": [
       "'\\nsql= \"SELECT customerName FROM customers WHERE EXISTS (SELECT OrderDate FROM orders WHERE customers.CustomerID= orders.CustomerID AND ShipperID=\\'4\\')  \"\\ncursor.execute(sql)\\n\\nmyresult = cursor.fetchall()\\n\\nfor x in myresult:\\n  print(x) '"
      ]
     },
     "execution_count": 21,
     "metadata": {},
     "output_type": "execute_result"
    }
   ],
   "source": [
    "#\n",
    "\"\"\"\n",
    "sql= \"SELECT customerName FROM customers WHERE EXISTS (SELECT OrderDate FROM orders WHERE customers.CustomerID= orders.CustomerID AND ShipperID='4')  \"\n",
    "cursor.execute(sql)\n",
    "\n",
    "myresult = cursor.fetchall()\n",
    "\n",
    "for x in myresult:\n",
    "  print(x) \"\"\""
   ]
  },
  {
   "cell_type": "markdown",
   "metadata": {},
   "source": [
    "# HAVING- (WHERE with **aggregate** functions)\n",
    "* WHERE Clause is used to filter the records **from the table** based on the specified condition.\n",
    "* HAVING Clause is used to filter record **from the groups** based on the specified condition.\n",
    "* .\n",
    "* MySQL HAVING Clause is used with GROUP BY clause. It always returns the rows where condition is TRUE.\n",
    "* The HAVING clause was added to SQL because the WHERE keyword could not be used with **aggregate** functions.\n",
    "#### HAVING Syntax\n",
    "* SELECT expression1, expression2, expression_n, aggregate_function (expression)  \n",
    "* FROM tables  \n",
    "* [WHERE conditions]  \n",
    "* GROUP BY expression1, expression2, ... expression_n  \n",
    "* HAVING condition; \n",
    "**Note-** The HAVING clause is only useful when you use it with the GROUP BY clause to generate the output of the high-level reports."
   ]
  },
  {
   "cell_type": "code",
   "execution_count": 22,
   "metadata": {},
   "outputs": [
    {
     "name": "stdout",
     "output_type": "stream",
     "text": [
      "('1404', 'Krish Nendu', '70000', 'Prof', '27')\n",
      "('1411', 'Amitosh', '40000', 'Doct', '27')\n",
      "('1403', 'Tilak Maiti', '40000', 'Prof', '29')\n",
      "('1416', 'Moinag', '29000', 'Techer', '29')\n",
      "('1410', 'Samares', '20000', 'Doct', '35')\n",
      "('1413', 'Tripti', '40000', 'Techer', '35')\n",
      "('1408', 'Samu', '80000', 'Engineer', '58')\n",
      "('1415', 'Hedu', '60000', 'Techer', '58')\n"
     ]
    }
   ],
   "source": [
    "#3.6 #HAVING\n",
    "# # How many are copyed/repetative and what are those values.\n",
    "\n",
    "sql= \"select a.id,a.name,a.salary,a.dept,a.age from employees as a inner join (select age, count(age) from employees group by age having count(age)>1) as b on a.age=b.age order by age\"  \n",
    "cursor.execute(sql)\n",
    "myresult= cursor.fetchall()    #fetchall() method, which fetches all rows from the last executed statement.\n",
    "\n",
    "for x in myresult:\n",
    "  print(x)\n",
    "\n",
    "#select A.name,A.salary from employees as A inner join (Select salary from employees group by salary HAVING count(salary)>1)SUB on A.salary=SUB.salary;\n",
    "#select A.name,A.age from employees as A inner join (Select age from employees group by age HAVING count(age)>1)SUB on A.age=SUB.age ;"
   ]
  },
  {
   "cell_type": "markdown",
   "metadata": {},
   "source": [
    "# ANY \n",
    "* The ANY and ALL operators are used with a WHERE or HAVING clause.\n",
    "* The ANY operator **returns true value if any of the subquery values meet the condition**.\n",
    "* The ANY operator returns TRUE if the comparison is TRUE for ANY of the values returned by the subquery.\n",
    "* Where comparison_operator is any of the comparison operator like =, <, >, <=, >=, !=, <>.\n",
    "#### ANY Syntax\n",
    "* SELECT column_name(s)\n",
    "* FROM table_name\n",
    "* WHERE column_name **comparison_operator** ANY (SELECT column_name FROM table_name WHERE condition);\n",
    "\n",
    "\n"
   ]
  },
  {
   "cell_type": "code",
   "execution_count": 23,
   "metadata": {},
   "outputs": [
    {
     "data": {
      "text/plain": [
       "'\\nsql= \"SELECT customerName FROM customers WHERE CustomerID= ANY (SELECT CustomerID FROM orders WHERE  ShipperID=\\'4\\')  \"\\ncursor.execute(sql)\\n\\nmyresult = cursor.fetchall()\\n\\nfor x in myresult:\\n  print(x) '"
      ]
     },
     "execution_count": 23,
     "metadata": {},
     "output_type": "execute_result"
    }
   ],
   "source": [
    "#3.4 #ANY\n",
    "\"\"\"\n",
    "sql= \"SELECT customerName FROM customers WHERE CustomerID= ANY (SELECT CustomerID FROM orders WHERE  ShipperID='4')  \"\n",
    "cursor.execute(sql)\n",
    "\n",
    "myresult = cursor.fetchall()\n",
    "\n",
    "for x in myresult:\n",
    "  print(x) \"\"\""
   ]
  },
  {
   "cell_type": "markdown",
   "metadata": {},
   "source": [
    "# ALL\n",
    "* The ALL operator **returns true if all of the subquery values meet the condition**.\n",
    "* Where comparison_operator is any of the comparison operator like =, <, >, <=, >=, !=, <>.\n",
    "#### ALL Syntax\n",
    "* SELECT column_name(s)\n",
    "* FROM table_name\n",
    "* WHERE column_name **comparison_operator** ALL (SELECT column_name FROM table_name WHERE condition);\n"
   ]
  },
  {
   "cell_type": "code",
   "execution_count": null,
   "metadata": {},
   "outputs": [],
   "source": []
  },
  {
   "cell_type": "code",
   "execution_count": null,
   "metadata": {},
   "outputs": [],
   "source": []
  },
  {
   "cell_type": "markdown",
   "metadata": {},
   "source": [
    "# SOME-\n",
    "SOME compare a value to each value in a list or results from a query and evaluate to true if the result of an inner query contains at least one row. SOME must match at least one row in the subquery and must be preceded by comparison operators. Suppose using greater than ( >) with SOME means greater than at least one value.\n",
    "\n",
    "#### Syntax:\n",
    "* SELECT [column_name... | expression1 ]\n",
    "* FROM [table_name]\n",
    "* WHERE expression2 **comparison_operator** {ALL | ANY | SOME} ( subquery )"
   ]
  },
  {
   "cell_type": "code",
   "execution_count": null,
   "metadata": {},
   "outputs": [],
   "source": []
  },
  {
   "cell_type": "code",
   "execution_count": null,
   "metadata": {},
   "outputs": [],
   "source": []
  },
  {
   "cell_type": "markdown",
   "metadata": {},
   "source": [
    "# IN - (multiple OR conditions)\n",
    "* The IN operator allows you to **specify multiple values in a WHERE clause**.\n",
    "* The IN operator is a shorthand for multiple OR conditions.\n",
    "#### IN Syntax\n",
    "* SELECT column_name(s) \n",
    "* FROM table_name \n",
    "* WHERE column_name IN (value1, value2, ...);\n",
    "* ## or\n",
    "* SELECT column_name(s) \n",
    "* FROM table_name \n",
    "* WHERE column_name IN (SELECT STATEMENT);"
   ]
  },
  {
   "cell_type": "code",
   "execution_count": 24,
   "metadata": {},
   "outputs": [
    {
     "name": "stdout",
     "output_type": "stream",
     "text": [
      "('1403', 'Tilak Maiti', '40000', 'Prof', '29')\n",
      "('1404', 'Krish Nendu', '70000', 'Prof', '27')\n",
      "('1408', 'Samu', '80000', 'Engineer', '58')\n",
      "('1410', 'Samares', '20000', 'Doct', '35')\n",
      "('1411', 'Amitosh', '40000', 'Doct', '27')\n",
      "('1413', 'Tripti', '40000', 'Techer', '35')\n",
      "('1415', 'Hedu', '60000', 'Techer', '58')\n",
      "('1416', 'Moinag', '29000', 'Techer', '29')\n"
     ]
    }
   ],
   "source": [
    "# IN\n",
    "#3.5 #duplicate age data\n",
    "\n",
    "sql= \"select * from employees where age IN (select age from employees group by age having count(age)>1)\"  \n",
    "cursor.execute(sql)\n",
    "myresult= cursor.fetchall()    #fetchall() method, which fetches all rows from the last executed statement.\n",
    "\n",
    "for x in myresult:\n",
    "  print(x)\n"
   ]
  },
  {
   "cell_type": "code",
   "execution_count": 25,
   "metadata": {},
   "outputs": [
    {
     "data": {
      "text/plain": [
       "'\\nsql= \"SELECT * FROM BT_Dept WHERE age NOT IN (24,26)  \"  \\ncursor.execute(sql)\\nmyresult= cursor.fetchall()    #fetchall() method, which fetches all rows from the last executed statement.\\n\\nfor x in myresult:\\n  print(x) '"
      ]
     },
     "execution_count": 25,
     "metadata": {},
     "output_type": "execute_result"
    }
   ],
   "source": [
    "# NOT IN\n",
    "#Student's whose age are not 24&26\n",
    "\"\"\"\n",
    "sql= \"SELECT * FROM BT_Dept WHERE age NOT IN (24,26)  \"  \n",
    "cursor.execute(sql)\n",
    "myresult= cursor.fetchall()    #fetchall() method, which fetches all rows from the last executed statement.\n",
    "\n",
    "for x in myresult:\n",
    "  print(x) \"\"\""
   ]
  },
  {
   "cell_type": "code",
   "execution_count": 26,
   "metadata": {},
   "outputs": [],
   "source": [
    "#3.7 #\n"
   ]
  },
  {
   "cell_type": "markdown",
   "metadata": {},
   "source": [
    "\n"
   ]
  },
  {
   "cell_type": "code",
   "execution_count": 28,
   "metadata": {},
   "outputs": [
    {
     "name": "stdout",
     "output_type": "stream",
     "text": [
      "('1101', '1102', '2010-04-21 13:35:20', '2014-07-27 12:35:50', 1558)\n",
      "('1101', '1105', '2014-07-27 12:35:50', '2016-07-07 19:45:40', 711)\n",
      "('1101', '1115', '2016-07-07 19:45:40', '2018-01-27 18:15:20', 569)\n",
      "('1101', '1110', '2018-01-27 18:15:20', '2020-03-04', 767)\n",
      "('1102', '1103', '2011-09-15 13:22:40', '2013-03-13 23:42:20', 545)\n",
      "('1102', '1106', '2013-03-13 23:42:20', '2015-11-19 22:45:20', 981)\n",
      "('1102', '1109', '2015-11-19 22:45:20', '2018-04-16 20:05:20', 879)\n",
      "('1102', '1116', '2018-04-16 20:05:20', '2020-03-04', 688)\n"
     ]
    }
   ],
   "source": [
    "#DATEDIFF-Return days between teo date\n",
    "\n",
    "#9 #Tell me the time intervel one user connect with another integer-\n",
    "sql= \"select id,follow,date,LastDay,DATEDIFF(LastDay,date) as Diff from (select id,follow,date, LEAD(date,1,'2020-03-04') OVER(PARTITION BY id order by id,date) AS LastDay from follows) SUB\"\n",
    "cursor.execute(sql)\n",
    "myresult= cursor.fetchall()   #fetchall() method, which fetches all rows from the last executed statement.\n",
    "\n",
    "for x in myresult:\n",
    "  print(x)"
   ]
  },
  {
   "cell_type": "markdown",
   "metadata": {},
   "source": [
    "# Window Function\n",
    "\n",
    "* Window functions operate on a set of rows and return a single value for each row from the underlying query.\n",
    "* Window functions operate on a set of rows and return a single aggregated value for each row.\n",
    "#### Diff B/W row_number(), rank(), dense_rank()\n",
    "* The row_number gives continuous numbers,while rank and dense_rank give the same rank for duplicates, but the next number in rank is as per continuous order so you will see a jump but in dense_rank doesn't have any gap in rankings.\n",
    "\n",
    "#### In SQL Server we have different categories of window functions\n",
    "* Aggrigate Function-- AVG, SUM, COUNT, MIN, MAX,\n",
    "* Ranking Function-- \n",
    "** RANK--RANK gives you the ranking within your ordered partition. Ties are assigned the same rank,(Skip is allow)\n",
    "** DENSE_RANK--gives you the ranking within your ordered partition, but the ranks are consecutive. No ranks are skipped if there are ranks with multiple items.\n",
    "** ROW_NUMBER--assigns a sequential integer to each row within the partition of a result set.\n",
    "** CUME_DIST--cumulative distribution\n",
    "* Analytic Function-- \n",
    "** LEAD--fetches data from a subsequent row.\n",
    "** LAG--fetch data from a previous row,\n",
    "** FIRST_VALUE--returns the first value in an ordered set of values\n",
    "** LAST_VALUE--returns the last value in an ordered set of values.\n",
    "** NTH_VALUE--function returns the value of expression from the Nth row of the window frame. If that Nth row does not exist, the function returns NULL . N must be a positive integer\n",
    "\n",
    "#### OVER Clause defines the partitioning and ordering of a rows (i.e a window) for the above functions to operate on. Hence these functions are called window functions. The OVER clause accepts the following three arguments to define a window for these functions to operate on.\n",
    "* ORDER BY : Defines the logical order of the rows\n",
    "* PARTITION BY : Divides the query result set into partitions. The window function is applied to each partition separately.\n",
    "* ROWS or RANGE clause : Further limits the rows within the partition by specifying start and end points within the partition.\n",
    "\n",
    "#### The default for ROWS or RANGE clause is\n",
    "* RANGE BETWEEN UNBOUNDED PRECEDING AND CURRENT ROW\n",
    "\n",
    "###\n",
    "* SELECT Name, Gender, Salary, Age \n",
    "* -----AVG(Salary) OVER(ORDER BY Salary) AS Average--------------------------># same for (SUM, COUNT, MIN, MAX)\n",
    "* -----AVG(Salary) OVER(PARTITION BY Salary) AS Average\n",
    "* -----RANK() OVER(ORDER BY Salary) AS Average-------------------------------># Same for (RANK, DENSE_RANK, ROW_NUMBER)\n",
    "* -----RANK() OVER(PARTITION BY Salary ORDER BY ___ ) AS Average\n",
    "* FROM Employees\n",
    "* GROUP BY ____\n",
    "* WHERE ______\n",
    "\n"
   ]
  },
  {
   "cell_type": "code",
   "execution_count": 30,
   "metadata": {},
   "outputs": [],
   "source": [
    "# -selected database\n",
    "cursor.execute('use Pharm_easy')"
   ]
  },
  {
   "cell_type": "code",
   "execution_count": 31,
   "metadata": {},
   "outputs": [
    {
     "name": "stdout",
     "output_type": "stream",
     "text": [
      "('employees',)\n",
      "('follows',)\n",
      "('users',)\n"
     ]
    }
   ],
   "source": [
    "#Show tables\n",
    "\n",
    "sql= \"show tables\"\n",
    "cursor.execute(sql)\n",
    "\n",
    "for database in cursor:\n",
    "    print(database)"
   ]
  },
  {
   "cell_type": "code",
   "execution_count": 32,
   "metadata": {},
   "outputs": [
    {
     "name": "stdout",
     "output_type": "stream",
     "text": [
      "('1401', 'D Maiti', '140000', 'Prof', '42')\n",
      "('1402', 'Amit Sethi', '100000', 'Prof', '39')\n",
      "('1403', 'Tilak Maiti', '40000', 'Prof', '29')\n",
      "('1404', 'Krish Nendu', '70000', 'Prof', '27')\n",
      "('1405', 'Babu', '60000', 'Engineer', '26')\n",
      "('1406', 'Bablu', '120000', 'Engineer', '56')\n",
      "('1407', 'Srinjoy', '80000', 'Engineer', '25')\n",
      "('1408', 'Samu', '80000', 'Engineer', '58')\n",
      "('1409', 'Narayan', '50000', 'Doct', '68')\n",
      "('1410', 'Samares', '20000', 'Doct', '35')\n",
      "('1411', 'Amitosh', '40000', 'Doct', '27')\n",
      "('1412', 'Anup', '30000', 'Doct', '32')\n",
      "('1413', 'Tripti', '40000', 'Techer', '35')\n",
      "('1414', 'Bratati', '37000', 'Techer', '41')\n",
      "('1415', 'Hedu', '60000', 'Techer', '58')\n",
      "('1416', 'Moinag', '29000', 'Techer', '29')\n"
     ]
    }
   ],
   "source": [
    "#ANY\n",
    "\n",
    "sql= \"SELECT * FROM employees  \"\n",
    "cursor.execute(sql)\n",
    "\n",
    "myresult = cursor.fetchall()\n",
    "\n",
    "for x in myresult:\n",
    "  print(x)"
   ]
  },
  {
   "cell_type": "code",
   "execution_count": 33,
   "metadata": {},
   "outputs": [
    {
     "name": "stdout",
     "output_type": "stream",
     "text": [
      "(1, '1409', 'Narayan', '50000', 'Doct', '68')\n",
      "(2, '1408', 'Samu', '80000', 'Engineer', '58')\n",
      "(2, '1415', 'Hedu', '60000', 'Techer', '58')\n",
      "(4, '1406', 'Bablu', '120000', 'Engineer', '56')\n",
      "(5, '1401', 'D Maiti', '140000', 'Prof', '42')\n",
      "(6, '1414', 'Bratati', '37000', 'Techer', '41')\n",
      "(7, '1402', 'Amit Sethi', '100000', 'Prof', '39')\n",
      "(8, '1410', 'Samares', '20000', 'Doct', '35')\n",
      "(8, '1413', 'Tripti', '40000', 'Techer', '35')\n",
      "(10, '1412', 'Anup', '30000', 'Doct', '32')\n",
      "(11, '1403', 'Tilak Maiti', '40000', 'Prof', '29')\n",
      "(11, '1416', 'Moinag', '29000', 'Techer', '29')\n",
      "(13, '1404', 'Krish Nendu', '70000', 'Prof', '27')\n",
      "(13, '1411', 'Amitosh', '40000', 'Doct', '27')\n",
      "(15, '1405', 'Babu', '60000', 'Engineer', '26')\n",
      "(16, '1407', 'Srinjoy', '80000', 'Engineer', '25')\n"
     ]
    }
   ],
   "source": [
    "#Rank\n",
    "#3.4.1 #Rank age wise\n",
    "\n",
    "sql= \"select RANK() OVER(order by age desc) as rnk, id,name,salary,dept,age from employees \"\n",
    "cursor.execute(sql)\n",
    "\n",
    "myresult = cursor.fetchall()\n",
    "\n",
    "for x in myresult:\n",
    "  print(x)"
   ]
  },
  {
   "cell_type": "code",
   "execution_count": 34,
   "metadata": {},
   "outputs": [
    {
     "name": "stdout",
     "output_type": "stream",
     "text": [
      "(1, '1409', 'Narayan', '50000', 'Doct', '68')\n",
      "(2, '1408', 'Samu', '80000', 'Engineer', '58')\n",
      "(2, '1415', 'Hedu', '60000', 'Techer', '58')\n",
      "(3, '1406', 'Bablu', '120000', 'Engineer', '56')\n",
      "(4, '1401', 'D Maiti', '140000', 'Prof', '42')\n",
      "(5, '1414', 'Bratati', '37000', 'Techer', '41')\n",
      "(6, '1402', 'Amit Sethi', '100000', 'Prof', '39')\n",
      "(7, '1410', 'Samares', '20000', 'Doct', '35')\n",
      "(7, '1413', 'Tripti', '40000', 'Techer', '35')\n",
      "(8, '1412', 'Anup', '30000', 'Doct', '32')\n",
      "(9, '1403', 'Tilak Maiti', '40000', 'Prof', '29')\n",
      "(9, '1416', 'Moinag', '29000', 'Techer', '29')\n",
      "(10, '1404', 'Krish Nendu', '70000', 'Prof', '27')\n",
      "(10, '1411', 'Amitosh', '40000', 'Doct', '27')\n",
      "(11, '1405', 'Babu', '60000', 'Engineer', '26')\n",
      "(12, '1407', 'Srinjoy', '80000', 'Engineer', '25')\n"
     ]
    }
   ],
   "source": [
    "#DENSE_RANK\n",
    "#3.4.2 #Dense Rank age wise\n",
    "\n",
    "sql= \" select DENSE_RANK() OVER(order by age desc) as rnk, id,name,salary,dept,age from employees \"\n",
    "cursor.execute(sql)\n",
    "\n",
    "myresult = cursor.fetchall()\n",
    "\n",
    "for x in myresult:\n",
    "  print(x)"
   ]
  },
  {
   "cell_type": "code",
   "execution_count": 35,
   "metadata": {},
   "outputs": [
    {
     "name": "stdout",
     "output_type": "stream",
     "text": [
      "(1, '1409', 'Narayan', '50000', 'Doct', '68')\n",
      "(2, '1410', 'Samares', '20000', 'Doct', '35')\n",
      "(3, '1412', 'Anup', '30000', 'Doct', '32')\n",
      "(4, '1411', 'Amitosh', '40000', 'Doct', '27')\n",
      "(1, '1408', 'Samu', '80000', 'Engineer', '58')\n",
      "(2, '1406', 'Bablu', '120000', 'Engineer', '56')\n",
      "(3, '1405', 'Babu', '60000', 'Engineer', '26')\n",
      "(4, '1407', 'Srinjoy', '80000', 'Engineer', '25')\n",
      "(1, '1401', 'D Maiti', '140000', 'Prof', '42')\n",
      "(2, '1402', 'Amit Sethi', '100000', 'Prof', '39')\n",
      "(3, '1403', 'Tilak Maiti', '40000', 'Prof', '29')\n",
      "(4, '1404', 'Krish Nendu', '70000', 'Prof', '27')\n",
      "(1, '1415', 'Hedu', '60000', 'Techer', '58')\n",
      "(2, '1414', 'Bratati', '37000', 'Techer', '41')\n",
      "(3, '1413', 'Tripti', '40000', 'Techer', '35')\n",
      "(4, '1416', 'Moinag', '29000', 'Techer', '29')\n"
     ]
    }
   ],
   "source": [
    "#ROW_NUMBER\n",
    "#3.4.3 #ROW_NUMBER-top 2 users dept wise\n",
    "\n",
    "sql= \"select ROW_NUMBER() OVER(PARTITION BY dept order by age desc) as rnk, id,name,salary,dept,age from employees\"\n",
    "cursor.execute(sql)\n",
    "\n",
    "myresult = cursor.fetchall()\n",
    "\n",
    "for x in myresult:\n",
    "  print(x)"
   ]
  },
  {
   "cell_type": "code",
   "execution_count": 36,
   "metadata": {},
   "outputs": [
    {
     "name": "stdout",
     "output_type": "stream",
     "text": [
      "(0.0625, '1409', 'Narayan', '50000', 'Doct', '68')\n",
      "(0.1875, '1408', 'Samu', '80000', 'Engineer', '58')\n",
      "(0.1875, '1415', 'Hedu', '60000', 'Techer', '58')\n",
      "(0.25, '1406', 'Bablu', '120000', 'Engineer', '56')\n",
      "(0.3125, '1401', 'D Maiti', '140000', 'Prof', '42')\n",
      "(0.375, '1414', 'Bratati', '37000', 'Techer', '41')\n",
      "(0.4375, '1402', 'Amit Sethi', '100000', 'Prof', '39')\n",
      "(0.5625, '1410', 'Samares', '20000', 'Doct', '35')\n",
      "(0.5625, '1413', 'Tripti', '40000', 'Techer', '35')\n",
      "(0.625, '1412', 'Anup', '30000', 'Doct', '32')\n",
      "(0.75, '1403', 'Tilak Maiti', '40000', 'Prof', '29')\n",
      "(0.75, '1416', 'Moinag', '29000', 'Techer', '29')\n",
      "(0.875, '1404', 'Krish Nendu', '70000', 'Prof', '27')\n",
      "(0.875, '1411', 'Amitosh', '40000', 'Doct', '27')\n",
      "(0.9375, '1405', 'Babu', '60000', 'Engineer', '26')\n",
      "(1.0, '1407', 'Srinjoy', '80000', 'Engineer', '25')\n"
     ]
    }
   ],
   "source": [
    "#3.4.4 #The CUME_DIST() is a window function that returns the cumulative distribution of a value within a \n",
    "#set of values.\n",
    "#It represents the number of rows with values less than or equal to that row’s value divided by the total number \n",
    "#of rows.(0-to-1)\n",
    "\n",
    "\n",
    "sql= \" select CUME_DIST() OVER(order by age desc) as rnk, id,name,salary,dept,age from employees \"\n",
    "cursor.execute(sql)\n",
    "\n",
    "myresult = cursor.fetchall()\n",
    "\n",
    "for x in myresult:\n",
    "  print(x)"
   ]
  },
  {
   "cell_type": "code",
   "execution_count": 37,
   "metadata": {},
   "outputs": [
    {
     "name": "stdout",
     "output_type": "stream",
     "text": [
      "('1411', 'Amitosh', '40000', 'Doct', '27', 27.0)\n",
      "('1412', 'Anup', '30000', 'Doct', '32', 59.0)\n",
      "('1410', 'Samares', '20000', 'Doct', '35', 94.0)\n",
      "('1409', 'Narayan', '50000', 'Doct', '68', 162.0)\n",
      "('1407', 'Srinjoy', '80000', 'Engineer', '25', 25.0)\n",
      "('1405', 'Babu', '60000', 'Engineer', '26', 51.0)\n",
      "('1406', 'Bablu', '120000', 'Engineer', '56', 107.0)\n",
      "('1408', 'Samu', '80000', 'Engineer', '58', 165.0)\n",
      "('1404', 'Krish Nendu', '70000', 'Prof', '27', 27.0)\n",
      "('1403', 'Tilak Maiti', '40000', 'Prof', '29', 56.0)\n",
      "('1402', 'Amit Sethi', '100000', 'Prof', '39', 95.0)\n",
      "('1401', 'D Maiti', '140000', 'Prof', '42', 137.0)\n",
      "('1416', 'Moinag', '29000', 'Techer', '29', 29.0)\n",
      "('1413', 'Tripti', '40000', 'Techer', '35', 64.0)\n",
      "('1414', 'Bratati', '37000', 'Techer', '41', 105.0)\n",
      "('1415', 'Hedu', '60000', 'Techer', '58', 163.0)\n"
     ]
    }
   ],
   "source": [
    "#Cumulative_Sum\n",
    "# Cumulative Age dept wise.\n",
    "\n",
    "sql= \"select id, name,salary,dept,age,sum(age) over(partition by dept order by age) as comulative from employees;\"\n",
    "cursor.execute(sql)\n",
    "\n",
    "myresult = cursor.fetchall()\n",
    "\n",
    "for x in myresult:\n",
    "  print(x)"
   ]
  },
  {
   "cell_type": "code",
   "execution_count": 38,
   "metadata": {},
   "outputs": [
    {
     "data": {
      "text/plain": [
       "'\\nsql= \"  \"\\ncursor.execute(sql)\\n\\nmyresult = cursor.fetchall()\\n\\nfor x in myresult:\\n  print(x) '"
      ]
     },
     "execution_count": 38,
     "metadata": {},
     "output_type": "execute_result"
    }
   ],
   "source": [
    "# Cumulative_Avg\n",
    "# Cumulative_Avg of Age dept wise.\n",
    "\n",
    "\"\"\"\n",
    "sql= \"  \"\n",
    "cursor.execute(sql)\n",
    "\n",
    "myresult = cursor.fetchall()\n",
    "\n",
    "for x in myresult:\n",
    "  print(x) \"\"\""
   ]
  },
  {
   "cell_type": "code",
   "execution_count": 39,
   "metadata": {},
   "outputs": [
    {
     "ename": "ProgrammingError",
     "evalue": "1054 (42S22): Unknown column 'user_id' in 'field list'",
     "output_type": "error",
     "traceback": [
      "\u001b[1;31m---------------------------------------------------------------------------\u001b[0m",
      "\u001b[1;31mMySQLInterfaceError\u001b[0m                       Traceback (most recent call last)",
      "\u001b[1;32mC:\\DataScience\\Anaconda_Python\\lib\\site-packages\\mysql\\connector\\connection_cext.py\u001b[0m in \u001b[0;36mcmd_query\u001b[1;34m(self, query, raw, buffered, raw_as_string)\u001b[0m\n\u001b[0;32m    506\u001b[0m                 \u001b[0mquery\u001b[0m \u001b[1;33m=\u001b[0m \u001b[0mquery\u001b[0m\u001b[1;33m.\u001b[0m\u001b[0mencode\u001b[0m\u001b[1;33m(\u001b[0m\u001b[1;34m'utf-8'\u001b[0m\u001b[1;33m)\u001b[0m\u001b[1;33m\u001b[0m\u001b[1;33m\u001b[0m\u001b[0m\n\u001b[1;32m--> 507\u001b[1;33m             self._cmysql.query(query,\n\u001b[0m\u001b[0;32m    508\u001b[0m                                \u001b[0mraw\u001b[0m\u001b[1;33m=\u001b[0m\u001b[0mraw\u001b[0m\u001b[1;33m,\u001b[0m \u001b[0mbuffered\u001b[0m\u001b[1;33m=\u001b[0m\u001b[0mbuffered\u001b[0m\u001b[1;33m,\u001b[0m\u001b[1;33m\u001b[0m\u001b[1;33m\u001b[0m\u001b[0m\n",
      "\u001b[1;31mMySQLInterfaceError\u001b[0m: Unknown column 'user_id' in 'field list'",
      "\nDuring handling of the above exception, another exception occurred:\n",
      "\u001b[1;31mProgrammingError\u001b[0m                          Traceback (most recent call last)",
      "\u001b[1;32m<ipython-input-39-be8b09030706>\u001b[0m in \u001b[0;36m<module>\u001b[1;34m\u001b[0m\n\u001b[0;32m      3\u001b[0m \u001b[1;33m\u001b[0m\u001b[0m\n\u001b[0;32m      4\u001b[0m \u001b[0msql\u001b[0m\u001b[1;33m=\u001b[0m \u001b[1;34m\"select user_id,follow,date,LastDay,DATEDIFF(LastDay,date) as Diff from (select user_id,follow,date, LEAD(date,1,'2020-03-04') OVER(PARTITION BY user_id order by user_id,date) AS LastDay from follows) SUB \"\u001b[0m\u001b[1;33m\u001b[0m\u001b[1;33m\u001b[0m\u001b[0m\n\u001b[1;32m----> 5\u001b[1;33m \u001b[0mcursor\u001b[0m\u001b[1;33m.\u001b[0m\u001b[0mexecute\u001b[0m\u001b[1;33m(\u001b[0m\u001b[0msql\u001b[0m\u001b[1;33m)\u001b[0m\u001b[1;33m\u001b[0m\u001b[1;33m\u001b[0m\u001b[0m\n\u001b[0m\u001b[0;32m      6\u001b[0m \u001b[1;33m\u001b[0m\u001b[0m\n\u001b[0;32m      7\u001b[0m \u001b[0mmyresult\u001b[0m \u001b[1;33m=\u001b[0m \u001b[0mcursor\u001b[0m\u001b[1;33m.\u001b[0m\u001b[0mfetchall\u001b[0m\u001b[1;33m(\u001b[0m\u001b[1;33m)\u001b[0m\u001b[1;33m\u001b[0m\u001b[1;33m\u001b[0m\u001b[0m\n",
      "\u001b[1;32mC:\\DataScience\\Anaconda_Python\\lib\\site-packages\\mysql\\connector\\cursor_cext.py\u001b[0m in \u001b[0;36mexecute\u001b[1;34m(self, operation, params, multi)\u001b[0m\n\u001b[0;32m    272\u001b[0m \u001b[1;33m\u001b[0m\u001b[0m\n\u001b[0;32m    273\u001b[0m         \u001b[1;32mtry\u001b[0m\u001b[1;33m:\u001b[0m\u001b[1;33m\u001b[0m\u001b[1;33m\u001b[0m\u001b[0m\n\u001b[1;32m--> 274\u001b[1;33m             result = self._cnx.cmd_query(stmt, raw=self._raw,\n\u001b[0m\u001b[0;32m    275\u001b[0m                                          \u001b[0mbuffered\u001b[0m\u001b[1;33m=\u001b[0m\u001b[0mself\u001b[0m\u001b[1;33m.\u001b[0m\u001b[0m_buffered\u001b[0m\u001b[1;33m,\u001b[0m\u001b[1;33m\u001b[0m\u001b[1;33m\u001b[0m\u001b[0m\n\u001b[0;32m    276\u001b[0m                                          raw_as_string=self._raw_as_string)\n",
      "\u001b[1;32mC:\\DataScience\\Anaconda_Python\\lib\\site-packages\\mysql\\connector\\connection_cext.py\u001b[0m in \u001b[0;36mcmd_query\u001b[1;34m(self, query, raw, buffered, raw_as_string)\u001b[0m\n\u001b[0;32m    509\u001b[0m                                raw_as_string=raw_as_string)\n\u001b[0;32m    510\u001b[0m         \u001b[1;32mexcept\u001b[0m \u001b[0mMySQLInterfaceError\u001b[0m \u001b[1;32mas\u001b[0m \u001b[0mexc\u001b[0m\u001b[1;33m:\u001b[0m\u001b[1;33m\u001b[0m\u001b[1;33m\u001b[0m\u001b[0m\n\u001b[1;32m--> 511\u001b[1;33m             raise errors.get_mysql_exception(exc.errno, msg=exc.msg,\n\u001b[0m\u001b[0;32m    512\u001b[0m                                              sqlstate=exc.sqlstate)\n\u001b[0;32m    513\u001b[0m         \u001b[1;32mexcept\u001b[0m \u001b[0mAttributeError\u001b[0m\u001b[1;33m:\u001b[0m\u001b[1;33m\u001b[0m\u001b[1;33m\u001b[0m\u001b[0m\n",
      "\u001b[1;31mProgrammingError\u001b[0m: 1054 (42S22): Unknown column 'user_id' in 'field list'"
     ]
    }
   ],
   "source": [
    "#3.4.5 #The LAG() function is used to get value from row that precedes the current row.\n",
    "# The LEAD() function is used to get value from row that succedes the current row.\n",
    "\n",
    "sql= \"select user_id,follow,date,LastDay,DATEDIFF(LastDay,date) as Diff from (select user_id,follow,date, LEAD(date,1,'2020-03-04') OVER(PARTITION BY user_id order by user_id,date) AS LastDay from follows) SUB \"\n",
    "cursor.execute(sql)\n",
    "\n",
    "myresult = cursor.fetchall()\n",
    "\n",
    "for x in myresult:\n",
    "  print(x)"
   ]
  },
  {
   "cell_type": "code",
   "execution_count": 40,
   "metadata": {},
   "outputs": [
    {
     "name": "stdout",
     "output_type": "stream",
     "text": [
      "('1411', 'Amitosh', '40000', 'Doct', '27', 'Amitosh')\n",
      "('1412', 'Anup', '30000', 'Doct', '32', 'Amitosh')\n",
      "('1410', 'Samares', '20000', 'Doct', '35', 'Amitosh')\n",
      "('1409', 'Narayan', '50000', 'Doct', '68', 'Amitosh')\n",
      "('1407', 'Srinjoy', '80000', 'Engineer', '25', 'Srinjoy')\n",
      "('1405', 'Babu', '60000', 'Engineer', '26', 'Srinjoy')\n",
      "('1406', 'Bablu', '120000', 'Engineer', '56', 'Srinjoy')\n",
      "('1408', 'Samu', '80000', 'Engineer', '58', 'Srinjoy')\n",
      "('1404', 'Krish Nendu', '70000', 'Prof', '27', 'Krish Nendu')\n",
      "('1403', 'Tilak Maiti', '40000', 'Prof', '29', 'Krish Nendu')\n",
      "('1402', 'Amit Sethi', '100000', 'Prof', '39', 'Krish Nendu')\n",
      "('1401', 'D Maiti', '140000', 'Prof', '42', 'Krish Nendu')\n",
      "('1416', 'Moinag', '29000', 'Techer', '29', 'Moinag')\n",
      "('1413', 'Tripti', '40000', 'Techer', '35', 'Moinag')\n",
      "('1414', 'Bratati', '37000', 'Techer', '41', 'Moinag')\n",
      "('1415', 'Hedu', '60000', 'Techer', '58', 'Moinag')\n"
     ]
    }
   ],
   "source": [
    "#3.4.6 #First_value\n",
    "\n",
    "sql= \"select id,name,salary,dept,age, first_value(name) OVER(partition by dept order by age) as AA from employees \"\n",
    "cursor.execute(sql)\n",
    "\n",
    "myresult = cursor.fetchall()\n",
    "\n",
    "for x in myresult:\n",
    "  print(x)"
   ]
  },
  {
   "cell_type": "code",
   "execution_count": 41,
   "metadata": {},
   "outputs": [
    {
     "name": "stdout",
     "output_type": "stream",
     "text": [
      "('1411', 'Amitosh', '40000', 'Doct', '27', 'Amitosh')\n",
      "('1412', 'Anup', '30000', 'Doct', '32', 'Anup')\n",
      "('1410', 'Samares', '20000', 'Doct', '35', 'Samares')\n",
      "('1409', 'Narayan', '50000', 'Doct', '68', 'Narayan')\n",
      "('1407', 'Srinjoy', '80000', 'Engineer', '25', 'Srinjoy')\n",
      "('1405', 'Babu', '60000', 'Engineer', '26', 'Babu')\n",
      "('1406', 'Bablu', '120000', 'Engineer', '56', 'Bablu')\n",
      "('1408', 'Samu', '80000', 'Engineer', '58', 'Samu')\n",
      "('1404', 'Krish Nendu', '70000', 'Prof', '27', 'Krish Nendu')\n",
      "('1403', 'Tilak Maiti', '40000', 'Prof', '29', 'Tilak Maiti')\n",
      "('1402', 'Amit Sethi', '100000', 'Prof', '39', 'Amit Sethi')\n",
      "('1401', 'D Maiti', '140000', 'Prof', '42', 'D Maiti')\n",
      "('1416', 'Moinag', '29000', 'Techer', '29', 'Moinag')\n",
      "('1413', 'Tripti', '40000', 'Techer', '35', 'Tripti')\n",
      "('1414', 'Bratati', '37000', 'Techer', '41', 'Bratati')\n",
      "('1415', 'Hedu', '60000', 'Techer', '58', 'Hedu')\n"
     ]
    }
   ],
   "source": [
    "#3.4.7 #Last Value\n",
    "\n",
    "sql= \" select id,name,salary,dept,age, last_value(name) OVER(partition by dept order by age ) as AA from employees \"\n",
    "cursor.execute(sql)\n",
    "\n",
    "myresult = cursor.fetchall()\n",
    "\n",
    "for x in myresult:\n",
    "  print(x)\n",
    "\n",
    "# Wrong "
   ]
  },
  {
   "cell_type": "code",
   "execution_count": 42,
   "metadata": {},
   "outputs": [
    {
     "name": "stdout",
     "output_type": "stream",
     "text": [
      "('1411', 'Amitosh', '40000', 'Doct', '27', 'Narayan')\n",
      "('1412', 'Anup', '30000', 'Doct', '32', 'Narayan')\n",
      "('1410', 'Samares', '20000', 'Doct', '35', 'Narayan')\n",
      "('1409', 'Narayan', '50000', 'Doct', '68', 'Narayan')\n",
      "('1407', 'Srinjoy', '80000', 'Engineer', '25', 'Samu')\n",
      "('1405', 'Babu', '60000', 'Engineer', '26', 'Samu')\n",
      "('1406', 'Bablu', '120000', 'Engineer', '56', 'Samu')\n",
      "('1408', 'Samu', '80000', 'Engineer', '58', 'Samu')\n",
      "('1404', 'Krish Nendu', '70000', 'Prof', '27', 'D Maiti')\n",
      "('1403', 'Tilak Maiti', '40000', 'Prof', '29', 'D Maiti')\n",
      "('1402', 'Amit Sethi', '100000', 'Prof', '39', 'D Maiti')\n",
      "('1401', 'D Maiti', '140000', 'Prof', '42', 'D Maiti')\n",
      "('1416', 'Moinag', '29000', 'Techer', '29', 'Hedu')\n",
      "('1413', 'Tripti', '40000', 'Techer', '35', 'Hedu')\n",
      "('1414', 'Bratati', '37000', 'Techer', '41', 'Hedu')\n",
      "('1415', 'Hedu', '60000', 'Techer', '58', 'Hedu')\n"
     ]
    }
   ],
   "source": [
    "#3.4.8 #Last_VAlue\n",
    "\n",
    "sql= \" select id,name,salary,dept,age, last_value(name) OVER(partition by dept order by age ROWS BETWEEN UNBOUNDED PRECEDING AND UNBOUNDED FOLLOWING) as AA from employees \"\n",
    "cursor.execute(sql)\n",
    "\n",
    "myresult = cursor.fetchall()\n",
    "\n",
    "for x in myresult:\n",
    "  print(x)"
   ]
  },
  {
   "cell_type": "code",
   "execution_count": 43,
   "metadata": {},
   "outputs": [],
   "source": [
    "#3.5 #\n",
    "\n",
    "#DATEDIFF(LastDay,date)"
   ]
  },
  {
   "cell_type": "code",
   "execution_count": null,
   "metadata": {},
   "outputs": [],
   "source": []
  },
  {
   "cell_type": "markdown",
   "metadata": {},
   "source": [
    "# Missing value check\n"
   ]
  },
  {
   "cell_type": "code",
   "execution_count": 44,
   "metadata": {},
   "outputs": [],
   "source": [
    "# select * from employes where age IS NUL;\n",
    "# select * from employes where (age <0) AND (age>120);"
   ]
  },
  {
   "cell_type": "code",
   "execution_count": 45,
   "metadata": {},
   "outputs": [],
   "source": [
    "# Imputting Missing value\n"
   ]
  },
  {
   "cell_type": "code",
   "execution_count": 46,
   "metadata": {},
   "outputs": [],
   "source": [
    "#\n",
    "# select median(age) from employees;"
   ]
  },
  {
   "cell_type": "code",
   "execution_count": null,
   "metadata": {},
   "outputs": [],
   "source": []
  },
  {
   "cell_type": "code",
   "execution_count": null,
   "metadata": {},
   "outputs": [],
   "source": []
  },
  {
   "cell_type": "code",
   "execution_count": null,
   "metadata": {},
   "outputs": [],
   "source": []
  },
  {
   "cell_type": "code",
   "execution_count": null,
   "metadata": {},
   "outputs": [],
   "source": []
  }
 ],
 "metadata": {
  "kernelspec": {
   "display_name": "Python 3",
   "language": "python",
   "name": "python3"
  },
  "language_info": {
   "codemirror_mode": {
    "name": "ipython",
    "version": 3
   },
   "file_extension": ".py",
   "mimetype": "text/x-python",
   "name": "python",
   "nbconvert_exporter": "python",
   "pygments_lexer": "ipython3",
   "version": "3.8.5"
  }
 },
 "nbformat": 4,
 "nbformat_minor": 4
}
