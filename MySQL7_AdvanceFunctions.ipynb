{
 "cells": [
  {
   "cell_type": "code",
   "execution_count": 1,
   "metadata": {},
   "outputs": [
    {
     "name": "stdout",
     "output_type": "stream",
     "text": [
      "<mysql.connector.connection_cext.CMySQLConnection object at 0x00000125165890A0>\n"
     ]
    }
   ],
   "source": [
    "#Creating Databases in MySQL\n",
    "\n",
    "import mysql.connector\n",
    "\n",
    "mydb = mysql.connector.connect(\n",
    "  host=\"localhost\",\n",
    "  user=\"root\",\n",
    "  password=\"#meKRISH30\"\n",
    ")\n",
    "\n",
    "print(mydb)"
   ]
  },
  {
   "cell_type": "code",
   "execution_count": 2,
   "metadata": {},
   "outputs": [],
   "source": [
    "#cursor for running the MySQL in Python Jupyter Notebook\n",
    "\n",
    "cursor = mydb.cursor()"
   ]
  },
  {
   "cell_type": "code",
   "execution_count": 3,
   "metadata": {},
   "outputs": [
    {
     "name": "stdout",
     "output_type": "stream",
     "text": [
      "('abc',)\n",
      "('business',)\n",
      "('cantilever',)\n",
      "('games2win',)\n",
      "('grofers',)\n",
      "('information_schema',)\n",
      "('krish',)\n",
      "('mysql',)\n",
      "('performance_schema',)\n",
      "('pharm_easy',)\n",
      "('sales',)\n",
      "('sys',)\n"
     ]
    }
   ],
   "source": [
    "#\n",
    "\n",
    "cursor.execute('SHOW DATABASES')\n",
    "\n",
    "for database in cursor:\n",
    "    print(database)"
   ]
  },
  {
   "cell_type": "code",
   "execution_count": 4,
   "metadata": {},
   "outputs": [],
   "source": [
    "#\n",
    "\n",
    "sql= \"USE krish\"\n",
    "cursor.execute(sql)"
   ]
  },
  {
   "cell_type": "code",
   "execution_count": 5,
   "metadata": {},
   "outputs": [
    {
     "name": "stdout",
     "output_type": "stream",
     "text": [
      "('bt_dept',)\n"
     ]
    }
   ],
   "source": [
    "#\n",
    "\n",
    "sql= \"SHOW tables\"\n",
    "cursor.execute(sql)\n",
    "\n",
    "for database in cursor:\n",
    "    print(database)"
   ]
  },
  {
   "cell_type": "code",
   "execution_count": 6,
   "metadata": {},
   "outputs": [],
   "source": [
    "# sql_mode=only_full_group_by\n",
    "\n",
    "sql= \"SET sql_mode=(SELECT REPLACE(@@sql_mode,'ONLY_FULL_GROUP_BY',''))\"\n",
    "cursor.execute(sql)\n",
    "mydb.commit()"
   ]
  },
  {
   "cell_type": "markdown",
   "metadata": {},
   "source": [
    "# CASE\n",
    "* The CASE statement goes through conditions and return a value when the first condition is met (like an IF-THEN-ELSE statement). So, once a condition is true, it will stop reading and return the result.\n",
    "* If no conditions are true, it will return the value in the ELSE clause.\n",
    "* If there is no ELSE part and no conditions are true, it returns NULL.\n",
    "#### Syntax\n",
    "* CASE\n",
    "*     WHEN condition1 THEN result1\n",
    "*     WHEN condition2 THEN result2\n",
    "*     WHEN conditionN THEN resultN\n",
    "*     ELSE result\n",
    "* END;"
   ]
  },
  {
   "cell_type": "code",
   "execution_count": null,
   "metadata": {},
   "outputs": [],
   "source": []
  },
  {
   "cell_type": "markdown",
   "metadata": {},
   "source": [
    "# CAST()\n",
    "* The CAST() function converts a value (of any type) into the specified datatype.\n",
    "#### Value\tDescription\n",
    "* DATE-\tConverts value to DATE. Format: \"YYYY-MM-DD\"\n",
    "* DATETIME-\tConverts value to DATETIME. Format: \"YYYY-MM-DD HH:MM:SS\"\n",
    "* DECIMAL-\tConverts value to DECIMAL. Use the optional M and D parameters to specify the maximum number of digits (M) and the number of digits following the decimal point (D).\n",
    "* TIME-\tConverts value to TIME. Format: \"HH:MM:SS\"\n",
    "* CHAR-\tConverts value to CHAR (a fixed length string)\n",
    "* NCHAR-\tConverts value to NCHAR (like CHAR, but produces a string with the national character set)\n",
    "* SIGNED-\tConverts value to SIGNED (a signed 64-bit integer)\n",
    "* UNSIGNED-\tConverts value to UNSIGNED (an unsigned 64-bit integer)\n",
    "* BINARY-\tConverts value to BINARY (a binary string)"
   ]
  },
  {
   "cell_type": "code",
   "execution_count": null,
   "metadata": {},
   "outputs": [],
   "source": []
  },
  {
   "cell_type": "markdown",
   "metadata": {},
   "source": [
    "# CONVERT()\n",
    "* The CONVERT() function converts a value into the specified datatype or character set.\n",
    "\n",
    "#### Value\tDescription\n",
    "* DATE\tConverts value to DATE. Format: \"YYYY-MM-DD\"\n",
    "* DATETIME\tConverts value to DATETIME. Format: \"YYYY-MM-DD HH:MM:SS\"\n",
    "* DECIMAL\tConverts value to DECIMAL. Use the optional M and D parameters to specify the maximum number of digits (M) and the number of digits following the decimal point (D).\n",
    "* TIME\tConverts value to TIME. Format: \"HH:MM:SS\"\n",
    "* CHAR\tConverts value to CHAR (a fixed length string)\n",
    "* NCHAR\tConverts value to NCHAR (like CHAR, but produces a string with the national character set)\n",
    "* SIGNED\tConverts value to SIGNED (a signed 64-bit integer)\n",
    "* UNSIGNED\tConverts value to UNSIGNED (an unsigned 64-bit integer)\n",
    "* BINARY\tConverts value to BINARY (a binary string)"
   ]
  },
  {
   "cell_type": "code",
   "execution_count": null,
   "metadata": {},
   "outputs": [],
   "source": []
  },
  {
   "cell_type": "markdown",
   "metadata": {},
   "source": [
    "# IF()\n",
    "* The IF() function returns a value if a condition is TRUE, or another value if a condition is FALSE.\n",
    "#### Syntax\n",
    "* IF(condition, value_if_true, value_if_false)\n"
   ]
  },
  {
   "cell_type": "code",
   "execution_count": 7,
   "metadata": {},
   "outputs": [
    {
     "name": "stdout",
     "output_type": "stream",
     "text": [
      "('YES',)\n"
     ]
    }
   ],
   "source": [
    "# IF()\n",
    "\n",
    "sql= \"SELECT IF(500<1000, 'YES', 'NO')\"  \n",
    "cursor.execute(sql)\n",
    "myresult= cursor.fetchall() \n",
    "\n",
    "for x in myresult:\n",
    "  print(x)\n"
   ]
  },
  {
   "cell_type": "markdown",
   "metadata": {},
   "source": []
  },
  {
   "cell_type": "code",
   "execution_count": null,
   "metadata": {},
   "outputs": [],
   "source": []
  },
  {
   "cell_type": "markdown",
   "metadata": {},
   "source": []
  },
  {
   "cell_type": "code",
   "execution_count": null,
   "metadata": {},
   "outputs": [],
   "source": []
  },
  {
   "cell_type": "markdown",
   "metadata": {},
   "source": []
  },
  {
   "cell_type": "code",
   "execution_count": null,
   "metadata": {},
   "outputs": [],
   "source": []
  },
  {
   "cell_type": "markdown",
   "metadata": {},
   "source": []
  },
  {
   "cell_type": "code",
   "execution_count": null,
   "metadata": {},
   "outputs": [],
   "source": []
  },
  {
   "cell_type": "code",
   "execution_count": null,
   "metadata": {},
   "outputs": [],
   "source": []
  },
  {
   "cell_type": "code",
   "execution_count": null,
   "metadata": {},
   "outputs": [],
   "source": []
  }
 ],
 "metadata": {
  "kernelspec": {
   "display_name": "Python 3",
   "language": "python",
   "name": "python3"
  },
  "language_info": {
   "codemirror_mode": {
    "name": "ipython",
    "version": 3
   },
   "file_extension": ".py",
   "mimetype": "text/x-python",
   "name": "python",
   "nbconvert_exporter": "python",
   "pygments_lexer": "ipython3",
   "version": "3.8.5"
  }
 },
 "nbformat": 4,
 "nbformat_minor": 4
}
