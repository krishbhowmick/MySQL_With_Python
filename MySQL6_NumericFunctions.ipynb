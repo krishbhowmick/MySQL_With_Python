{
 "cells": [
  {
   "cell_type": "code",
   "execution_count": 1,
   "metadata": {},
   "outputs": [
    {
     "name": "stdout",
     "output_type": "stream",
     "text": [
      "<mysql.connector.connection_cext.CMySQLConnection object at 0x00000251DE009490>\n"
     ]
    }
   ],
   "source": [
    "#Creating Databases in MySQL\n",
    "\n",
    "import mysql.connector\n",
    "\n",
    "mydb = mysql.connector.connect(\n",
    "  host=\"localhost\",\n",
    "  user=\"root\",\n",
    "  password=\"#meKRISH30\"\n",
    ")\n",
    "\n",
    "print(mydb)"
   ]
  },
  {
   "cell_type": "code",
   "execution_count": 2,
   "metadata": {},
   "outputs": [],
   "source": [
    "#cursor for running the MySQL in Python Jupyter Notebook\n",
    "\n",
    "cursor = mydb.cursor()"
   ]
  },
  {
   "cell_type": "code",
   "execution_count": 3,
   "metadata": {},
   "outputs": [
    {
     "name": "stdout",
     "output_type": "stream",
     "text": [
      "('abc',)\n",
      "('business',)\n",
      "('cantilever',)\n",
      "('games2win',)\n",
      "('grofers',)\n",
      "('information_schema',)\n",
      "('krish',)\n",
      "('mysql',)\n",
      "('performance_schema',)\n",
      "('pharm_easy',)\n",
      "('sales',)\n",
      "('sys',)\n"
     ]
    }
   ],
   "source": [
    "#\n",
    "\n",
    "cursor.execute('SHOW DATABASES')\n",
    "\n",
    "for database in cursor:\n",
    "    print(database)"
   ]
  },
  {
   "cell_type": "code",
   "execution_count": 4,
   "metadata": {},
   "outputs": [],
   "source": [
    "#\n",
    "\n",
    "sql= \"USE grofers\"\n",
    "cursor.execute(sql)"
   ]
  },
  {
   "cell_type": "code",
   "execution_count": 5,
   "metadata": {},
   "outputs": [
    {
     "name": "stdout",
     "output_type": "stream",
     "text": [
      "('table1',)\n",
      "('table2',)\n",
      "('table3',)\n"
     ]
    }
   ],
   "source": [
    "#\n",
    "\n",
    "sql= \"SHOW tables\"\n",
    "cursor.execute(sql)\n",
    "\n",
    "for database in cursor:\n",
    "    print(database)"
   ]
  },
  {
   "cell_type": "code",
   "execution_count": 6,
   "metadata": {},
   "outputs": [],
   "source": [
    "# sql_mode=only_full_group_by\n",
    "\n",
    "sql= \"SET sql_mode=(SELECT REPLACE(@@sql_mode,'ONLY_FULL_GROUP_BY',''))\"\n",
    "cursor.execute(sql)\n",
    "mydb.commit()"
   ]
  },
  {
   "cell_type": "markdown",
   "metadata": {},
   "source": [
    "### MIN(X)-\n",
    "### MAX(X)-\n",
    "### AVG(X)-\n",
    "### SUM(X)-\n",
    "### COUNT(X)-"
   ]
  },
  {
   "cell_type": "code",
   "execution_count": 7,
   "metadata": {},
   "outputs": [
    {
     "name": "stdout",
     "output_type": "stream",
     "text": [
      "('10',)\n"
     ]
    }
   ],
   "source": [
    "#\n",
    "\n",
    "sql= \"select min(Marks) from table1\"  \n",
    "cursor.execute(sql)\n",
    "myresult= cursor.fetchall() \n",
    "\n",
    "for x in myresult:\n",
    "  print(x)\n"
   ]
  },
  {
   "cell_type": "code",
   "execution_count": 8,
   "metadata": {},
   "outputs": [
    {
     "name": "stdout",
     "output_type": "stream",
     "text": [
      "('45.5',)\n"
     ]
    }
   ],
   "source": [
    "# \n",
    "\n",
    "sql= \"select MAX(Marks) from table1\"  \n",
    "cursor.execute(sql)\n",
    "myresult= cursor.fetchall() \n",
    "\n",
    "for x in myresult:\n",
    "  print(x)\n"
   ]
  },
  {
   "cell_type": "code",
   "execution_count": 9,
   "metadata": {},
   "outputs": [
    {
     "name": "stdout",
     "output_type": "stream",
     "text": [
      "(29.1,)\n"
     ]
    }
   ],
   "source": [
    "# \n",
    "\n",
    "sql= \"select AVG(Marks) from table1\"  \n",
    "cursor.execute(sql)\n",
    "myresult= cursor.fetchall() \n",
    "\n",
    "for x in myresult:\n",
    "  print(x)\n"
   ]
  },
  {
   "cell_type": "code",
   "execution_count": 10,
   "metadata": {},
   "outputs": [
    {
     "name": "stdout",
     "output_type": "stream",
     "text": [
      "(145.5,)\n"
     ]
    }
   ],
   "source": [
    "# \n",
    "\n",
    "sql= \"select SUM(Marks) from table1\"  \n",
    "cursor.execute(sql)\n",
    "myresult= cursor.fetchall() \n",
    "\n",
    "for x in myresult:\n",
    "  print(x)\n"
   ]
  },
  {
   "cell_type": "code",
   "execution_count": 11,
   "metadata": {},
   "outputs": [
    {
     "name": "stdout",
     "output_type": "stream",
     "text": [
      "(5,)\n"
     ]
    }
   ],
   "source": [
    "# \n",
    "\n",
    "sql= \"select COUNT(Marks) from table1\"  \n",
    "cursor.execute(sql)\n",
    "myresult= cursor.fetchall() \n",
    "\n",
    "for x in myresult:\n",
    "  print(x)\n"
   ]
  },
  {
   "cell_type": "markdown",
   "metadata": {},
   "source": [
    "### SQRT()- quare root(25->5)\n",
    "### POWER(X,Y)- (4,3 ->64)\n",
    "### EXP()- Exponsial\n",
    "### LOG()-\n",
    "### LOG10()-"
   ]
  },
  {
   "cell_type": "code",
   "execution_count": 12,
   "metadata": {},
   "outputs": [
    {
     "name": "stdout",
     "output_type": "stream",
     "text": [
      "(3.1622776601683795,)\n",
      "(4.47213595499958,)\n",
      "(5.477225575051661,)\n",
      "(6.324555320336759,)\n",
      "(6.745368781616021,)\n"
     ]
    }
   ],
   "source": [
    "# SQRT()-- Square Root\n",
    "\n",
    "sql= \"select SQRT(Marks) from table1\"  \n",
    "cursor.execute(sql)\n",
    "myresult= cursor.fetchall() \n",
    "\n",
    "for x in myresult:\n",
    "  print(x)\n"
   ]
  },
  {
   "cell_type": "code",
   "execution_count": 13,
   "metadata": {},
   "outputs": [
    {
     "name": "stdout",
     "output_type": "stream",
     "text": [
      "(100.0,)\n",
      "(400.0,)\n",
      "(900.0,)\n",
      "(1600.0,)\n",
      "(2070.25,)\n"
     ]
    }
   ],
   "source": [
    "# power-\n",
    "\n",
    "sql= \"select POWER(Marks,2) from table1\"  \n",
    "cursor.execute(sql)\n",
    "myresult= cursor.fetchall() \n",
    "\n",
    "for x in myresult:\n",
    "  print(x)\n"
   ]
  },
  {
   "cell_type": "code",
   "execution_count": 14,
   "metadata": {},
   "outputs": [
    {
     "name": "stdout",
     "output_type": "stream",
     "text": [
      "(22026.465794806718,)\n",
      "(485165195.4097903,)\n",
      "(10686474581524.463,)\n",
      "(2.3538526683702e+17,)\n",
      "(5.759687576887954e+19,)\n"
     ]
    }
   ],
   "source": [
    "# Exponsial\n",
    "\n",
    "sql= \"select EXP(Marks) from table1\"  \n",
    "cursor.execute(sql)\n",
    "myresult= cursor.fetchall() \n",
    "\n",
    "for x in myresult:\n",
    "  print(x)\n"
   ]
  },
  {
   "cell_type": "code",
   "execution_count": 15,
   "metadata": {},
   "outputs": [
    {
     "name": "stdout",
     "output_type": "stream",
     "text": [
      "(2.302585092994046,)\n",
      "(2.995732273553991,)\n",
      "(3.4011973816621555,)\n",
      "(3.6888794541139363,)\n",
      "(3.817712325956905,)\n"
     ]
    }
   ],
   "source": [
    "# LOGARITHM-\n",
    "\n",
    "sql= \"select LOG(Marks) from table1\"  \n",
    "cursor.execute(sql)\n",
    "myresult= cursor.fetchall() \n",
    "\n",
    "for x in myresult:\n",
    "  print(x)\n"
   ]
  },
  {
   "cell_type": "code",
   "execution_count": 16,
   "metadata": {},
   "outputs": [
    {
     "name": "stdout",
     "output_type": "stream",
     "text": [
      "(1.0,)\n",
      "(1.3010299956639813,)\n",
      "(1.4771212547196624,)\n",
      "(1.6020599913279623,)\n",
      "(1.6580113966571124,)\n"
     ]
    }
   ],
   "source": [
    "# LOGARITHM-\n",
    "\n",
    "sql= \"select LOG10(Marks) from table1\"  \n",
    "cursor.execute(sql)\n",
    "myresult= cursor.fetchall() \n",
    "\n",
    "for x in myresult:\n",
    "  print(x)\n"
   ]
  },
  {
   "cell_type": "markdown",
   "metadata": {},
   "source": [
    "### ROUND (X,Y)- (20.4-->20),(20.9-->21),(20.891,1-->20.9)\n",
    "\n",
    "### TRUNCATE (X,Y)-- (20.983,1-->20.9)\n",
    "*  Return a number truncated to y decimal places\n",
    "\n",
    "### FLOOR(x)-- (2.9->3)\n",
    "*  Return the largest integer value that is less than or equal to x\n",
    "\n",
    "### CEIL(x)-- (2.9->3)\n",
    "*  Return the smallest integer value that is greater than or equal to that value\n",
    "\n",
    "### CEILING()-- (2.9->3)\n",
    "* Return the smallest integer value that is greater than or equal to\n",
    "\n",
    "### (x DIV y)- \n",
    "* DIV function is used for integer division (x is divided by y). An integer value is returned.\n",
    "\n",
    "### MOD(x,y)- \n",
    "* Return the remainder of (xy)"
   ]
  },
  {
   "cell_type": "code",
   "execution_count": 17,
   "metadata": {},
   "outputs": [
    {
     "name": "stdout",
     "output_type": "stream",
     "text": [
      "(3.0,)\n"
     ]
    }
   ],
   "source": [
    "# ROUND\n",
    "\n",
    "sql= \"select ROUND('3.4565789,2') \"  \n",
    "cursor.execute(sql)\n",
    "myresult= cursor.fetchall() \n",
    "\n",
    "for x in myresult:\n",
    "  print(x)\n"
   ]
  },
  {
   "cell_type": "code",
   "execution_count": 18,
   "metadata": {},
   "outputs": [
    {
     "name": "stdout",
     "output_type": "stream",
     "text": [
      "(Decimal('4.56'),)\n"
     ]
    }
   ],
   "source": [
    "# TRUNCATE\n",
    "\n",
    "sql= \"select TRUNCATE(4.5678,2) \"  \n",
    "cursor.execute(sql)\n",
    "myresult= cursor.fetchall() \n",
    "\n",
    "for x in myresult:\n",
    "  print(x)\n"
   ]
  },
  {
   "cell_type": "code",
   "execution_count": 19,
   "metadata": {},
   "outputs": [
    {
     "name": "stdout",
     "output_type": "stream",
     "text": [
      "(5,)\n"
     ]
    }
   ],
   "source": [
    "# FLOOR\n",
    "\n",
    "sql= \"select FLOOR(5.3456) \"  \n",
    "cursor.execute(sql)\n",
    "myresult= cursor.fetchall() \n",
    "\n",
    "for x in myresult:\n",
    "  print(x)\n"
   ]
  },
  {
   "cell_type": "code",
   "execution_count": 20,
   "metadata": {},
   "outputs": [
    {
     "name": "stdout",
     "output_type": "stream",
     "text": [
      "(5,)\n"
     ]
    }
   ],
   "source": [
    "# CEIL(x)--Return the smallest integer value that is greater than or equal to that value\n",
    "\n",
    "sql= \"select CEIL(4.23) \"  \n",
    "cursor.execute(sql)\n",
    "myresult= cursor.fetchall() \n",
    "\n",
    "for x in myresult:\n",
    "  print(x)\n"
   ]
  },
  {
   "cell_type": "code",
   "execution_count": 21,
   "metadata": {},
   "outputs": [
    {
     "name": "stdout",
     "output_type": "stream",
     "text": [
      "(46,)\n"
     ]
    }
   ],
   "source": [
    "# CEILING()--Return the smallest integer value that is greater than or equal to\n",
    "\n",
    "sql= \"select CEILING(45.65) \"  \n",
    "cursor.execute(sql)\n",
    "myresult= cursor.fetchall() \n",
    "\n",
    "for x in myresult:\n",
    "  print(x)\n"
   ]
  },
  {
   "cell_type": "code",
   "execution_count": 22,
   "metadata": {},
   "outputs": [
    {
     "name": "stdout",
     "output_type": "stream",
     "text": [
      "(5,)\n",
      "(10,)\n",
      "(15,)\n",
      "(20,)\n",
      "(22,)\n"
     ]
    }
   ],
   "source": [
    "# (x DIV y)-DIV function is used for integer division (x is divided by y). An integer value is returned.\n",
    "\n",
    "sql= \"select (Marks DIV 2) from table1 \"  \n",
    "cursor.execute(sql)\n",
    "myresult= cursor.fetchall() \n",
    "\n",
    "for x in myresult:\n",
    "  print(x)\n"
   ]
  },
  {
   "cell_type": "code",
   "execution_count": 23,
   "metadata": {},
   "outputs": [
    {
     "name": "stdout",
     "output_type": "stream",
     "text": [
      "(0.0,)\n",
      "(0.0,)\n",
      "(0.0,)\n",
      "(0.0,)\n",
      "(1.5,)\n"
     ]
    }
   ],
   "source": [
    "# MOD(x,y)- Return the remainder of (xy)\n",
    "\n",
    "sql= \"select MOD(Marks,2) from table1 \"  \n",
    "cursor.execute(sql)\n",
    "myresult= cursor.fetchall() \n",
    "\n",
    "for x in myresult:\n",
    "  print(x)\n"
   ]
  },
  {
   "cell_type": "code",
   "execution_count": 24,
   "metadata": {},
   "outputs": [
    {
     "name": "stdout",
     "output_type": "stream",
     "text": [
      "(Decimal('243.5'),)\n"
     ]
    }
   ],
   "source": [
    "# ABS()- Return the absolute value of a number:\n",
    "# \n",
    "\n",
    "sql= \"SELECT ABS(-243.5)\"  \n",
    "cursor.execute(sql)\n",
    "myresult= cursor.fetchall() \n",
    "\n",
    "for x in myresult:\n",
    "  print(x)\n"
   ]
  },
  {
   "cell_type": "code",
   "execution_count": null,
   "metadata": {},
   "outputs": [],
   "source": []
  },
  {
   "cell_type": "code",
   "execution_count": null,
   "metadata": {},
   "outputs": [],
   "source": []
  }
 ],
 "metadata": {
  "kernelspec": {
   "display_name": "Python 3",
   "language": "python",
   "name": "python3"
  },
  "language_info": {
   "codemirror_mode": {
    "name": "ipython",
    "version": 3
   },
   "file_extension": ".py",
   "mimetype": "text/x-python",
   "name": "python",
   "nbconvert_exporter": "python",
   "pygments_lexer": "ipython3",
   "version": "3.8.5"
  }
 },
 "nbformat": 4,
 "nbformat_minor": 4
}
