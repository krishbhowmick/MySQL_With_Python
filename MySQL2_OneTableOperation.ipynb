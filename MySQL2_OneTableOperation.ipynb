{
 "cells": [
  {
   "cell_type": "code",
   "execution_count": 1,
   "metadata": {},
   "outputs": [
    {
     "name": "stdout",
     "output_type": "stream",
     "text": [
      "<mysql.connector.connection_cext.CMySQLConnection object at 0x00000192738007C0>\n"
     ]
    }
   ],
   "source": [
    "#Creating Databases in MySQL\n",
    "import mysql.connector\n",
    "\n",
    "mydb = mysql.connector.connect(\n",
    "  host=\"localhost\",\n",
    "  user=\"root\",\n",
    "  password=\"#meKRISH30\"\n",
    ")\n",
    "\n",
    "print(mydb)"
   ]
  },
  {
   "cell_type": "code",
   "execution_count": 2,
   "metadata": {},
   "outputs": [],
   "source": [
    "#cursor for running the MySQL in Python Jupyter Notebook\n",
    "\n",
    "cursor = mydb.cursor()"
   ]
  },
  {
   "cell_type": "code",
   "execution_count": 3,
   "metadata": {},
   "outputs": [
    {
     "name": "stdout",
     "output_type": "stream",
     "text": [
      "('abc',)\n",
      "('business',)\n",
      "('cantilever',)\n",
      "('games2win',)\n",
      "('grofers',)\n",
      "('information_schema',)\n",
      "('krish',)\n",
      "('mysql',)\n",
      "('performance_schema',)\n",
      "('pharm_easy',)\n",
      "('sales',)\n",
      "('sys',)\n"
     ]
    }
   ],
   "source": [
    "\n",
    "cursor.execute('SHOW DATABASES')\n",
    "\n",
    "for database in cursor:\n",
    "    print(database)"
   ]
  },
  {
   "cell_type": "code",
   "execution_count": 4,
   "metadata": {},
   "outputs": [],
   "source": [
    "# Create a new Database\n",
    "\n",
    "#sql= \"CREATE DATABASE krish\"\n",
    "#cursor.execute(sql)"
   ]
  },
  {
   "cell_type": "code",
   "execution_count": 5,
   "metadata": {},
   "outputs": [],
   "source": [
    "# -selected database\n",
    "\n",
    "cursor.execute('use krish')\n"
   ]
  },
  {
   "cell_type": "code",
   "execution_count": 6,
   "metadata": {},
   "outputs": [],
   "source": [
    "# Create a new table \n",
    "\n",
    "#sql= 'create table BT_Dept (id varchar(5) primary key, name varchar(25), age int(3), sex varchar(1))'\n",
    "#cursor.execute(sql)"
   ]
  },
  {
   "cell_type": "code",
   "execution_count": 7,
   "metadata": {},
   "outputs": [
    {
     "name": "stdout",
     "output_type": "stream",
     "text": [
      "('bt_dept',)\n"
     ]
    }
   ],
   "source": [
    "#Show tables\n",
    "\n",
    "sql= \"show tables\"\n",
    "cursor.execute(sql)\n",
    "\n",
    "for database in cursor:\n",
    "    print(database)"
   ]
  },
  {
   "cell_type": "markdown",
   "metadata": {},
   "source": [
    "# ALTER TABLE\n",
    "\n",
    "* The ALTER TABLE statement is used to add, delete, or modify columns in an existing table.\n",
    "* The ALTER TABLE statement is also used to add and drop various constraints on an existing table.\n",
    "#### ALTER TABLE \n",
    "* ALTER TABLE TABLE_Name\n",
    "* MODIFY id varchar(6)\n",
    "* add column_\n",
    "* delete column_\n"
   ]
  },
  {
   "cell_type": "code",
   "execution_count": 8,
   "metadata": {},
   "outputs": [
    {
     "data": {
      "text/plain": [
       "\"\\nsql = 'ALTER TABLE BT_Dept MODIFY id varchar(6)'\\ncursor.execute(sql)\\nprint(cursor) \""
      ]
     },
     "execution_count": 8,
     "metadata": {},
     "output_type": "execute_result"
    }
   ],
   "source": [
    "# ALTER TABLE\n",
    "#1.1# Modify a column attribute- (id varchar(5) --> id varchar(6))\n",
    "\"\"\"\n",
    "sql = 'ALTER TABLE BT_Dept MODIFY id varchar(6)'\n",
    "cursor.execute(sql)\n",
    "print(cursor) \"\"\""
   ]
  },
  {
   "cell_type": "code",
   "execution_count": 9,
   "metadata": {},
   "outputs": [
    {
     "data": {
      "text/plain": [
       "\"\\nsql = 'ALTER TABLE BT_Dept ADD email varchar(20)'\\ncursor.execute(sql)\\n\\nprint(cursor) \""
      ]
     },
     "execution_count": 9,
     "metadata": {},
     "output_type": "execute_result"
    }
   ],
   "source": [
    "#1.2 # Add a column attribute\n",
    "\"\"\"\n",
    "sql = 'ALTER TABLE BT_Dept ADD email varchar(20)'\n",
    "cursor.execute(sql)\n",
    "\n",
    "print(cursor) \"\"\""
   ]
  },
  {
   "cell_type": "markdown",
   "metadata": {},
   "source": [
    "# UPDATE\n",
    "* The UPDATE statement is used to modify the existing records in a table.\n",
    "#### UPDATE Syntax\n",
    "* UPDATE table_name SET column1 = value1, column2 = value2, ... \n",
    "* WHERE condition;\n",
    "\n",
    "Note: Be careful when updating records in a table! Notice the WHERE clause in the UPDATE statement. The WHERE clause specifies which record(s) that should be updated. If you omit the WHERE clause, all records in the table will be updated!"
   ]
  },
  {
   "cell_type": "code",
   "execution_count": 10,
   "metadata": {},
   "outputs": [
    {
     "data": {
      "text/plain": [
       "'\\nsql= \"UPDATE BT_Dept SET name= \\'Aafreen Ansari\\' WHERE id=\\'14BT01\\' \"  \\ncursor.execute(sql)\\nmydb.commit()     #mydb.commit()--> It is required to make the changes, otherwise no changes are made to the table.\\n\\nprint(cursor.rowcount, \"record inserted.\") '"
      ]
     },
     "execution_count": 10,
     "metadata": {},
     "output_type": "execute_result"
    }
   ],
   "source": [
    "# UPDATE\n",
    "#1.3 # Update name where id=14BT01\n",
    "\n",
    "\"\"\"\n",
    "sql= \"UPDATE BT_Dept SET name= 'Aafreen Ansari' WHERE id='14BT01' \"  \n",
    "cursor.execute(sql)\n",
    "mydb.commit()     #mydb.commit()--> It is required to make the changes, otherwise no changes are made to the table.\n",
    "\n",
    "print(cursor.rowcount, \"record inserted.\") \"\"\""
   ]
  },
  {
   "cell_type": "markdown",
   "metadata": {},
   "source": [
    "# DESCRIBE TABLE"
   ]
  },
  {
   "cell_type": "code",
   "execution_count": 11,
   "metadata": {},
   "outputs": [
    {
     "data": {
      "text/plain": [
       "'\\nsql = (\"DESCRIBE BT_Dept \")\\ncursor.execute(sql)\\n'"
      ]
     },
     "execution_count": 11,
     "metadata": {},
     "output_type": "execute_result"
    }
   ],
   "source": [
    "#1.4 # Describe a Table\n",
    "\n",
    "\"\"\"\n",
    "sql = (\"DESCRIBE BT_Dept \")\n",
    "cursor.execute(sql)\n",
    "\"\"\"\n",
    "#How to print desc table"
   ]
  },
  {
   "cell_type": "markdown",
   "metadata": {},
   "source": [
    "# INSERT INTO\n",
    "* The INSERT INTO statement is used to insert new records in a table.\n",
    "* It is possible to write the INSERT INTO statement in two ways.\n",
    "\n",
    "#### INSERT INTO Syntax\n",
    "* INSERT INTO table_name (column1, column2, column3, ...) \n",
    "* VALUES (value1, value2, value3, ...);\n",
    "##### or\n",
    "* INSERT INTO table_name \n",
    "* VALUES (value1, value2, value3, ...);\n",
    " \n",
    "NOTE-If you are adding values for all the columns of the table, you do not need to specify the column names in the SQL query. However, make sure the order of the values is in the same order as the columns in the table. The INSERT INTO syntax would be as follows:"
   ]
  },
  {
   "cell_type": "code",
   "execution_count": 12,
   "metadata": {},
   "outputs": [
    {
     "data": {
      "text/plain": [
       "'\\nsql = \\'INSERT INTO BT_Dept(id,name,age,sex,email) values(%s, %s, %s, %s, %s)\\'\\nval = (\\'14BT04\\',\\'Asifa Nasir\\', \\'25\\',\\'F\\', \\'asifa@gmail.com\\')\\ncursor.execute(sql,val)\\nmydb.commit()     #mydb.commit()--> It is required to make the changes, otherwise no changes are made to the table.\\n\\nprint(cursor.rowcount, \"record inserted.\") '"
      ]
     },
     "execution_count": 12,
     "metadata": {},
     "output_type": "execute_result"
    }
   ],
   "source": [
    "#1.5 #Insert a values in Tables\n",
    "\n",
    "\"\"\"\n",
    "sql = 'INSERT INTO BT_Dept(id,name,age,sex,email) values(%s, %s, %s, %s, %s)'\n",
    "val = ('14BT04','Asifa Nasir', '25','F', 'asifa@gmail.com')\n",
    "cursor.execute(sql,val)\n",
    "mydb.commit()     #mydb.commit()--> It is required to make the changes, otherwise no changes are made to the table.\n",
    "\n",
    "print(cursor.rowcount, \"record inserted.\") \"\"\""
   ]
  },
  {
   "cell_type": "code",
   "execution_count": 13,
   "metadata": {},
   "outputs": [
    {
     "data": {
      "text/plain": [
       "'\\nsql = \\'INSERT INTO BT_Dept(id,name,age,sex,email) values(%s, %s, %s, %s, %s)\\'\\nval = [\\n    (\\'14BT05\\',\\'Asish Mondal\\', \\'26\\',\\'M\\', \\'asish@gmail.com\\'),\\n    (\\'14BT06\\',\\'Krish Bhowmick\\', \\'26\\',\\'M\\', \\'krish@gmail.com\\'),\\n    (\\'14BT07\\',\\'Lopa Mudra\\', \\'25\\',\\'F\\', \\'Lopa@gmail.com\\'),\\n    (\\'14BT08\\',\\'Mallika Ghosh\\', \\'25\\',\\'F\\', \\'mallika@gmail.com\\'),\\n    (\\'14BT09\\',\\'Moumita Giri\\', \\'25\\',\\'F\\', \\'moumi@gmail.com\\')\\n]\\ncursor.executemany(sql,val)\\nmydb.commit()     #mydb.commit()--> It is required to make the changes, otherwise no changes are made to the table.\\n\\nprint(cursor.rowcount, \"record inserted.\") '"
      ]
     },
     "execution_count": 13,
     "metadata": {},
     "output_type": "execute_result"
    }
   ],
   "source": [
    "#Insert Multiple values in Tables\n",
    "\"\"\"\n",
    "sql = 'INSERT INTO BT_Dept(id,name,age,sex,email) values(%s, %s, %s, %s, %s)'\n",
    "val = [\n",
    "    ('14BT05','Asish Mondal', '26','M', 'asish@gmail.com'),\n",
    "    ('14BT06','Krish Bhowmick', '26','M', 'krish@gmail.com'),\n",
    "    ('14BT07','Lopa Mudra', '25','F', 'Lopa@gmail.com'),\n",
    "    ('14BT08','Mallika Ghosh', '25','F', 'mallika@gmail.com'),\n",
    "    ('14BT09','Moumita Giri', '25','F', 'moumi@gmail.com')\n",
    "]\n",
    "cursor.executemany(sql,val)\n",
    "mydb.commit()     #mydb.commit()--> It is required to make the changes, otherwise no changes are made to the table.\n",
    "\n",
    "print(cursor.rowcount, \"record inserted.\") \"\"\""
   ]
  },
  {
   "cell_type": "code",
   "execution_count": 14,
   "metadata": {},
   "outputs": [
    {
     "data": {
      "text/plain": [
       "'\\nsql = \\'INSERT INTO BT_Dept(id,name,age,sex,email) values(%s, %s, %s, %s, %s)\\'\\nval = (\\'14BT10\\',\\'Mrityunjoy Sarker\\', \\'26\\',\\'M\\', \\'mrity@gmail.com\\')\\ncursor.execute(sql,val)\\nmydb.commit()     #mydb.commit()--> It is required to make the changes, otherwise no changes are made to the table.\\n\\nprint(\"Last record inserted.\", cursor.lastrowid)'"
      ]
     },
     "execution_count": 14,
     "metadata": {},
     "output_type": "execute_result"
    }
   ],
   "source": [
    "# It doesnot make sense\n",
    "\"\"\"\n",
    "sql = 'INSERT INTO BT_Dept(id,name,age,sex,email) values(%s, %s, %s, %s, %s)'\n",
    "val = ('14BT10','Mrityunjoy Sarker', '26','M', 'mrity@gmail.com')\n",
    "cursor.execute(sql,val)\n",
    "mydb.commit()     #mydb.commit()--> It is required to make the changes, otherwise no changes are made to the table.\n",
    "\n",
    "print(\"Last record inserted.\", cursor.lastrowid)\"\"\""
   ]
  },
  {
   "cell_type": "markdown",
   "metadata": {},
   "source": [
    "# DELETE\n",
    "* The DELETE statement is used to delete existing records in a table.\n",
    "#### DELETE Syntax\n",
    "* DELETE FROM table_name WHERE condition;\n",
    "\n",
    "Note: Be careful when deleting records in a table! Notice the WHERE clause in the DELETE statement. The WHERE clause specifies which record(s) should be deleted. If you omit the WHERE clause, all records in the table will be deleted!"
   ]
  },
  {
   "cell_type": "code",
   "execution_count": 15,
   "metadata": {},
   "outputs": [
    {
     "data": {
      "text/plain": [
       "'\\nsql= \"DELETE FROM BT_Dept WHERE name= \\'Lopa Mudra\\' \"  \\ncursor.execute(sql)\\nmydb.commit()     #mydb.commit()--> It is required to make the changes, otherwise no changes are made to the table.\\n\\nprint(cursor.rowcount, \"record inserted.\") '"
      ]
     },
     "execution_count": 15,
     "metadata": {},
     "output_type": "execute_result"
    }
   ],
   "source": [
    "#1.6 # DELETE\n",
    "\n",
    "\"\"\"\n",
    "sql= \"DELETE FROM BT_Dept WHERE name= 'Lopa Mudra' \"  \n",
    "cursor.execute(sql)\n",
    "mydb.commit()     #mydb.commit()--> It is required to make the changes, otherwise no changes are made to the table.\n",
    "\n",
    "print(cursor.rowcount, \"record inserted.\") \"\"\"\n",
    "\n",
    "#It will delete the whole row of data "
   ]
  },
  {
   "cell_type": "markdown",
   "metadata": {},
   "source": [
    "# SELECT\n",
    "* The SELECT statement is used to select data from a database.\n",
    "* The data returned is stored in a result table, called the result-set.\n",
    "#### SELECT Syntax\n",
    "1. SELECT column1, column2, ... FROM table_name;\n",
    "2. SELECT * FROM table_name;"
   ]
  },
  {
   "cell_type": "code",
   "execution_count": 16,
   "metadata": {},
   "outputs": [
    {
     "name": "stdout",
     "output_type": "stream",
     "text": [
      "('14BT01', 'Aafreen Ansari', '24', 'F', 'afreen@gmail.com')\n",
      "('14BT02', 'Arnab Baneerjee', '25', 'M', 'arnaba@gmail.com')\n",
      "('14BT03', 'Arushi Sinha', '25', 'F', 'arushi@gmail.com')\n",
      "('14BT04', 'Asifa Nasir', '25', 'F', 'asifa@gmail.com')\n",
      "('14BT05', 'Asish Mondal', '26', 'M', 'asish@gmail.com')\n",
      "('14BT06', 'Krish Bhowmick', '26', 'M', 'krish@gmail.com')\n",
      "('14BT08', 'Mallika Ghosh', '25', 'F', 'mallika@gmail.com')\n",
      "('14BT09', 'Moumita Giri', '25', 'F', 'moumi@gmail.com')\n",
      "('14BT10', 'Mrityunjoy Sarker', '26', 'M', 'mrity@gmail.com')\n"
     ]
    }
   ],
   "source": [
    "#2.1 #SELECT\n",
    "\n",
    "sql= \"SELECT * FROM BT_Dept\"\n",
    "cursor.execute(sql)\n",
    "myresult= cursor.fetchall()   #fetchall() method, which fetches all rows from the last executed statement.\n",
    "\n",
    "for x in myresult:\n",
    "  print(x)"
   ]
  },
  {
   "cell_type": "markdown",
   "metadata": {},
   "source": [
    "# SELECT DISTINCT- (unique, different,No duplicate value)\n",
    "* Return the **unique** values for that expression.--->\n",
    "* The SELECT DISTINCT statement is used to return only distinct (different) values.\n",
    "* Inside a table, a column often contains many duplicate values; and sometimes you only want to list the different (distinct) values.\n",
    "#### SELECT DISTINCT Syntax\n",
    "* SELECT DISTINCT column1, column2, ... \n",
    "* FROM table_name;"
   ]
  },
  {
   "cell_type": "code",
   "execution_count": 17,
   "metadata": {},
   "outputs": [
    {
     "name": "stdout",
     "output_type": "stream",
     "text": [
      "('24',)\n",
      "('25',)\n",
      "('26',)\n"
     ]
    }
   ],
   "source": [
    "# DISTINCT\n",
    "#2.2 #Show me the diff kind of age\n",
    "\n",
    "sql= \"SELECT DISTINCT age FROM bt_dept \"\n",
    "cursor.execute(sql)\n",
    "myresult= cursor.fetchall()   #fetchall() method, which fetches all rows from the last executed statement.\n",
    "\n",
    "for x in myresult:\n",
    "  print(x)"
   ]
  },
  {
   "cell_type": "markdown",
   "metadata": {},
   "source": [
    "# WHERE \n",
    "* The WHERE clause is used to filter records. It extract only those records that fulfill a specified condition.\n",
    "#### WHERE Syntax\n",
    "* SELECT column1, column2, ...\n",
    "* FROM table_name\n",
    "* WHERE condition;"
   ]
  },
  {
   "cell_type": "code",
   "execution_count": 18,
   "metadata": {},
   "outputs": [
    {
     "name": "stdout",
     "output_type": "stream",
     "text": [
      "('14BT02', 'Arnab Baneerjee', '25', 'M', 'arnaba@gmail.com')\n",
      "('14BT03', 'Arushi Sinha', '25', 'F', 'arushi@gmail.com')\n",
      "('14BT04', 'Asifa Nasir', '25', 'F', 'asifa@gmail.com')\n",
      "('14BT08', 'Mallika Ghosh', '25', 'F', 'mallika@gmail.com')\n",
      "('14BT09', 'Moumita Giri', '25', 'F', 'moumi@gmail.com')\n"
     ]
    }
   ],
   "source": [
    "# WHERE\n",
    "#2.3 # how many people's age is 25\n",
    "\n",
    "sql= \"SELECT * FROM bt_dept WHERE age = '25' \"\n",
    "cursor.execute(sql)\n",
    "myresult= cursor.fetchall()   #fetchall() method, which fetches all rows from the last executed statement.\n",
    "\n",
    "for x in myresult:\n",
    "  print(x)"
   ]
  },
  {
   "cell_type": "markdown",
   "metadata": {},
   "source": [
    "# AND, OR and NOT \n",
    "* The WHERE clause can be combined with AND, OR, and NOT operators.\n",
    "* The AND and OR operators are used to filter records based on more than one condition:\n",
    "* The AND operator displays a record if all the conditions separated by AND are TRUE --> (Both Condition should True)\n",
    "* The OR operator displays a record if any of the conditions separated by OR is TRUE --> (Any of Condition True)\n",
    "* The NOT operator displays a record if the condition(s) is NOT TRUE.\n",
    "#### AND Syntax\n",
    "* SELECT column1, column2, ...\n",
    "* FROM table_name\n",
    "* WHERE condition1 AND condition2 AND condition3 ...;\n",
    "#### OR Syntax\n",
    "* SELECT column1, column2, ...\n",
    "* FROM table_name\n",
    "* WHERE condition1 OR condition2 OR condition3 ...;\n",
    "#### NOT Syntax\n",
    "* SELECT column1, column2, ...\n",
    "* FROM table_name\n",
    "* WHERE NOT condition;"
   ]
  },
  {
   "cell_type": "code",
   "execution_count": 19,
   "metadata": {},
   "outputs": [
    {
     "name": "stdout",
     "output_type": "stream",
     "text": [
      "('14BT03', 'Arushi Sinha', '25', 'F', 'arushi@gmail.com')\n",
      "('14BT04', 'Asifa Nasir', '25', 'F', 'asifa@gmail.com')\n",
      "('14BT08', 'Mallika Ghosh', '25', 'F', 'mallika@gmail.com')\n",
      "('14BT09', 'Moumita Giri', '25', 'F', 'moumi@gmail.com')\n"
     ]
    }
   ],
   "source": [
    "#AND --> Both the condition should True\n",
    "#2.4 # How many femail are there with 25 age\n",
    "\n",
    "sql= \"SELECT * FROM bt_dept WHERE (age = '25' AND sex = 'F') \"\n",
    "cursor.execute(sql)\n",
    "myresult= cursor.fetchall()   #fetchall() method, which fetches all rows from the last executed statement.\n",
    "\n",
    "for x in myresult:\n",
    "  print(x)\n"
   ]
  },
  {
   "cell_type": "code",
   "execution_count": 20,
   "metadata": {},
   "outputs": [
    {
     "name": "stdout",
     "output_type": "stream",
     "text": [
      "('14BT01', 'Aafreen Ansari', '24', 'F', 'afreen@gmail.com')\n",
      "('14BT02', 'Arnab Baneerjee', '25', 'M', 'arnaba@gmail.com')\n",
      "('14BT03', 'Arushi Sinha', '25', 'F', 'arushi@gmail.com')\n",
      "('14BT04', 'Asifa Nasir', '25', 'F', 'asifa@gmail.com')\n",
      "('14BT08', 'Mallika Ghosh', '25', 'F', 'mallika@gmail.com')\n",
      "('14BT09', 'Moumita Giri', '25', 'F', 'moumi@gmail.com')\n"
     ]
    }
   ],
   "source": [
    "# #OR --> Any of the condition True\n",
    "#\n",
    "\n",
    "sql= \"SELECT * FROM bt_dept WHERE (age = '25' OR sex = 'F') \"\n",
    "cursor.execute(sql)\n",
    "myresult= cursor.fetchall()  #fetchall() method, which fetches all rows from the last executed statement.\n",
    "\n",
    "for x in myresult:\n",
    "  print(x)"
   ]
  },
  {
   "cell_type": "code",
   "execution_count": 21,
   "metadata": {},
   "outputs": [
    {
     "name": "stdout",
     "output_type": "stream",
     "text": [
      "('14BT01', 'Aafreen Ansari', '24', 'F', 'afreen@gmail.com')\n"
     ]
    }
   ],
   "source": [
    "#2 #NOT\n",
    "\n",
    "sql= \"SELECT * FROM bt_dept WHERE NOT (age = '25' OR sex = 'M') \"  # use OR & AND see the ans, but why??? \n",
    "cursor.execute(sql)\n",
    "myresult= cursor.fetchall()#fetchall() method, which fetches all rows from the last executed statement.\n",
    "\n",
    "for x in myresult:\n",
    "  print(x)"
   ]
  },
  {
   "cell_type": "markdown",
   "metadata": {},
   "source": [
    "# GROUP BY\n",
    "* The GROUP BY statement **groups the rows that have the same values into summary rows**, like \"find the number of customers in each country\".\n",
    "* It use with aggregate functions (COUNT, MAX, MIN, SUM, AVG) to group the result-set by one or more columns.\n",
    "#### GROUP BY Syntax\n",
    "* SELECT column_name(s)\n",
    "* FROM table_name\n",
    "* WHERE condition\n",
    "* GROUP BY column_name(s)\n",
    "* ORDER BY column_name(s);"
   ]
  },
  {
   "cell_type": "code",
   "execution_count": 22,
   "metadata": {},
   "outputs": [
    {
     "name": "stdout",
     "output_type": "stream",
     "text": [
      "(5, 'F')\n",
      "(4, 'M')\n"
     ]
    }
   ],
   "source": [
    "# GROUP BY\n",
    "#2.5 #How many male and female in your class?\n",
    "\n",
    "sql= \"SELECT COUNT(name), sex FROM bt_dept GROUP BY sex   \"  \n",
    "cursor.execute(sql)\n",
    "myresult= cursor.fetchall()    #fetchall() method, which fetches all rows from the last executed statement.\n",
    "\n",
    "for x in myresult:\n",
    "  print(x)\n"
   ]
  },
  {
   "cell_type": "code",
   "execution_count": 23,
   "metadata": {},
   "outputs": [
    {
     "name": "stdout",
     "output_type": "stream",
     "text": [
      "(5, 'F')\n",
      "(4, 'M')\n"
     ]
    }
   ],
   "source": [
    "# GROUP BY\n",
    "#How many male and female in your class?\n",
    "\n",
    "sql= \"SELECT COUNT(name), sex FROM bt_dept GROUP BY sex   \"  \n",
    "cursor.execute(sql)\n",
    "myresult= cursor.fetchall()    #fetchall() method, which fetches all rows from the last executed statement.\n",
    "\n",
    "for x in myresult:\n",
    "  print(x)\n"
   ]
  },
  {
   "cell_type": "markdown",
   "metadata": {},
   "source": [
    "# ORDER BY\n",
    "* The ORDER BY keyword is used to **sort the result-set in ascending or descending order**.\n",
    "* The ORDER BY keyword sorts the records in ascending order by default. To sort the records in descending order, use the DESC keyword.\n",
    "#### ORDER BY Syntax\n",
    "* SELECT column1, column2, ...\n",
    "* FROM table_name\n",
    "* ORDER BY column1, column2, ... ASC|DESC;"
   ]
  },
  {
   "cell_type": "code",
   "execution_count": 24,
   "metadata": {},
   "outputs": [
    {
     "name": "stdout",
     "output_type": "stream",
     "text": [
      "('14BT01', 'Aafreen Ansari', '24', 'F', 'afreen@gmail.com')\n",
      "('14BT02', 'Arnab Baneerjee', '25', 'M', 'arnaba@gmail.com')\n",
      "('14BT03', 'Arushi Sinha', '25', 'F', 'arushi@gmail.com')\n",
      "('14BT04', 'Asifa Nasir', '25', 'F', 'asifa@gmail.com')\n",
      "('14BT08', 'Mallika Ghosh', '25', 'F', 'mallika@gmail.com')\n",
      "('14BT09', 'Moumita Giri', '25', 'F', 'moumi@gmail.com')\n",
      "('14BT05', 'Asish Mondal', '26', 'M', 'asish@gmail.com')\n",
      "('14BT06', 'Krish Bhowmick', '26', 'M', 'krish@gmail.com')\n",
      "('14BT10', 'Mrityunjoy Sarker', '26', 'M', 'mrity@gmail.com')\n"
     ]
    }
   ],
   "source": [
    "# ORDER BY\n",
    "#2.6 #Show me the person's age serial wise\n",
    "\n",
    "sql= \"SELECT * FROM bt_dept ORDER BY age \"   \n",
    "cursor.execute(sql)\n",
    "myresult= cursor.fetchall()     #fetchall() method, which fetches all rows from the last executed statement.\n",
    "\n",
    "for x in myresult:\n",
    "  print(x)"
   ]
  },
  {
   "cell_type": "code",
   "execution_count": 25,
   "metadata": {},
   "outputs": [
    {
     "name": "stdout",
     "output_type": "stream",
     "text": [
      "('14BT09', 'Moumita Giri', '25', 'F', 'moumi@gmail.com')\n",
      "('14BT08', 'Mallika Ghosh', '25', 'F', 'mallika@gmail.com')\n",
      "('14BT04', 'Asifa Nasir', '25', 'F', 'asifa@gmail.com')\n",
      "('14BT03', 'Arushi Sinha', '25', 'F', 'arushi@gmail.com')\n"
     ]
    }
   ],
   "source": [
    "# ORDER BY\n",
    "# \n",
    "\n",
    "sql= \"SELECT * FROM bt_dept WHERE (age='25' AND sex='F') ORDER BY name DESC \"   \n",
    "cursor.execute(sql)\n",
    "myresult= cursor.fetchall()     #fetchall() method, which fetches all rows from the last executed statement.\n",
    "\n",
    "for x in myresult:\n",
    "  print(x)"
   ]
  },
  {
   "cell_type": "markdown",
   "metadata": {},
   "source": [
    "# MySQL Aggregate Functions : SUM, AVG, MAX, MIN , COUNT, DISTINCT\n",
    "\n",
    "Aggregate Functions are all about- \n",
    "**Performing  calculations on multiple rows Of a single column of a table And returning a single value**.\n",
    "\n",
    "The ISO standard defines five (5) aggregate functions namely\n",
    "* 1) COUNT-The COUNT() function returns the number of rows that matches a specified criterion.\n",
    "* 2) SUM-  The SUM() function returns the total sum of a numeric column.\n",
    "* 3) AVG-  The AVG() function returns the average value of a numeric column.\n",
    "* 4) MIN-  The MIN() function returns the smallest value of the selected column.\n",
    "* 5) MAX-  The MAX() function returns the largest value of the selected column.\n",
    "#### COUNT() Syntax\n",
    "* SELECT COUNT(column_name)\n",
    "* FROM table_name\n",
    "* WHERE condition;\n",
    "#### AVG() Syntax\n",
    "* SELECT AVG(column_name)\n",
    "* FROM table_name\n",
    "* WHERE condition;\n",
    "#### SUM() Syntax\n",
    "* SELECT SUM(column_name)\n",
    "* FROM table_name\n",
    "* WHERE condition;\n",
    "#### MIN() Syntax\n",
    "* SELECT MIN(column_name)\n",
    "* FROM table_name\n",
    "* WHERE condition;\n",
    "#### MAX() Syntax\n",
    "* SELECT MAX(column_name)\n",
    "* FROM table_name\n",
    "* WHERE condition;\n"
   ]
  },
  {
   "cell_type": "code",
   "execution_count": 26,
   "metadata": {},
   "outputs": [
    {
     "name": "stdout",
     "output_type": "stream",
     "text": [
      "('24',)\n"
     ]
    }
   ],
   "source": [
    "# MINIMUM\n",
    "#2.7 # Tell me the details of the female, whose age is minimum\n",
    "\n",
    "sql= \"SELECT MIN(age) FROM bt_dept WHERE sex ='F' \"  \n",
    "cursor.execute(sql)\n",
    "myresult= cursor.fetchall()    #fetchall() method, which fetches all rows from the last executed statement.\n",
    "\n",
    "for x in myresult:\n",
    "  print(x)"
   ]
  },
  {
   "cell_type": "code",
   "execution_count": 27,
   "metadata": {},
   "outputs": [
    {
     "name": "stdout",
     "output_type": "stream",
     "text": [
      "('25',)\n"
     ]
    }
   ],
   "source": [
    "# MAXIMUM\n",
    "# # Tell me the details of the male, whose age is minimum\n",
    "\n",
    "sql= \"SELECT MAX(age) FROM bt_dept WHERE sex ='F' \"  \n",
    "cursor.execute(sql)\n",
    "myresult= cursor.fetchall()    #fetchall() method, which fetches all rows from the last executed statement.\n",
    "\n",
    "for x in myresult:\n",
    "  print(x)"
   ]
  },
  {
   "cell_type": "code",
   "execution_count": 28,
   "metadata": {},
   "outputs": [
    {
     "name": "stdout",
     "output_type": "stream",
     "text": [
      "(5,)\n"
     ]
    }
   ],
   "source": [
    "# COUNT\n",
    "# #Tell me how many female are there in class\n",
    "\n",
    "sql= \"SELECT COUNT(sex) FROM bt_dept WHERE sex ='F' \"  \n",
    "cursor.execute(sql)\n",
    "myresult= cursor.fetchall()    #fetchall() method, which fetches all rows from the last executed statement.\n",
    "\n",
    "for x in myresult:\n",
    "  print(x)"
   ]
  },
  {
   "cell_type": "code",
   "execution_count": 29,
   "metadata": {},
   "outputs": [
    {
     "name": "stdout",
     "output_type": "stream",
     "text": [
      "(24.8,)\n"
     ]
    }
   ],
   "source": [
    "# AVERAGE\n",
    "# #Tell me the avg age of female\n",
    "\n",
    "sql= \"SELECT AVG(age) FROM bt_dept WHERE sex ='F' \"  \n",
    "cursor.execute(sql)\n",
    "myresult= cursor.fetchall()    #fetchall() method, which fetches all rows from the last executed statement.\n",
    "\n",
    "for x in myresult:\n",
    "  print(x)"
   ]
  },
  {
   "cell_type": "code",
   "execution_count": 30,
   "metadata": {},
   "outputs": [
    {
     "name": "stdout",
     "output_type": "stream",
     "text": [
      "(124.0,)\n"
     ]
    }
   ],
   "source": [
    "# SUM\n",
    "# #Tell me the sum of all age\n",
    "\n",
    "sql= \"SELECT SUM(age) FROM bt_dept WHERE sex ='F' \"  \n",
    "cursor.execute(sql)\n",
    "myresult= cursor.fetchall()    #fetchall() method, which fetches all rows from the last executed statement.\n",
    "\n",
    "for x in myresult:\n",
    "  print(x)"
   ]
  },
  {
   "cell_type": "markdown",
   "metadata": {},
   "source": [
    "# NULL Value\n",
    "\n",
    "* A field with a NULL value is a field with no value.\n",
    "* If a field in a table is optional, it is possible to insert a new record or update a record without adding a value to this field. Then, the field will be saved with a NULL value.\n",
    "### How to Test for NULL Values?\n",
    "* It is not possible to test for NULL values with comparison operators, such as =, <, or <>.\n",
    "* We will have to use the IS NULL and IS NOT NULL operators instead.\n",
    "#### IS NULL Syntex\n",
    "*  SELECT column_names \n",
    "* FROM table_name \n",
    "* WHERE column_name IS NULL;\n",
    "#### IS NOT NULL Syntex\n",
    "* SELECT column_names \n",
    "* FROM table_name \n",
    "* WHERE column_name IS NOT NULL;\n",
    "\n",
    "Note: A NULL value is different from a zero value or a field that contains spaces. A field with a NULL value is one that has been left blank during record creation!"
   ]
  },
  {
   "cell_type": "code",
   "execution_count": 31,
   "metadata": {},
   "outputs": [],
   "source": [
    "# NULL VALUE\n",
    "#2.8 # tell me where age is given null\n",
    "\n",
    "sql= \"SELECT age FROM bt_dept WHERE age IS NULL \"  \n",
    "cursor.execute(sql)\n",
    "myresult= cursor.fetchall()    #fetchall() method, which fetches all rows from the last executed statement.\n",
    "\n",
    "for x in myresult:\n",
    "  print(x)\n",
    "\n",
    "# It doesnot show any output because There is no null value in Dataset"
   ]
  },
  {
   "cell_type": "code",
   "execution_count": 32,
   "metadata": {},
   "outputs": [
    {
     "name": "stdout",
     "output_type": "stream",
     "text": [
      "('24',)\n",
      "('25',)\n",
      "('25',)\n",
      "('25',)\n",
      "('26',)\n",
      "('26',)\n",
      "('25',)\n",
      "('25',)\n",
      "('26',)\n"
     ]
    }
   ],
   "source": [
    "# NOT NULL\n",
    "# \n",
    "\n",
    "sql= \"SELECT age FROM bt_dept WHERE age IS NOT NULL \"  \n",
    "cursor.execute(sql)\n",
    "myresult= cursor.fetchall()    #fetchall() method, which fetches all rows from the last executed statement.\n",
    "\n",
    "for x in myresult:\n",
    "  print(x)"
   ]
  },
  {
   "cell_type": "markdown",
   "metadata": {},
   "source": [
    "# LIMIT(MySQL) / TOP(MS SQL Server)\n",
    "* The SELECT TOP clause is used to **specify the number of records to return**.\n",
    "#### LIMIT Syntax\n",
    "* SELECT column_name(s)\n",
    "* FROM table_name\n",
    "* WHERE condition\n",
    "* LIMIT number;"
   ]
  },
  {
   "cell_type": "code",
   "execution_count": 33,
   "metadata": {},
   "outputs": [
    {
     "name": "stdout",
     "output_type": "stream",
     "text": [
      "('14BT01', 'Aafreen Ansari', '24', 'F', 'afreen@gmail.com')\n"
     ]
    }
   ],
   "source": [
    "#2.9 #BETWEEN & LIMIT\n",
    "#\n",
    "sql= \"SELECT * FROM bt_dept WHERE age BETWEEN 20 and 24 LIMIT 3 \"  \n",
    "cursor.execute(sql)\n",
    "myresult= cursor.fetchall()    #fetchall() method, which fetches all rows from the last executed statement.\n",
    "\n",
    "for x in myresult:\n",
    "  print(x)"
   ]
  },
  {
   "cell_type": "markdown",
   "metadata": {},
   "source": []
  },
  {
   "cell_type": "markdown",
   "metadata": {},
   "source": [
    "# SQL Wildcard Characters\n",
    "* **A wildcard is a character that used to substitute one or more characters in a string when searching in database**.\n",
    "* **Wildcard characters are used with the LIKE operator. The LIKE operator is used in a WHERE clause to search for a specified pattern in a column**.\n",
    "##  LIKE Operator--(String Processing)\n",
    "* The LIKE operator is used in a WHERE clause to search for a specified pattern in a column.\n",
    "* There are two wildcards often used in conjunction with the LIKE operator:\n",
    "* * PercentSign(%) represents zero, one, or multiple characters\n",
    "* * underscore(_) represents a single character\n",
    "* * LIKE 'a%'\t-- start with \"a\"\n",
    "* * LIKE '%a'\t-- end with \"a\"\n",
    "* * LIKE '%or%'\t-- have \"or\" in any position\n",
    "* * LIKE '_r%'\t-- have \"r\" in the second position\n",
    "* * LIKE 'a_%'\t-- start with \"a\" and are at least 2 characters in length\n",
    "* * LIKE 'a__%'\t-- start with \"a\" and are at least 3 characters in length\n",
    "* * LIKE 'a%o'\t-- start with \"a\" and ends with \"o\"\n",
    "\n",
    "#### SYNTEX\n",
    "* SELECT column_name(s)\n",
    "* FROM Table_Name\n",
    "* WHERE column_name LIKE 'a%'"
   ]
  },
  {
   "cell_type": "code",
   "execution_count": 34,
   "metadata": {},
   "outputs": [
    {
     "name": "stdout",
     "output_type": "stream",
     "text": [
      "('14BT01', 'Aafreen Ansari', '24', 'F', 'afreen@gmail.com')\n",
      "('14BT02', 'Arnab Baneerjee', '25', 'M', 'arnaba@gmail.com')\n",
      "('14BT03', 'Arushi Sinha', '25', 'F', 'arushi@gmail.com')\n",
      "('14BT04', 'Asifa Nasir', '25', 'F', 'asifa@gmail.com')\n",
      "('14BT05', 'Asish Mondal', '26', 'M', 'asish@gmail.com')\n"
     ]
    }
   ],
   "source": [
    "#2.10 #LIKE\n",
    "\n",
    "sql= \"SELECT * FROM bt_dept WHERE name LIKE 'a%'  \"  \n",
    "cursor.execute(sql)\n",
    "myresult= cursor.fetchall()    #fetchall() method, which fetches all rows from the last executed statement.\n",
    "\n",
    "for x in myresult:\n",
    "  print(x)"
   ]
  },
  {
   "cell_type": "code",
   "execution_count": 35,
   "metadata": {},
   "outputs": [
    {
     "name": "stdout",
     "output_type": "stream",
     "text": [
      "('14BT01', 'Aafreen Ansari', '24', 'F', 'afreen@gmail.com')\n",
      "('14BT08', 'Mallika Ghosh', '25', 'F', 'mallika@gmail.com')\n"
     ]
    }
   ],
   "source": [
    "# LIKE\n",
    "\n",
    "sql= \"SELECT * FROM bt_dept WHERE name LIKE '_a%'  \"  \n",
    "cursor.execute(sql)\n",
    "myresult= cursor.fetchall()    #fetchall() method, which fetches all rows from the last executed statement.\n",
    "\n",
    "for x in myresult:\n",
    "  print(x)"
   ]
  },
  {
   "cell_type": "markdown",
   "metadata": {},
   "source": [
    "# Aliases- (temporary, a false or assumed identity.)\n",
    "* SQL aliases are used to give a table, or a column in a table, a temporary name.\n",
    "* Aliases are often used to make column names more readable.\n",
    "* An alias only exists for the duration of the query.\n",
    "#### Alias Column Syntax\n",
    "* SELECT column_name AS alias_name\n",
    "* FROM table_name;\n",
    "#### Alias Table Syntax\n",
    "* SELECT column_name(s)\n",
    "* FROM table_name AS alias_name;"
   ]
  },
  {
   "cell_type": "code",
   "execution_count": 36,
   "metadata": {},
   "outputs": [
    {
     "name": "stdout",
     "output_type": "stream",
     "text": [
      "('14BT02', 'Arnab Baneerjee', '25')\n",
      "('14BT03', 'Arushi Sinha', '25')\n",
      "('14BT04', 'Asifa Nasir', '25')\n",
      "('14BT08', 'Mallika Ghosh', '25')\n",
      "('14BT09', 'Moumita Giri', '25')\n"
     ]
    }
   ],
   "source": [
    "#2.11 #ALIASES\n",
    "#\n",
    "\n",
    "sql= \"SELECT id AS RollNo, name,age AS Name FROM bt_dept WHERE age NOT IN (24,26)  \"  \n",
    "cursor.execute(sql)\n",
    "myresult= cursor.fetchall()    #fetchall() method, which fetches all rows from the last executed statement.\n",
    "\n",
    "for x in myresult:\n",
    "  print(x)\n",
    "\n",
    "#NOTE--> I was expecting a heading, but it's not comming."
   ]
  },
  {
   "cell_type": "markdown",
   "metadata": {},
   "source": [
    "# BETWEEN \n",
    "* The BETWEEN operator selects values within a given range. The values can be numbers, text, or dates.\n",
    "* The BETWEEN operator is inclusive: begin and end values are included. \n",
    "#### BETWEEN Syntax\n",
    "* SELECT column_name(s)\n",
    "* FROM table_name\n",
    "* WHERE column_name BETWEEN value1 AND value2;"
   ]
  },
  {
   "cell_type": "code",
   "execution_count": null,
   "metadata": {},
   "outputs": [],
   "source": []
  },
  {
   "cell_type": "markdown",
   "metadata": {},
   "source": [
    "# CASE \n",
    "\n",
    "##### CSAE_SYNTEX\n",
    "\n",
    "* SELECT OrderID, Quantity,\n",
    "* CASE\n",
    "* *    WHEN Quantity > 30 THEN \"The quantity is greater than 30\"\n",
    "* *    WHEN Quantity BETWEEN 30 AND 40 THEN \"The quantity is 30\"\n",
    "//  WHEN Quantity>30 AND Quantity<40 THEN \"The quantity is 30\"\n",
    "* *    WHEN Quantity < 40 THEN \"The quantity is 30\"\n",
    "* *    ELSE \"The quantity is under 30\"\n",
    "* END\n",
    "* FROM OrderDetails;"
   ]
  },
  {
   "cell_type": "code",
   "execution_count": 37,
   "metadata": {},
   "outputs": [
    {
     "name": "stdout",
     "output_type": "stream",
     "text": [
      "('14BT01', 'Aafreen Ansari', 'F', 'Child')\n",
      "('14BT02', 'Arnab Baneerjee', 'M', 'Adult')\n",
      "('14BT03', 'Arushi Sinha', 'F', 'Adult')\n",
      "('14BT04', 'Asifa Nasir', 'F', 'Adult')\n",
      "('14BT05', 'Asish Mondal', 'M', 'Buro')\n",
      "('14BT06', 'Krish Bhowmick', 'M', 'Buro')\n",
      "('14BT08', 'Mallika Ghosh', 'F', 'Adult')\n",
      "('14BT09', 'Moumita Giri', 'F', 'Adult')\n",
      "('14BT10', 'Mrityunjoy Sarker', 'M', 'Buro')\n"
     ]
    }
   ],
   "source": [
    "#2.12 #CASE\n",
    "#\n",
    "\n",
    "sql= \"select id,name,sex, CASE WHEN age=24 THEN 'Child' WHEN age=25 THEN 'Adult' WHEN age=26 THEN 'Buro' END AS AAA FROM bt_dept\"  \n",
    "cursor.execute(sql)\n",
    "myresult= cursor.fetchall()    #fetchall() method, which fetches all rows from the last executed statement.\n",
    "\n",
    "for x in myresult:\n",
    "  print(x)"
   ]
  },
  {
   "cell_type": "markdown",
   "metadata": {},
   "source": [
    "# INDEX\n",
    "* ADVANTAGE-Index is performance-tuning method of allowing faster retrival of records\n",
    "* DISADVANTAGE-Take time during UPDATE the table\n",
    "\n",
    "#### INDEX_SYNTEX\n",
    "* CREATE INDEX index_name\n",
    "* ON table_name\n",
    "* index_column_name1, column_name2, column_name3, column_name4\n",
    "* b-----------l---------a----------n-----------k\n",
    "* DROP INDEX [IF EXISTS] index_name\n",
    "* ALTER INDEX [IF EXISTS] index_name\n"
   ]
  },
  {
   "cell_type": "code",
   "execution_count": 38,
   "metadata": {},
   "outputs": [],
   "source": [
    "#2.13 #INDEX\n"
   ]
  },
  {
   "cell_type": "code",
   "execution_count": null,
   "metadata": {},
   "outputs": [],
   "source": []
  },
  {
   "cell_type": "markdown",
   "metadata": {},
   "source": [
    "# VIEW \n",
    "* View is not a physical table, It's a virtual table created by a query joining by one or two table.\n",
    "\n",
    "#### VIEW_SYNTEX\n",
    "* CREATE OR REPLACE VIEW view_name AS----- create for new table and replace if the view is already created\n",
    "* SELECT column(s)\n",
    "* FROM table_name\n",
    "* WHERE condition;\n",
    "* b--------------l------------a-------------n--------------k\n",
    "* SELECT * FROM view_name-----------------# to see the view table\n",
    "* DROP VIEW view_name---------------------# Delete the view table\n",
    "\n",
    "##### NOTE-- We_Can_Update_ViewTable_But_The_Original_Table_Also_Update"
   ]
  },
  {
   "cell_type": "code",
   "execution_count": 39,
   "metadata": {},
   "outputs": [],
   "source": [
    "#2.14 #\n"
   ]
  },
  {
   "cell_type": "code",
   "execution_count": null,
   "metadata": {},
   "outputs": [],
   "source": []
  },
  {
   "cell_type": "code",
   "execution_count": null,
   "metadata": {},
   "outputs": [],
   "source": []
  },
  {
   "cell_type": "code",
   "execution_count": null,
   "metadata": {},
   "outputs": [],
   "source": []
  },
  {
   "cell_type": "code",
   "execution_count": null,
   "metadata": {},
   "outputs": [],
   "source": []
  },
  {
   "cell_type": "markdown",
   "metadata": {},
   "source": [
    "# CTE- CommonTableExpression\n",
    "\n"
   ]
  },
  {
   "cell_type": "code",
   "execution_count": null,
   "metadata": {},
   "outputs": [],
   "source": []
  },
  {
   "cell_type": "code",
   "execution_count": null,
   "metadata": {},
   "outputs": [],
   "source": []
  },
  {
   "cell_type": "code",
   "execution_count": null,
   "metadata": {},
   "outputs": [],
   "source": []
  },
  {
   "cell_type": "code",
   "execution_count": null,
   "metadata": {},
   "outputs": [],
   "source": []
  },
  {
   "cell_type": "code",
   "execution_count": null,
   "metadata": {},
   "outputs": [],
   "source": []
  }
 ],
 "metadata": {
  "kernelspec": {
   "display_name": "Python 3",
   "language": "python",
   "name": "python3"
  },
  "language_info": {
   "codemirror_mode": {
    "name": "ipython",
    "version": 3
   },
   "file_extension": ".py",
   "mimetype": "text/x-python",
   "name": "python",
   "nbconvert_exporter": "python",
   "pygments_lexer": "ipython3",
   "version": "3.8.5"
  }
 },
 "nbformat": 4,
 "nbformat_minor": 4
}
