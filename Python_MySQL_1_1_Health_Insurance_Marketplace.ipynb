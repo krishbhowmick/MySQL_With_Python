{
  "nbformat": 4,
  "nbformat_minor": 0,
  "metadata": {
    "colab": {
      "name": "Python_MySQL_1.1_Health Insurance Marketplace",
      "provenance": [],
      "authorship_tag": "ABX9TyPJvmYlnsytm2JUBALlTUm1",
      "include_colab_link": true
    },
    "kernelspec": {
      "name": "python3",
      "display_name": "Python 3"
    }
  },
  "cells": [
    {
      "cell_type": "markdown",
      "metadata": {
        "id": "view-in-github",
        "colab_type": "text"
      },
      "source": [
        "<a href=\"https://colab.research.google.com/github/krishbhowmick/MySQL_With_Python/blob/main/Python_MySQL_1_1_Health_Insurance_Marketplace.ipynb\" target=\"_parent\"><img src=\"https://colab.research.google.com/assets/colab-badge.svg\" alt=\"Open In Colab\"/></a>"
      ]
    },
    {
      "cell_type": "markdown",
      "metadata": {
        "id": "1OpRT41W5xhD"
      },
      "source": [
        "\n",
        "DatasetLink- https://www.kaggle.com/hhs/health-insurance-marketplace?select=Crosswalk2016.csv\n",
        "\n",
        "The Health Insurance Marketplace Public Use Files contain data on health and dental plans offered to individuals and small businesses through the US Health Insurance Marketplace.\n",
        "\n",
        "\n",
        "\n",
        "### **Exploration Ideas**\n",
        "To help get you started, here are some data exploration ideas:\n",
        "\n",
        "**How do plan, rates and benefits vary across states?**\n",
        "\n",
        "**How do plan and benefits relate to plan rates?**\n",
        "\n",
        "**How do plan and rates vary by age?**\n",
        "\n",
        "**How do plans vary across insurance network providers?**\n",
        "\n",
        "See this forum thread for more ideas, and post there if you want to add your own ideas or answer some of the open questions!\n",
        "\n",
        "### **Data Description**\n",
        "This data was originally prepared and released by the Centers for Medicare & Medicaid Services (CMS). Please read the CMS Disclaimer-User Agreement before using this data.\n",
        "\n",
        "Here, we've processed the data to facilitate analytics. This processed version has three components:\n",
        "\n",
        "1. Original versions of the data\n",
        "The original versions of the 2014, 2015, 2016 data are available in the \"raw\" directory of the download and \"../input/raw\" on Kaggle Scripts. Search for \"dictionaries\" on this page to find the data dictionaries describing the individual raw files.\n",
        "\n",
        "2. Combined CSV files that contain\n",
        "In the top level directory of the download (\"../input\" on Kaggle Scripts), there are six CSV files that contain the combined at across all years:\n",
        "\n",
        "BenefitsCostSharing.csv\n",
        "BusinessRules.csv\n",
        "Network.csv\n",
        "PlanAttributes.csv\n",
        "Rate.csv\n",
        "ServiceArea.csv\n",
        "Additionally, there are two CSV files that facilitate joining data across years:\n",
        "\n",
        "Crosswalk2015.csv - joining 2014 and 2015 data\n",
        "Crosswalk2016.csv - joining 2015 and 2016 data\n",
        "### **3. SQLite database**\n",
        "The \"database.sqlite\" file contains tables corresponding to each of the processed CSV files.\n",
        "\n",
        "The code to create the processed version of this data is available on GitHub.\n",
        "\n"
      ]
    },
    {
      "cell_type": "markdown",
      "metadata": {
        "id": "BjwGDDEcCC0A"
      },
      "source": [
        "# **Architectural Difference – SQLite vs MySQL**\n",
        "* SQLite is an open source project available in the public domain. MySQL is an open source project which is owned by Oracle\n",
        "* SQLite is a server-less database and is self-contained. This is also referred to as an embedded database which means the DB engine runs as a part of the app.\n",
        "* On the other hand, MySQL requires a server to run. MySQL will require a client and server architecture to interact over a network."
      ]
    },
    {
      "cell_type": "markdown",
      "metadata": {
        "id": "pEmr7EbQ5Qzs"
      },
      "source": [
        "Kaggle Dataset- https://www.kaggle.com/cms/cms-medicare"
      ]
    },
    {
      "cell_type": "code",
      "metadata": {
        "id": "wAgSSQhq5tgT",
        "colab": {
          "base_uri": "https://localhost:8080/"
        },
        "outputId": "3111c2f3-c54a-4a8e-f74b-bd18c81392aa"
      },
      "source": [
        "# Connect the google drive with google Colab\n",
        "\n",
        "from google.colab import drive\n",
        "drive.mount('/content/drive/')"
      ],
      "execution_count": null,
      "outputs": [
        {
          "output_type": "stream",
          "text": [
            "Drive already mounted at /content/drive/; to attempt to forcibly remount, call drive.mount(\"/content/drive/\", force_remount=True).\n"
          ],
          "name": "stdout"
        }
      ]
    },
    {
      "cell_type": "code",
      "metadata": {
        "id": "67F-hfLF6MUh"
      },
      "source": [
        "# Import Libraries\n",
        "\n",
        "import numpy as np\n",
        "import pandas as pd\n",
        "import tensorflow as tf\n",
        "import matplotlib.pyplot as plt\n",
        "import seaborn as sb "
      ],
      "execution_count": null,
      "outputs": []
    },
    {
      "cell_type": "code",
      "metadata": {
        "colab": {
          "base_uri": "https://localhost:8080/"
        },
        "id": "_vzCx3U_gN-e",
        "outputId": "8fbc4c11-0737-4dda-f6f1-7700a4c28496"
      },
      "source": [
        "# Import Data\n",
        "\n",
        "path = '/content/drive/MyDrive/DataScience_DataSet/Healthcare Data/BenefitsCostSharing.csv'  # ADD path/to/dataset\n",
        "data = pd.read_csv(path)                                                      # Read the data\n",
        "print(\"Shape of the data is- \",data.shape)                                  # Show shape of the data\n"
      ],
      "execution_count": null,
      "outputs": [
        {
          "output_type": "stream",
          "text": [
            "/usr/local/lib/python3.6/dist-packages/IPython/core/interactiveshell.py:2718: DtypeWarning: Columns (3,6,9,10,16,17,18) have mixed types.Specify dtype option on import or set low_memory=False.\n",
            "  interactivity=interactivity, compiler=compiler, result=result)\n"
          ],
          "name": "stderr"
        },
        {
          "output_type": "stream",
          "text": [
            "Shape of the data is-  (5048408, 32)\n"
          ],
          "name": "stdout"
        }
      ]
    },
    {
      "cell_type": "code",
      "metadata": {
        "colab": {
          "base_uri": "https://localhost:8080/"
        },
        "id": "R1rDRPgPkMrG",
        "outputId": "688f5173-b23f-4718-cc84-a5c62c8d99f2"
      },
      "source": [
        "print(\"Head of the data is- \", data.head() )                              # Print the first 5 rows of Dataset\n"
      ],
      "execution_count": null,
      "outputs": [
        {
          "output_type": "stream",
          "text": [
            "Head of the data is-                         BenefitName  BusinessYear  ... StateCode2 VersionNum\n",
            "0  Routine Dental Services (Adult)          2014  ...         AK          6\n",
            "1     Dental Check-Up for Children          2014  ...         AK          6\n",
            "2        Basic Dental Care - Child          2014  ...         AK          6\n",
            "3              Orthodontia - Child          2014  ...         AK          6\n",
            "4        Major Dental Care - Child          2014  ...         AK          6\n",
            "\n",
            "[5 rows x 32 columns]\n"
          ],
          "name": "stdout"
        }
      ]
    },
    {
      "cell_type": "code",
      "metadata": {
        "colab": {
          "base_uri": "https://localhost:8080/"
        },
        "id": "smkJzcrokMuj",
        "outputId": "067be087-9c65-4624-d814-d3ced8b3177d"
      },
      "source": [
        "print(\"Describe the dataset- \",data.describe(include='all')) \n"
      ],
      "execution_count": null,
      "outputs": [
        {
          "output_type": "stream",
          "text": [
            "Describe the dataset-                  BenefitName  BusinessYear  ... StateCode2    VersionNum\n",
            "count               5048408  5.048408e+06  ...    5048408  5.048408e+06\n",
            "unique                  861           NaN  ...         39           NaN\n",
            "top     Orthodontia - Adult           NaN  ...         WI           NaN\n",
            "freq                  77377           NaN  ...     512587           NaN\n",
            "mean                    NaN  2.015127e+03  ...        NaN  7.637094e+00\n",
            "std                     NaN  7.563664e-01  ...        NaN  3.803627e+00\n",
            "min                     NaN  2.014000e+03  ...        NaN  1.000000e+00\n",
            "25%                     NaN  2.015000e+03  ...        NaN  5.000000e+00\n",
            "50%                     NaN  2.015000e+03  ...        NaN  7.000000e+00\n",
            "75%                     NaN  2.016000e+03  ...        NaN  9.000000e+00\n",
            "max                     NaN  2.016000e+03  ...        NaN  2.400000e+01\n",
            "\n",
            "[11 rows x 32 columns]\n"
          ],
          "name": "stdout"
        }
      ]
    },
    {
      "cell_type": "code",
      "metadata": {
        "colab": {
          "base_uri": "https://localhost:8080/",
          "height": 1000
        },
        "id": "1uwTRIA2kMxk",
        "outputId": "ee9ba106-beef-4811-aaa9-b62f6c288b2b"
      },
      "source": [
        "temp = pd.DataFrame(index=data.columns)                             # Create DataFrame\n",
        "temp['data_type'] = data.dtypes                                     # Show data type\n",
        "temp['null_count'] = data.isnull().sum()                            #checking missing values in the data\n",
        "temp['unique_count'] = data.nunique()                               #checking unique values in the data \n",
        "temp"
      ],
      "execution_count": null,
      "outputs": [
        {
          "output_type": "execute_result",
          "data": {
            "text/html": [
              "<div>\n",
              "<style scoped>\n",
              "    .dataframe tbody tr th:only-of-type {\n",
              "        vertical-align: middle;\n",
              "    }\n",
              "\n",
              "    .dataframe tbody tr th {\n",
              "        vertical-align: top;\n",
              "    }\n",
              "\n",
              "    .dataframe thead th {\n",
              "        text-align: right;\n",
              "    }\n",
              "</style>\n",
              "<table border=\"1\" class=\"dataframe\">\n",
              "  <thead>\n",
              "    <tr style=\"text-align: right;\">\n",
              "      <th></th>\n",
              "      <th>data_type</th>\n",
              "      <th>null_count</th>\n",
              "      <th>unique_count</th>\n",
              "    </tr>\n",
              "  </thead>\n",
              "  <tbody>\n",
              "    <tr>\n",
              "      <th>BenefitName</th>\n",
              "      <td>object</td>\n",
              "      <td>0</td>\n",
              "      <td>861</td>\n",
              "    </tr>\n",
              "    <tr>\n",
              "      <th>BusinessYear</th>\n",
              "      <td>int64</td>\n",
              "      <td>0</td>\n",
              "      <td>3</td>\n",
              "    </tr>\n",
              "    <tr>\n",
              "      <th>CoinsInnTier1</th>\n",
              "      <td>object</td>\n",
              "      <td>1113847</td>\n",
              "      <td>115</td>\n",
              "    </tr>\n",
              "    <tr>\n",
              "      <th>CoinsInnTier2</th>\n",
              "      <td>object</td>\n",
              "      <td>4571587</td>\n",
              "      <td>37</td>\n",
              "    </tr>\n",
              "    <tr>\n",
              "      <th>CoinsOutofNet</th>\n",
              "      <td>object</td>\n",
              "      <td>1113847</td>\n",
              "      <td>60</td>\n",
              "    </tr>\n",
              "    <tr>\n",
              "      <th>CopayInnTier1</th>\n",
              "      <td>object</td>\n",
              "      <td>1113847</td>\n",
              "      <td>516</td>\n",
              "    </tr>\n",
              "    <tr>\n",
              "      <th>CopayInnTier2</th>\n",
              "      <td>object</td>\n",
              "      <td>4571587</td>\n",
              "      <td>278</td>\n",
              "    </tr>\n",
              "    <tr>\n",
              "      <th>CopayOutofNet</th>\n",
              "      <td>object</td>\n",
              "      <td>1113849</td>\n",
              "      <td>232</td>\n",
              "    </tr>\n",
              "    <tr>\n",
              "      <th>EHBVarReason</th>\n",
              "      <td>object</td>\n",
              "      <td>3020737</td>\n",
              "      <td>12</td>\n",
              "    </tr>\n",
              "    <tr>\n",
              "      <th>Exclusions</th>\n",
              "      <td>object</td>\n",
              "      <td>4572247</td>\n",
              "      <td>1720</td>\n",
              "    </tr>\n",
              "    <tr>\n",
              "      <th>Explanation</th>\n",
              "      <td>object</td>\n",
              "      <td>4075700</td>\n",
              "      <td>6227</td>\n",
              "    </tr>\n",
              "    <tr>\n",
              "      <th>ImportDate</th>\n",
              "      <td>object</td>\n",
              "      <td>0</td>\n",
              "      <td>266</td>\n",
              "    </tr>\n",
              "    <tr>\n",
              "      <th>IsCovered</th>\n",
              "      <td>object</td>\n",
              "      <td>215980</td>\n",
              "      <td>3</td>\n",
              "    </tr>\n",
              "    <tr>\n",
              "      <th>IsEHB</th>\n",
              "      <td>object</td>\n",
              "      <td>1817362</td>\n",
              "      <td>1</td>\n",
              "    </tr>\n",
              "    <tr>\n",
              "      <th>IsExclFromInnMOOP</th>\n",
              "      <td>object</td>\n",
              "      <td>983986</td>\n",
              "      <td>5</td>\n",
              "    </tr>\n",
              "    <tr>\n",
              "      <th>IsExclFromOonMOOP</th>\n",
              "      <td>object</td>\n",
              "      <td>982626</td>\n",
              "      <td>4</td>\n",
              "    </tr>\n",
              "    <tr>\n",
              "      <th>IsStateMandate</th>\n",
              "      <td>object</td>\n",
              "      <td>4250463</td>\n",
              "      <td>1</td>\n",
              "    </tr>\n",
              "    <tr>\n",
              "      <th>IsSubjToDedTier1</th>\n",
              "      <td>object</td>\n",
              "      <td>2465877</td>\n",
              "      <td>5</td>\n",
              "    </tr>\n",
              "    <tr>\n",
              "      <th>IsSubjToDedTier2</th>\n",
              "      <td>object</td>\n",
              "      <td>2466054</td>\n",
              "      <td>4</td>\n",
              "    </tr>\n",
              "    <tr>\n",
              "      <th>IssuerId</th>\n",
              "      <td>int64</td>\n",
              "      <td>0</td>\n",
              "      <td>910</td>\n",
              "    </tr>\n",
              "    <tr>\n",
              "      <th>IssuerId2</th>\n",
              "      <td>int64</td>\n",
              "      <td>0</td>\n",
              "      <td>910</td>\n",
              "    </tr>\n",
              "    <tr>\n",
              "      <th>LimitQty</th>\n",
              "      <td>float64</td>\n",
              "      <td>4360725</td>\n",
              "      <td>94</td>\n",
              "    </tr>\n",
              "    <tr>\n",
              "      <th>LimitUnit</th>\n",
              "      <td>object</td>\n",
              "      <td>4360539</td>\n",
              "      <td>88</td>\n",
              "    </tr>\n",
              "    <tr>\n",
              "      <th>MinimumStay</th>\n",
              "      <td>float64</td>\n",
              "      <td>5031681</td>\n",
              "      <td>3</td>\n",
              "    </tr>\n",
              "    <tr>\n",
              "      <th>PlanId</th>\n",
              "      <td>object</td>\n",
              "      <td>0</td>\n",
              "      <td>52394</td>\n",
              "    </tr>\n",
              "    <tr>\n",
              "      <th>QuantLimitOnSvc</th>\n",
              "      <td>object</td>\n",
              "      <td>3264532</td>\n",
              "      <td>5</td>\n",
              "    </tr>\n",
              "    <tr>\n",
              "      <th>RowNumber</th>\n",
              "      <td>int64</td>\n",
              "      <td>0</td>\n",
              "      <td>96</td>\n",
              "    </tr>\n",
              "    <tr>\n",
              "      <th>SourceName</th>\n",
              "      <td>object</td>\n",
              "      <td>0</td>\n",
              "      <td>3</td>\n",
              "    </tr>\n",
              "    <tr>\n",
              "      <th>StandardComponentId</th>\n",
              "      <td>object</td>\n",
              "      <td>0</td>\n",
              "      <td>16807</td>\n",
              "    </tr>\n",
              "    <tr>\n",
              "      <th>StateCode</th>\n",
              "      <td>object</td>\n",
              "      <td>0</td>\n",
              "      <td>39</td>\n",
              "    </tr>\n",
              "    <tr>\n",
              "      <th>StateCode2</th>\n",
              "      <td>object</td>\n",
              "      <td>0</td>\n",
              "      <td>39</td>\n",
              "    </tr>\n",
              "    <tr>\n",
              "      <th>VersionNum</th>\n",
              "      <td>int64</td>\n",
              "      <td>0</td>\n",
              "      <td>23</td>\n",
              "    </tr>\n",
              "  </tbody>\n",
              "</table>\n",
              "</div>"
            ],
            "text/plain": [
              "                    data_type  null_count  unique_count\n",
              "BenefitName            object           0           861\n",
              "BusinessYear            int64           0             3\n",
              "CoinsInnTier1          object     1113847           115\n",
              "CoinsInnTier2          object     4571587            37\n",
              "CoinsOutofNet          object     1113847            60\n",
              "CopayInnTier1          object     1113847           516\n",
              "CopayInnTier2          object     4571587           278\n",
              "CopayOutofNet          object     1113849           232\n",
              "EHBVarReason           object     3020737            12\n",
              "Exclusions             object     4572247          1720\n",
              "Explanation            object     4075700          6227\n",
              "ImportDate             object           0           266\n",
              "IsCovered              object      215980             3\n",
              "IsEHB                  object     1817362             1\n",
              "IsExclFromInnMOOP      object      983986             5\n",
              "IsExclFromOonMOOP      object      982626             4\n",
              "IsStateMandate         object     4250463             1\n",
              "IsSubjToDedTier1       object     2465877             5\n",
              "IsSubjToDedTier2       object     2466054             4\n",
              "IssuerId                int64           0           910\n",
              "IssuerId2               int64           0           910\n",
              "LimitQty              float64     4360725            94\n",
              "LimitUnit              object     4360539            88\n",
              "MinimumStay           float64     5031681             3\n",
              "PlanId                 object           0         52394\n",
              "QuantLimitOnSvc        object     3264532             5\n",
              "RowNumber               int64           0            96\n",
              "SourceName             object           0             3\n",
              "StandardComponentId    object           0         16807\n",
              "StateCode              object           0            39\n",
              "StateCode2             object           0            39\n",
              "VersionNum              int64           0            23"
            ]
          },
          "metadata": {
            "tags": []
          },
          "execution_count": 9
        }
      ]
    },
    {
      "cell_type": "code",
      "metadata": {
        "id": "Xk1BHBTEgOBP",
        "colab": {
          "base_uri": "https://localhost:8080/"
        },
        "outputId": "76cd827c-3d94-411b-84d6-33c36b579151"
      },
      "source": [
        "# Import Data\n",
        "\n",
        "path1 = '/content/drive/MyDrive/DataScience_DataSet/Healthcare Data/Rate.csv'  # ADD path/to/dataset\n",
        "data1 = pd.read_csv(path1)                                                      # Read the data\n",
        "print(\"Shape of the data is- \",data1.shape)                                  # Show shape of the data\n"
      ],
      "execution_count": null,
      "outputs": [
        {
          "output_type": "stream",
          "text": [
            "Shape of the data is-  (12694445, 24)\n"
          ],
          "name": "stdout"
        }
      ]
    },
    {
      "cell_type": "code",
      "metadata": {
        "id": "NFkt8QgKuZgE",
        "colab": {
          "base_uri": "https://localhost:8080/"
        },
        "outputId": "78cd7052-8171-485b-c603-fb12fb2912e9"
      },
      "source": [
        "print(\"Head of the data is- \", data1.head() )"
      ],
      "execution_count": null,
      "outputs": [
        {
          "output_type": "stream",
          "text": [
            "Head of the data is-     BusinessYear StateCode  ...  CoupleAndThreeOrMoreDependents RowNumber\n",
            "0          2014        AK  ...                             NaN        14\n",
            "1          2014        AK  ...                          144.56        14\n",
            "2          2014        AK  ...                          144.56        15\n",
            "3          2014        AK  ...                             NaN        15\n",
            "4          2014        AK  ...                             NaN        16\n",
            "\n",
            "[5 rows x 24 columns]\n"
          ],
          "name": "stdout"
        }
      ]
    },
    {
      "cell_type": "code",
      "metadata": {
        "id": "O5St43xLuZiq",
        "colab": {
          "base_uri": "https://localhost:8080/"
        },
        "outputId": "5de6e58a-cc31-4c70-d42f-aecc38d1d5d4"
      },
      "source": [
        "print(\"Describe the dataset- \",data1.describe(include='all')) "
      ],
      "execution_count": null,
      "outputs": [
        {
          "output_type": "stream",
          "text": [
            "Describe the dataset-          BusinessYear StateCode  ...  CoupleAndThreeOrMoreDependents     RowNumber\n",
            "count   1.269444e+07  12694445  ...                    40941.000000  1.269444e+07\n",
            "unique           NaN        39  ...                             NaN           NaN\n",
            "top              NaN        FL  ...                             NaN           NaN\n",
            "freq             NaN   1702472  ...                             NaN           NaN\n",
            "mean    2.015034e+03       NaN  ...                      107.807774  6.348572e+03\n",
            "std     7.940521e-01       NaN  ...                       73.241174  9.011435e+03\n",
            "min     2.014000e+03       NaN  ...                        0.000000  1.400000e+01\n",
            "25%     2.014000e+03       NaN  ...                       29.490000  8.730000e+02\n",
            "50%     2.015000e+03       NaN  ...                      116.710000  2.728000e+03\n",
            "75%     2.016000e+03       NaN  ...                      167.960000  7.577000e+03\n",
            "max     2.016000e+03       NaN  ...                      449.140000  6.349300e+04\n",
            "\n",
            "[11 rows x 24 columns]\n"
          ],
          "name": "stdout"
        }
      ]
    },
    {
      "cell_type": "code",
      "metadata": {
        "id": "rCB_BaqJuZmM",
        "colab": {
          "base_uri": "https://localhost:8080/",
          "height": 793
        },
        "outputId": "2a93b9d3-5b97-4e57-9c07-b4aa9c97997c"
      },
      "source": [
        "temp = pd.DataFrame(index=data1.columns)                             # Create DataFrame\n",
        "temp['data_type'] = data1.dtypes                                     # Show data type\n",
        "temp['null_count'] = data1.isnull().sum()                            #checking missing values in the data\n",
        "temp['unique_count'] = data1.nunique()                               #checking unique values in the data \n",
        "temp"
      ],
      "execution_count": null,
      "outputs": [
        {
          "output_type": "execute_result",
          "data": {
            "text/html": [
              "<div>\n",
              "<style scoped>\n",
              "    .dataframe tbody tr th:only-of-type {\n",
              "        vertical-align: middle;\n",
              "    }\n",
              "\n",
              "    .dataframe tbody tr th {\n",
              "        vertical-align: top;\n",
              "    }\n",
              "\n",
              "    .dataframe thead th {\n",
              "        text-align: right;\n",
              "    }\n",
              "</style>\n",
              "<table border=\"1\" class=\"dataframe\">\n",
              "  <thead>\n",
              "    <tr style=\"text-align: right;\">\n",
              "      <th></th>\n",
              "      <th>data_type</th>\n",
              "      <th>null_count</th>\n",
              "      <th>unique_count</th>\n",
              "    </tr>\n",
              "  </thead>\n",
              "  <tbody>\n",
              "    <tr>\n",
              "      <th>BusinessYear</th>\n",
              "      <td>int64</td>\n",
              "      <td>0</td>\n",
              "      <td>3</td>\n",
              "    </tr>\n",
              "    <tr>\n",
              "      <th>StateCode</th>\n",
              "      <td>object</td>\n",
              "      <td>0</td>\n",
              "      <td>39</td>\n",
              "    </tr>\n",
              "    <tr>\n",
              "      <th>IssuerId</th>\n",
              "      <td>int64</td>\n",
              "      <td>0</td>\n",
              "      <td>910</td>\n",
              "    </tr>\n",
              "    <tr>\n",
              "      <th>SourceName</th>\n",
              "      <td>object</td>\n",
              "      <td>0</td>\n",
              "      <td>3</td>\n",
              "    </tr>\n",
              "    <tr>\n",
              "      <th>VersionNum</th>\n",
              "      <td>int64</td>\n",
              "      <td>0</td>\n",
              "      <td>23</td>\n",
              "    </tr>\n",
              "    <tr>\n",
              "      <th>ImportDate</th>\n",
              "      <td>object</td>\n",
              "      <td>0</td>\n",
              "      <td>266</td>\n",
              "    </tr>\n",
              "    <tr>\n",
              "      <th>IssuerId2</th>\n",
              "      <td>int64</td>\n",
              "      <td>0</td>\n",
              "      <td>910</td>\n",
              "    </tr>\n",
              "    <tr>\n",
              "      <th>FederalTIN</th>\n",
              "      <td>object</td>\n",
              "      <td>0</td>\n",
              "      <td>335</td>\n",
              "    </tr>\n",
              "    <tr>\n",
              "      <th>RateEffectiveDate</th>\n",
              "      <td>object</td>\n",
              "      <td>0</td>\n",
              "      <td>14</td>\n",
              "    </tr>\n",
              "    <tr>\n",
              "      <th>RateExpirationDate</th>\n",
              "      <td>object</td>\n",
              "      <td>0</td>\n",
              "      <td>26</td>\n",
              "    </tr>\n",
              "    <tr>\n",
              "      <th>PlanId</th>\n",
              "      <td>object</td>\n",
              "      <td>0</td>\n",
              "      <td>16808</td>\n",
              "    </tr>\n",
              "    <tr>\n",
              "      <th>RatingAreaId</th>\n",
              "      <td>object</td>\n",
              "      <td>0</td>\n",
              "      <td>67</td>\n",
              "    </tr>\n",
              "    <tr>\n",
              "      <th>Tobacco</th>\n",
              "      <td>object</td>\n",
              "      <td>0</td>\n",
              "      <td>2</td>\n",
              "    </tr>\n",
              "    <tr>\n",
              "      <th>Age</th>\n",
              "      <td>object</td>\n",
              "      <td>0</td>\n",
              "      <td>47</td>\n",
              "    </tr>\n",
              "    <tr>\n",
              "      <th>IndividualRate</th>\n",
              "      <td>float64</td>\n",
              "      <td>0</td>\n",
              "      <td>149181</td>\n",
              "    </tr>\n",
              "    <tr>\n",
              "      <th>IndividualTobaccoRate</th>\n",
              "      <td>float64</td>\n",
              "      <td>7762096</td>\n",
              "      <td>153930</td>\n",
              "    </tr>\n",
              "    <tr>\n",
              "      <th>Couple</th>\n",
              "      <td>float64</td>\n",
              "      <td>12653504</td>\n",
              "      <td>5533</td>\n",
              "    </tr>\n",
              "    <tr>\n",
              "      <th>PrimarySubscriberAndOneDependent</th>\n",
              "      <td>float64</td>\n",
              "      <td>12653504</td>\n",
              "      <td>5974</td>\n",
              "    </tr>\n",
              "    <tr>\n",
              "      <th>PrimarySubscriberAndTwoDependents</th>\n",
              "      <td>float64</td>\n",
              "      <td>12653504</td>\n",
              "      <td>7047</td>\n",
              "    </tr>\n",
              "    <tr>\n",
              "      <th>PrimarySubscriberAndThreeOrMoreDependents</th>\n",
              "      <td>float64</td>\n",
              "      <td>12653504</td>\n",
              "      <td>7632</td>\n",
              "    </tr>\n",
              "    <tr>\n",
              "      <th>CoupleAndOneDependent</th>\n",
              "      <td>float64</td>\n",
              "      <td>12653504</td>\n",
              "      <td>7268</td>\n",
              "    </tr>\n",
              "    <tr>\n",
              "      <th>CoupleAndTwoDependents</th>\n",
              "      <td>float64</td>\n",
              "      <td>12653504</td>\n",
              "      <td>7733</td>\n",
              "    </tr>\n",
              "    <tr>\n",
              "      <th>CoupleAndThreeOrMoreDependents</th>\n",
              "      <td>float64</td>\n",
              "      <td>12653504</td>\n",
              "      <td>8197</td>\n",
              "    </tr>\n",
              "    <tr>\n",
              "      <th>RowNumber</th>\n",
              "      <td>int64</td>\n",
              "      <td>0</td>\n",
              "      <td>60444</td>\n",
              "    </tr>\n",
              "  </tbody>\n",
              "</table>\n",
              "</div>"
            ],
            "text/plain": [
              "                                          data_type  null_count  unique_count\n",
              "BusinessYear                                  int64           0             3\n",
              "StateCode                                    object           0            39\n",
              "IssuerId                                      int64           0           910\n",
              "SourceName                                   object           0             3\n",
              "VersionNum                                    int64           0            23\n",
              "ImportDate                                   object           0           266\n",
              "IssuerId2                                     int64           0           910\n",
              "FederalTIN                                   object           0           335\n",
              "RateEffectiveDate                            object           0            14\n",
              "RateExpirationDate                           object           0            26\n",
              "PlanId                                       object           0         16808\n",
              "RatingAreaId                                 object           0            67\n",
              "Tobacco                                      object           0             2\n",
              "Age                                          object           0            47\n",
              "IndividualRate                              float64           0        149181\n",
              "IndividualTobaccoRate                       float64     7762096        153930\n",
              "Couple                                      float64    12653504          5533\n",
              "PrimarySubscriberAndOneDependent            float64    12653504          5974\n",
              "PrimarySubscriberAndTwoDependents           float64    12653504          7047\n",
              "PrimarySubscriberAndThreeOrMoreDependents   float64    12653504          7632\n",
              "CoupleAndOneDependent                       float64    12653504          7268\n",
              "CoupleAndTwoDependents                      float64    12653504          7733\n",
              "CoupleAndThreeOrMoreDependents              float64    12653504          8197\n",
              "RowNumber                                     int64           0         60444"
            ]
          },
          "metadata": {
            "tags": []
          },
          "execution_count": 13
        }
      ]
    },
    {
      "cell_type": "code",
      "metadata": {
        "id": "zIsst2I1uZoM"
      },
      "source": [
        ""
      ],
      "execution_count": null,
      "outputs": []
    },
    {
      "cell_type": "code",
      "metadata": {
        "id": "Ma396HBbgODm"
      },
      "source": [
        "/content/drive/MyDrive/DataScience_DataSet/Healthcare Data/BusinessRules.csv\n",
        "/content/drive/MyDrive/DataScience_DataSet/Healthcare Data/Crosswalk2015.csv\n",
        "/content/drive/MyDrive/DataScience_DataSet/Healthcare Data/Crosswalk2016.csv\n",
        "/content/drive/MyDrive/DataScience_DataSet/Healthcare Data/Network.csv\n",
        "/content/drive/MyDrive/DataScience_DataSet/Healthcare Data/PlanAttributes.csv\n",
        "\n",
        "/content/drive/MyDrive/DataScience_DataSet/Healthcare Data/ServiceArea.csv"
      ],
      "execution_count": null,
      "outputs": []
    },
    {
      "cell_type": "code",
      "metadata": {
        "id": "-vmz3EW9gOFb"
      },
      "source": [
        ""
      ],
      "execution_count": null,
      "outputs": []
    }
  ]
}