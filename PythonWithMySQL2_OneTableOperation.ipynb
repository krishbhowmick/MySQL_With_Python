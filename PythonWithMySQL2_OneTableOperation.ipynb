{
 "cells": [
  {
   "cell_type": "code",
   "execution_count": 1,
   "metadata": {},
   "outputs": [
    {
     "name": "stdout",
     "output_type": "stream",
     "text": [
      "<mysql.connector.connection.MySQLConnection object at 0x7f1e565f6390>\n"
     ]
    }
   ],
   "source": [
    "#Creating Databases in MySQL\n",
    "import mysql.connector\n",
    "\n",
    "mydb = mysql.connector.connect(\n",
    "  host=\"localhost\",\n",
    "  user=\"krish\",\n",
    "  password=\"#meKRISH30\"\n",
    ")\n",
    "\n",
    "print(mydb)"
   ]
  },
  {
   "cell_type": "code",
   "execution_count": 2,
   "metadata": {},
   "outputs": [],
   "source": [
    "#cursor for running the MySQL in Python Jupyter Notebook\n",
    "\n",
    "cursor = mydb.cursor()"
   ]
  },
  {
   "cell_type": "code",
   "execution_count": 3,
   "metadata": {},
   "outputs": [
    {
     "name": "stdout",
     "output_type": "stream",
     "text": [
      "('information_schema',)\n",
      "('krish',)\n",
      "('mysql',)\n",
      "('performance_schema',)\n",
      "('sys',)\n"
     ]
    }
   ],
   "source": [
    "\n",
    "cursor.execute('SHOW DATABASES')\n",
    "\n",
    "for database in cursor:\n",
    "    print(database)"
   ]
  },
  {
   "cell_type": "code",
   "execution_count": 4,
   "metadata": {},
   "outputs": [],
   "source": [
    "# Create a new Database\n",
    "\n",
    "#cursor.execute('CREATE DATABASE krish')"
   ]
  },
  {
   "cell_type": "code",
   "execution_count": 5,
   "metadata": {},
   "outputs": [],
   "source": [
    "# -selected database\n",
    "\n",
    "cursor.execute('use krish')\n"
   ]
  },
  {
   "cell_type": "code",
   "execution_count": 6,
   "metadata": {},
   "outputs": [],
   "source": [
    "# Create a new table \n",
    "\n",
    "#sql= 'create table BT_Dept (id varchar(5) primary key, name varchar(25), age int(3), sex varchar(1))'\n",
    "#cursor.execute(sql)"
   ]
  },
  {
   "cell_type": "code",
   "execution_count": 7,
   "metadata": {},
   "outputs": [
    {
     "name": "stdout",
     "output_type": "stream",
     "text": [
      "('BT_Dept',)\n"
     ]
    }
   ],
   "source": [
    "#Show tables\n",
    "\n",
    "sql= \"show tables\"\n",
    "cursor.execute(sql)\n",
    "\n",
    "for database in cursor:\n",
    "    print(database)"
   ]
  },
  {
   "cell_type": "markdown",
   "metadata": {},
   "source": [
    "# ALTER TABLE\n",
    "\n",
    "* The ALTER TABLE statement is used to add, delete, or modify columns in an existing table.\n",
    "* The ALTER TABLE statement is also used to add and drop various constraints on an existing table."
   ]
  },
  {
   "cell_type": "code",
   "execution_count": 8,
   "metadata": {},
   "outputs": [
    {
     "data": {
      "text/plain": [
       "\"\\nsql = 'ALTER TABLE BT_Dept MODIFY id varchar(6)'\\ncursor.execute(sql)\\nprint(cursor) \""
      ]
     },
     "execution_count": 8,
     "metadata": {},
     "output_type": "execute_result"
    }
   ],
   "source": [
    "# ALTER TABLE\n",
    "# Modify a column attribute- (id varchar(5) --> id varchar(6))\n",
    "\"\"\"\n",
    "sql = 'ALTER TABLE BT_Dept MODIFY id varchar(6)'\n",
    "cursor.execute(sql)\n",
    "print(cursor) \"\"\""
   ]
  },
  {
   "cell_type": "code",
   "execution_count": 9,
   "metadata": {},
   "outputs": [
    {
     "data": {
      "text/plain": [
       "\"\\nsql = 'ALTER TABLE BT_Dept ADD email varchar(20)'\\ncursor.execute(sql)\\n\\nprint(cursor) \""
      ]
     },
     "execution_count": 9,
     "metadata": {},
     "output_type": "execute_result"
    }
   ],
   "source": [
    "# Add a column attribute\n",
    "\"\"\"\n",
    "sql = 'ALTER TABLE BT_Dept ADD email varchar(20)'\n",
    "cursor.execute(sql)\n",
    "\n",
    "print(cursor) \"\"\""
   ]
  },
  {
   "cell_type": "code",
   "execution_count": 10,
   "metadata": {},
   "outputs": [
    {
     "data": {
      "text/plain": [
       "'\\nsql = (\"DESCRIBE BT_Dept \")\\ncursor.execute(sql)\\n'"
      ]
     },
     "execution_count": 10,
     "metadata": {},
     "output_type": "execute_result"
    }
   ],
   "source": [
    "# Describe a Table\n",
    "\"\"\"\n",
    "sql = (\"DESCRIBE BT_Dept \")\n",
    "cursor.execute(sql)\n",
    "\"\"\"\n",
    "#How to print desc table"
   ]
  },
  {
   "cell_type": "markdown",
   "metadata": {},
   "source": [
    "# INSERT INTO\n",
    "* The INSERT INTO statement is used to insert new records in a table.\n",
    "* It is possible to write the INSERT INTO statement in two ways.\n",
    "\n",
    "#### INSERT INTO Syntax\n",
    "1. INSERT INTO table_name (column1, column2, column3, ...) VALUES (value1, value2, value3, ...);\n",
    "2. INSERT INTO table_name VALUES (value1, value2, value3, ...);\n",
    " \n",
    "NOTE-If you are adding values for all the columns of the table, you do not need to specify the column names in the SQL query. However, make sure the order of the values is in the same order as the columns in the table. The INSERT INTO syntax would be as follows:"
   ]
  },
  {
   "cell_type": "code",
   "execution_count": 11,
   "metadata": {},
   "outputs": [
    {
     "data": {
      "text/plain": [
       "'\\nsql = \\'INSERT INTO BT_Dept(id,name,age,sex,email) values(%s, %s, %s, %s, %s)\\'\\nval = (\\'14BT04\\',\\'Asifa Nasir\\', \\'25\\',\\'F\\', \\'asifa@gmail.com\\')\\ncursor.execute(sql,val)\\nmydb.commit()     #mydb.commit()--> It is required to make the changes, otherwise no changes are made to the table.\\n\\nprint(cursor.rowcount, \"record inserted.\") '"
      ]
     },
     "execution_count": 11,
     "metadata": {},
     "output_type": "execute_result"
    }
   ],
   "source": [
    "#Insert a values in Tables\n",
    "\"\"\"\n",
    "sql = 'INSERT INTO BT_Dept(id,name,age,sex,email) values(%s, %s, %s, %s, %s)'\n",
    "val = ('14BT04','Asifa Nasir', '25','F', 'asifa@gmail.com')\n",
    "cursor.execute(sql,val)\n",
    "mydb.commit()     #mydb.commit()--> It is required to make the changes, otherwise no changes are made to the table.\n",
    "\n",
    "print(cursor.rowcount, \"record inserted.\") \"\"\""
   ]
  },
  {
   "cell_type": "code",
   "execution_count": 12,
   "metadata": {},
   "outputs": [
    {
     "data": {
      "text/plain": [
       "'\"\\nsql = \\'INSERT INTO BT_Dept(id,name,age,sex,email) values(%s, %s, %s, %s, %s)\\'\\nval = [\\n    (\\'14BT05\\',\\'Asish Mondal\\', \\'26\\',\\'M\\', \\'asish@gmail.com\\'),\\n    (\\'14BT06\\',\\'Krish Bhowmick\\', \\'26\\',\\'M\\', \\'krish@gmail.com\\'),\\n    (\\'14BT07\\',\\'Lopa Mudra\\', \\'25\\',\\'F\\', \\'Lopa@gmail.com\\'),\\n    (\\'14BT08\\',\\'Mallika Ghosh\\', \\'25\\',\\'F\\', \\'mallika@gmail.com\\'),\\n    (\\'14BT09\\',\\'Moumita Giri\\', \\'25\\',\\'F\\', \\'moumi@gmail.com\\')\\n]\\ncursor.executemany(sql,val)\\nmydb.commit()     #mydb.commit()--> It is required to make the changes, otherwise no changes are made to the table.\\n\\nprint(cursor.rowcount, \"record inserted.\") '"
      ]
     },
     "execution_count": 12,
     "metadata": {},
     "output_type": "execute_result"
    }
   ],
   "source": [
    "#Insert Multiple values in Tables\n",
    "\"\"\"\"\n",
    "sql = 'INSERT INTO BT_Dept(id,name,age,sex,email) values(%s, %s, %s, %s, %s)'\n",
    "val = [\n",
    "    ('14BT05','Asish Mondal', '26','M', 'asish@gmail.com'),\n",
    "    ('14BT06','Krish Bhowmick', '26','M', 'krish@gmail.com'),\n",
    "    ('14BT07','Lopa Mudra', '25','F', 'Lopa@gmail.com'),\n",
    "    ('14BT08','Mallika Ghosh', '25','F', 'mallika@gmail.com'),\n",
    "    ('14BT09','Moumita Giri', '25','F', 'moumi@gmail.com')\n",
    "]\n",
    "cursor.executemany(sql,val)\n",
    "mydb.commit()     #mydb.commit()--> It is required to make the changes, otherwise no changes are made to the table.\n",
    "\n",
    "print(cursor.rowcount, \"record inserted.\") \"\"\""
   ]
  },
  {
   "cell_type": "code",
   "execution_count": 13,
   "metadata": {},
   "outputs": [
    {
     "data": {
      "text/plain": [
       "'\\nsql = \\'INSERT INTO BT_Dept(id,name,age,sex,email) values(%s, %s, %s, %s, %s)\\'\\nval = (\\'14BT10\\',\\'Mrityunjoy Sarker\\', \\'26\\',\\'M\\', \\'mrity@gmail.com\\')\\ncursor.execute(sql,val)\\nmydb.commit()     #mydb.commit()--> It is required to make the changes, otherwise no changes are made to the table.\\n\\nprint(\"Last record inserted.\", cursor.lastrowid)'"
      ]
     },
     "execution_count": 13,
     "metadata": {},
     "output_type": "execute_result"
    }
   ],
   "source": [
    "# It doesnot make sense\n",
    "\"\"\"\n",
    "sql = 'INSERT INTO BT_Dept(id,name,age,sex,email) values(%s, %s, %s, %s, %s)'\n",
    "val = ('14BT10','Mrityunjoy Sarker', '26','M', 'mrity@gmail.com')\n",
    "cursor.execute(sql,val)\n",
    "mydb.commit()     #mydb.commit()--> It is required to make the changes, otherwise no changes are made to the table.\n",
    "\n",
    "print(\"Last record inserted.\", cursor.lastrowid)\"\"\""
   ]
  },
  {
   "cell_type": "markdown",
   "metadata": {},
   "source": [
    "# SELECT\n",
    "The SELECT statement is used to select data from a database.\n",
    "The data returned is stored in a result table, called the result-set.\n",
    "\n",
    "#### SELECT Syntax\n",
    "1. SELECT column1, column2, ... FROM table_name;\n",
    "\n",
    "2. SELECT * FROM table_name;"
   ]
  },
  {
   "cell_type": "code",
   "execution_count": 14,
   "metadata": {},
   "outputs": [
    {
     "name": "stdout",
     "output_type": "stream",
     "text": [
      "('14BT01', 'Aafreen Ansari', 24, 'F', 'afreen@gmail.com')\n",
      "('14BT02', 'Arnab Baneerjee', 25, 'M', 'arnaba@gmail.com')\n",
      "('14BT03', 'Arushi Sinha', 25, 'F', 'arushi@gmail.com')\n",
      "('14BT04', 'Asifa Nasir', 25, 'F', 'asifa@gmail.com')\n",
      "('14BT05', 'Asish Mondal', 26, 'M', 'asish@gmail.com')\n",
      "('14BT06', 'Krish Bhowmick', 26, 'M', 'krish@gmail.com')\n",
      "('14BT08', 'Mallika Ghosh', 25, 'F', 'mallika@gmail.com')\n",
      "('14BT09', 'Moumita Giri', 25, 'F', 'moumi@gmail.com')\n",
      "('14BT10', 'Mrityunjoy Sarker', 26, 'M', 'mrity@gmail.com')\n"
     ]
    }
   ],
   "source": [
    "#SELECT\n",
    "\n",
    "sql= \"SELECT * FROM BT_Dept\"\n",
    "cursor.execute(sql)\n",
    "myresult= cursor.fetchall()   #fetchall() method, which fetches all rows from the last executed statement.\n",
    "\n",
    "for x in myresult:\n",
    "  print(x)"
   ]
  },
  {
   "cell_type": "markdown",
   "metadata": {},
   "source": [
    "# SELECT DISTINCT\n",
    "\n",
    "The SELECT DISTINCT statement is used to return only distinct (different) values.\n",
    "Inside a table, a column often contains many duplicate values; and sometimes you only want to list the different (distinct) values.\n",
    "#### SELECT DISTINCT Syntax\n",
    "* SELECT DISTINCT column1, column2, ... \n",
    "* FROM table_name;"
   ]
  },
  {
   "cell_type": "code",
   "execution_count": 15,
   "metadata": {},
   "outputs": [
    {
     "name": "stdout",
     "output_type": "stream",
     "text": [
      "(24,)\n",
      "(25,)\n",
      "(26,)\n"
     ]
    }
   ],
   "source": [
    "# DISTINCT means Different --> No duplicate value\n",
    "\n",
    "sql= \"SELECT DISTINCT age FROM BT_Dept \"\n",
    "cursor.execute(sql)\n",
    "myresult= cursor.fetchall()   #fetchall() method, which fetches all rows from the last executed statement.\n",
    "\n",
    "for x in myresult:\n",
    "  print(x)"
   ]
  },
  {
   "cell_type": "markdown",
   "metadata": {},
   "source": [
    "# WHERE \n",
    "* The WHERE clause is used to filter records.\n",
    "* The WHERE clause is used to extract only those records that fulfill a specified condition.\n",
    "#### WHERE Syntax\n",
    "* SELECT column1, column2, ...\n",
    "* FROM table_name\n",
    "* WHERE condition;"
   ]
  },
  {
   "cell_type": "code",
   "execution_count": 16,
   "metadata": {},
   "outputs": [
    {
     "name": "stdout",
     "output_type": "stream",
     "text": [
      "('14BT02', 'Arnab Baneerjee', 25, 'M', 'arnaba@gmail.com')\n",
      "('14BT03', 'Arushi Sinha', 25, 'F', 'arushi@gmail.com')\n",
      "('14BT04', 'Asifa Nasir', 25, 'F', 'asifa@gmail.com')\n",
      "('14BT08', 'Mallika Ghosh', 25, 'F', 'mallika@gmail.com')\n",
      "('14BT09', 'Moumita Giri', 25, 'F', 'moumi@gmail.com')\n"
     ]
    }
   ],
   "source": [
    "# WHERE\n",
    "\n",
    "sql= \"SELECT * FROM BT_Dept WHERE age = '25' \"\n",
    "cursor.execute(sql)\n",
    "myresult= cursor.fetchall()   #fetchall() method, which fetches all rows from the last executed statement.\n",
    "\n",
    "for x in myresult:\n",
    "  print(x)"
   ]
  },
  {
   "cell_type": "markdown",
   "metadata": {},
   "source": [
    "# AND \n",
    "The WHERE clause can be combined with AND, OR, and NOT operators.\n",
    "* The AND and OR operators are used to filter records based on more than one condition:\n",
    "* The AND operator displays a record if all the conditions separated by AND are TRUE.\n",
    "#### AND Syntax\n",
    "* SELECT column1, column2, ...\n",
    "* FROM table_name\n",
    "* WHERE condition1 AND condition2 AND condition3 ...;\n"
   ]
  },
  {
   "cell_type": "code",
   "execution_count": 17,
   "metadata": {},
   "outputs": [],
   "source": [
    "#AND\n",
    "\n",
    "sql= \"SELECT * FROM BT_Dept WHERE age = '25' AND age = '26' \"\n",
    "cursor.execute(sql)\n",
    "myresult= cursor.fetchall()   #fetchall() method, which fetches all rows from the last executed statement.\n",
    "\n",
    "for x in myresult:\n",
    "  print(x)\n",
    "\n",
    "#There no one's age is  25 and 26 -->So, It does not print anything"
   ]
  },
  {
   "cell_type": "markdown",
   "metadata": {},
   "source": [
    "# OR\n",
    "* The WHERE clause can be combined with AND, OR, and NOT operators.\n",
    "* The AND and OR operators are used to filter records based on more than one condition:\n",
    "* The OR operator displays a record if any of the conditions separated by OR is TRUE.\n",
    "#### OR Syntax\n",
    "* SELECT column1, column2, ...\n",
    "* FROM table_name\n",
    "* WHERE condition1 OR condition2 OR condition3 ...;\n"
   ]
  },
  {
   "cell_type": "code",
   "execution_count": 18,
   "metadata": {},
   "outputs": [
    {
     "name": "stdout",
     "output_type": "stream",
     "text": [
      "('14BT01', 'Aafreen Ansari', 24, 'F', 'afreen@gmail.com')\n",
      "('14BT05', 'Asish Mondal', 26, 'M', 'asish@gmail.com')\n",
      "('14BT06', 'Krish Bhowmick', 26, 'M', 'krish@gmail.com')\n",
      "('14BT10', 'Mrityunjoy Sarker', 26, 'M', 'mrity@gmail.com')\n"
     ]
    }
   ],
   "source": [
    "# OR\n",
    "\n",
    "sql= \"SELECT * FROM BT_Dept WHERE age = '24' OR age = '26' \"\n",
    "cursor.execute(sql)\n",
    "myresult= cursor.fetchall()  #fetchall() method, which fetches all rows from the last executed statement.\n",
    "\n",
    "for x in myresult:\n",
    "  print(x)"
   ]
  },
  {
   "cell_type": "markdown",
   "metadata": {},
   "source": [
    "# NOT\n",
    "* The WHERE clause can be combined with AND, OR, and NOT operators.\n",
    "* The NOT operator displays a record if the condition(s) is NOT TRUE.\n",
    "#### NOT Syntax\n",
    "* SELECT column1, column2, ...\n",
    "* FROM table_name\n",
    "* WHERE NOT condition;"
   ]
  },
  {
   "cell_type": "code",
   "execution_count": 19,
   "metadata": {},
   "outputs": [
    {
     "name": "stdout",
     "output_type": "stream",
     "text": [
      "('14BT05', 'Asish Mondal', 26, 'M', 'asish@gmail.com')\n",
      "('14BT06', 'Krish Bhowmick', 26, 'M', 'krish@gmail.com')\n",
      "('14BT10', 'Mrityunjoy Sarker', 26, 'M', 'mrity@gmail.com')\n"
     ]
    }
   ],
   "source": [
    "# NOT\n",
    "\n",
    "sql= \"SELECT * FROM BT_Dept WHERE NOT age = '25' and age = '26' \"  # use OR & AND see the ans, but why??? \n",
    "cursor.execute(sql)\n",
    "myresult= cursor.fetchall()#fetchall() method, which fetches all rows from the last executed statement.\n",
    "\n",
    "for x in myresult:\n",
    "  print(x)"
   ]
  },
  {
   "cell_type": "markdown",
   "metadata": {},
   "source": [
    "# ORDER BY\n",
    "* The ORDER BY keyword is used to sort the result-set in ascending or descending order.\n",
    "* The ORDER BY keyword sorts the records in ascending order by default. To sort the records in descending order, use the DESC keyword.\n",
    "#### ORDER BY Syntax\n",
    "* SELECT column1, column2, ...\n",
    "* FROM table_name\n",
    "* ORDER BY column1, column2, ... ASC|DESC;"
   ]
  },
  {
   "cell_type": "code",
   "execution_count": 20,
   "metadata": {},
   "outputs": [
    {
     "name": "stdout",
     "output_type": "stream",
     "text": [
      "('14BT01', 'Aafreen Ansari', 24, 'F', 'afreen@gmail.com')\n",
      "('14BT02', 'Arnab Baneerjee', 25, 'M', 'arnaba@gmail.com')\n",
      "('14BT03', 'Arushi Sinha', 25, 'F', 'arushi@gmail.com')\n",
      "('14BT04', 'Asifa Nasir', 25, 'F', 'asifa@gmail.com')\n",
      "('14BT08', 'Mallika Ghosh', 25, 'F', 'mallika@gmail.com')\n",
      "('14BT09', 'Moumita Giri', 25, 'F', 'moumi@gmail.com')\n",
      "('14BT05', 'Asish Mondal', 26, 'M', 'asish@gmail.com')\n",
      "('14BT06', 'Krish Bhowmick', 26, 'M', 'krish@gmail.com')\n",
      "('14BT10', 'Mrityunjoy Sarker', 26, 'M', 'mrity@gmail.com')\n"
     ]
    }
   ],
   "source": [
    "# ORDER BY\n",
    "\n",
    "sql= \"SELECT * FROM BT_Dept ORDER BY age \"   \n",
    "cursor.execute(sql)\n",
    "myresult= cursor.fetchall()     #fetchall() method, which fetches all rows from the last executed statement.\n",
    "\n",
    "for x in myresult:\n",
    "  print(x)"
   ]
  },
  {
   "cell_type": "markdown",
   "metadata": {},
   "source": [
    "# NULL Value\n",
    "\n",
    "* A field with a NULL value is a field with no value.\n",
    "* If a field in a table is optional, it is possible to insert a new record or update a record without adding a value to this field. Then, the field will be saved with a NULL value.\n",
    "### How to Test for NULL Values?\n",
    "* It is not possible to test for NULL values with comparison operators, such as =, <, or <>.\n",
    "* We will have to use the IS NULL and IS NOT NULL operators instead.\n",
    "#### IS NULL \n",
    "*  SELECT column_names \n",
    "* FROM table_name \n",
    "* WHERE column_name IS NULL;\n",
    "#### IS NOT NULL\n",
    "* SELECT column_names \n",
    "* FROM table_name \n",
    "* WHERE column_name IS NOT NULL;\n",
    "\n",
    "Note: A NULL value is different from a zero value or a field that contains spaces. A field with a NULL value is one that has been left blank during record creation!"
   ]
  },
  {
   "cell_type": "code",
   "execution_count": 21,
   "metadata": {},
   "outputs": [],
   "source": [
    "# NULL VALUE\n",
    "\n",
    "sql= \"SELECT age FROM BT_Dept WHERE age IS NULL \"  \n",
    "cursor.execute(sql)\n",
    "myresult= cursor.fetchall()    #fetchall() method, which fetches all rows from the last executed statement.\n",
    "\n",
    "for x in myresult:\n",
    "  print(x)\n",
    "\n",
    "# It doesnot show any output because There is no null value in Dataset"
   ]
  },
  {
   "cell_type": "code",
   "execution_count": 22,
   "metadata": {},
   "outputs": [
    {
     "name": "stdout",
     "output_type": "stream",
     "text": [
      "(24,)\n",
      "(25,)\n",
      "(25,)\n",
      "(25,)\n",
      "(26,)\n",
      "(26,)\n",
      "(25,)\n",
      "(25,)\n",
      "(26,)\n"
     ]
    }
   ],
   "source": [
    "# NOT NULL\n",
    "\n",
    "sql= \"SELECT age FROM BT_Dept WHERE age IS NOT NULL \"  \n",
    "cursor.execute(sql)\n",
    "myresult= cursor.fetchall()    #fetchall() method, which fetches all rows from the last executed statement.\n",
    "\n",
    "for x in myresult:\n",
    "  print(x)"
   ]
  },
  {
   "cell_type": "markdown",
   "metadata": {},
   "source": [
    "# UPDATE\n",
    "* The UPDATE statement is used to modify the existing records in a table.\n",
    "#### UPDATE Syntax\n",
    "* UPDATE table_name SET column1 = value1, column2 = value2, ... \n",
    "* WHERE condition;\n",
    "\n",
    "Note: Be careful when updating records in a table! Notice the WHERE clause in the UPDATE statement. The WHERE clause specifies which record(s) that should be updated. If you omit the WHERE clause, all records in the table will be updated!"
   ]
  },
  {
   "cell_type": "code",
   "execution_count": 23,
   "metadata": {},
   "outputs": [
    {
     "data": {
      "text/plain": [
       "'\\nsql= \"UPDATE BT_Dept SET name= \\'Aafreen Ansari\\' WHERE id=\\'14BT01\\' \"  \\ncursor.execute(sql)\\nmydb.commit()     #mydb.commit()--> It is required to make the changes, otherwise no changes are made to the table.\\n\\nprint(cursor.rowcount, \"record inserted.\") '"
      ]
     },
     "execution_count": 23,
     "metadata": {},
     "output_type": "execute_result"
    }
   ],
   "source": [
    "# UPDATE\n",
    "\"\"\"\n",
    "sql= \"UPDATE BT_Dept SET name= 'Aafreen Ansari' WHERE id='14BT01' \"  \n",
    "cursor.execute(sql)\n",
    "mydb.commit()     #mydb.commit()--> It is required to make the changes, otherwise no changes are made to the table.\n",
    "\n",
    "print(cursor.rowcount, \"record inserted.\") \"\"\""
   ]
  },
  {
   "cell_type": "markdown",
   "metadata": {},
   "source": [
    "# DELETE\n",
    "* The DELETE statement is used to delete existing records in a table.\n",
    "#### DELETE Syntax\n",
    "* DELETE FROM table_name WHERE condition;\n",
    "\n",
    "Note: Be careful when deleting records in a table! Notice the WHERE clause in the DELETE statement. The WHERE clause specifies which record(s) should be deleted. If you omit the WHERE clause, all records in the table will be deleted!"
   ]
  },
  {
   "cell_type": "code",
   "execution_count": 24,
   "metadata": {},
   "outputs": [
    {
     "data": {
      "text/plain": [
       "'\\nsql= \"DELETE FROM BT_Dept WHERE name= \\'Lopa Mudra\\' \"  \\ncursor.execute(sql)\\nmydb.commit()     #mydb.commit()--> It is required to make the changes, otherwise no changes are made to the table.\\n\\nprint(cursor.rowcount, \"record inserted.\") '"
      ]
     },
     "execution_count": 24,
     "metadata": {},
     "output_type": "execute_result"
    }
   ],
   "source": [
    "# DELETE\n",
    "\"\"\"\n",
    "sql= \"DELETE FROM BT_Dept WHERE name= 'Lopa Mudra' \"  \n",
    "cursor.execute(sql)\n",
    "mydb.commit()     #mydb.commit()--> It is required to make the changes, otherwise no changes are made to the table.\n",
    "\n",
    "print(cursor.rowcount, \"record inserted.\") \"\"\"\n",
    "\n",
    "#It will delete the whole row of data "
   ]
  },
  {
   "cell_type": "markdown",
   "metadata": {},
   "source": [
    "# BETWEEN \n",
    "* The BETWEEN operator selects values within a given range. The values can be numbers, text, or dates.\n",
    "* The BETWEEN operator is inclusive: begin and end values are included. \n",
    "#### BETWEEN Syntax\n",
    "* SELECT column_name(s)\n",
    "* FROM table_name\n",
    "* WHERE column_name BETWEEN value1 AND value2;\n",
    "\n",
    "# LIMIT(MySQL) / TOP(SQL Server,MS)\n",
    "* The SELECT TOP clause is used to specify the number of records to return.\n",
    "* The SELECT TOP clause is useful on large tables with thousands of records. Returning a large number of records can impact performance.\n",
    "#### LIMIT Syntax\n",
    "* SELECT column_name(s)\n",
    "* FROM table_name\n",
    "* WHERE condition\n",
    "* LIMIT number;"
   ]
  },
  {
   "cell_type": "code",
   "execution_count": 25,
   "metadata": {},
   "outputs": [
    {
     "name": "stdout",
     "output_type": "stream",
     "text": [
      "('14BT01', 'Aafreen Ansari', 24, 'F', 'afreen@gmail.com')\n"
     ]
    }
   ],
   "source": [
    "# BETWEEN & LIMIT\n",
    "\n",
    "sql= \"SELECT * FROM BT_Dept WHERE age BETWEEN 20 and 24 LIMIT 3 \"  \n",
    "cursor.execute(sql)\n",
    "myresult= cursor.fetchall()    #fetchall() method, which fetches all rows from the last executed statement.\n",
    "\n",
    "for x in myresult:\n",
    "  print(x)"
   ]
  },
  {
   "cell_type": "markdown",
   "metadata": {},
   "source": [
    "# MIN() and MAX() Functions\n",
    "* The MIN() function returns the smallest value of the selected column.\n",
    "* The MAX() function returns the largest value of the selected column.\n",
    "#### MIN() Syntax\n",
    "* SELECT MIN(column_name)\n",
    "* FROM table_name\n",
    "* WHERE condition;\n",
    "#### MAX() Syntax\n",
    "* SELECT MAX(column_name)\n",
    "* FROM table_name\n",
    "*WHERE condition;"
   ]
  },
  {
   "cell_type": "code",
   "execution_count": 26,
   "metadata": {},
   "outputs": [
    {
     "name": "stdout",
     "output_type": "stream",
     "text": [
      "(24,)\n"
     ]
    }
   ],
   "source": [
    "# MINIMUM\n",
    "\n",
    "sql= \"SELECT MIN(age) FROM BT_Dept WHERE sex ='F' \"  \n",
    "cursor.execute(sql)\n",
    "myresult= cursor.fetchall()    #fetchall() method, which fetches all rows from the last executed statement.\n",
    "\n",
    "for x in myresult:\n",
    "  print(x)"
   ]
  },
  {
   "cell_type": "code",
   "execution_count": 27,
   "metadata": {},
   "outputs": [
    {
     "name": "stdout",
     "output_type": "stream",
     "text": [
      "(25,)\n"
     ]
    }
   ],
   "source": [
    "# MAXIMUM\n",
    "\n",
    "sql= \"SELECT MAX(age) FROM BT_Dept WHERE sex ='F' \"  \n",
    "cursor.execute(sql)\n",
    "myresult= cursor.fetchall()    #fetchall() method, which fetches all rows from the last executed statement.\n",
    "\n",
    "for x in myresult:\n",
    "  print(x)"
   ]
  },
  {
   "cell_type": "markdown",
   "metadata": {},
   "source": [
    "# COUNT(), AVG() and SUM() Functions\n",
    "* The COUNT() function returns the number of rows that matches a specified criterion.\n",
    "* The AVG() function returns the average value of a numeric column.\n",
    "* The SUM() function returns the total sum of a numeric column.\n",
    "#### COUNT() Syntax\n",
    "* SELECT COUNT(column_name)\n",
    "* FROM table_name\n",
    "* WHERE condition;\n",
    "#### AVG() Syntax\n",
    "* SELECT AVG(column_name)\n",
    "* FROM table_name\n",
    "* WHERE condition;\n",
    "#### SUM() Syntax\n",
    "* SELECT SUM(column_name)\n",
    "* FROM table_name\n",
    "* WHERE condition;"
   ]
  },
  {
   "cell_type": "code",
   "execution_count": 28,
   "metadata": {},
   "outputs": [
    {
     "name": "stdout",
     "output_type": "stream",
     "text": [
      "(5,)\n"
     ]
    }
   ],
   "source": [
    "# COUNT\n",
    "\n",
    "sql= \"SELECT COUNT(sex) FROM BT_Dept WHERE sex ='F' \"  \n",
    "cursor.execute(sql)\n",
    "myresult= cursor.fetchall()    #fetchall() method, which fetches all rows from the last executed statement.\n",
    "\n",
    "for x in myresult:\n",
    "  print(x)"
   ]
  },
  {
   "cell_type": "code",
   "execution_count": 29,
   "metadata": {},
   "outputs": [
    {
     "name": "stdout",
     "output_type": "stream",
     "text": [
      "(Decimal('24.8000'),)\n"
     ]
    }
   ],
   "source": [
    "# AVERAGE\n",
    "\n",
    "sql= \"SELECT AVG(age) FROM BT_Dept WHERE sex ='F' \"  \n",
    "cursor.execute(sql)\n",
    "myresult= cursor.fetchall()    #fetchall() method, which fetches all rows from the last executed statement.\n",
    "\n",
    "for x in myresult:\n",
    "  print(x)"
   ]
  },
  {
   "cell_type": "code",
   "execution_count": 30,
   "metadata": {},
   "outputs": [
    {
     "name": "stdout",
     "output_type": "stream",
     "text": [
      "(Decimal('124'),)\n"
     ]
    }
   ],
   "source": [
    "# SUM\n",
    "\n",
    "sql= \"SELECT SUM(age) FROM BT_Dept WHERE sex ='F' \"  \n",
    "cursor.execute(sql)\n",
    "myresult= cursor.fetchall()    #fetchall() method, which fetches all rows from the last executed statement.\n",
    "\n",
    "for x in myresult:\n",
    "  print(x)"
   ]
  },
  {
   "cell_type": "markdown",
   "metadata": {},
   "source": [
    "# SQL LIKE Operator\n",
    "The LIKE operator is used in a WHERE clause to search for a specified pattern in a column.\n",
    "There are two wildcards often used in conjunction with the LIKE operator:\n",
    "\n",
    "* % - The percent sign represents zero, one, or multiple characters\n",
    "* _ - The underscore represents a single character"
   ]
  },
  {
   "cell_type": "code",
   "execution_count": 31,
   "metadata": {},
   "outputs": [
    {
     "name": "stdout",
     "output_type": "stream",
     "text": [
      "('14BT01', 'Aafreen Ansari', 24, 'F', 'afreen@gmail.com')\n",
      "('14BT02', 'Arnab Baneerjee', 25, 'M', 'arnaba@gmail.com')\n",
      "('14BT03', 'Arushi Sinha', 25, 'F', 'arushi@gmail.com')\n",
      "('14BT04', 'Asifa Nasir', 25, 'F', 'asifa@gmail.com')\n",
      "('14BT05', 'Asish Mondal', 26, 'M', 'asish@gmail.com')\n"
     ]
    }
   ],
   "source": [
    "# LIKE\n",
    "\n",
    "sql= \"SELECT * FROM BT_Dept WHERE name LIKE 'a%'  \"  \n",
    "cursor.execute(sql)\n",
    "myresult= cursor.fetchall()    #fetchall() method, which fetches all rows from the last executed statement.\n",
    "\n",
    "for x in myresult:\n",
    "  print(x)"
   ]
  },
  {
   "cell_type": "code",
   "execution_count": 32,
   "metadata": {},
   "outputs": [
    {
     "name": "stdout",
     "output_type": "stream",
     "text": [
      "('14BT01', 'Aafreen Ansari', 24, 'F', 'afreen@gmail.com')\n",
      "('14BT08', 'Mallika Ghosh', 25, 'F', 'mallika@gmail.com')\n"
     ]
    }
   ],
   "source": [
    "# LIKE\n",
    "\n",
    "sql= \"SELECT * FROM BT_Dept WHERE name LIKE '_a%'  \"  \n",
    "cursor.execute(sql)\n",
    "myresult= cursor.fetchall()    #fetchall() method, which fetches all rows from the last executed statement.\n",
    "\n",
    "for x in myresult:\n",
    "  print(x)"
   ]
  },
  {
   "cell_type": "markdown",
   "metadata": {},
   "source": [
    "# IN Operator\n",
    "* The IN operator allows you to specify multiple values in a WHERE clause.\n",
    "* The IN operator is a shorthand for multiple OR conditions.\n",
    "#### IN Syntax\n",
    "* SELECT column_name(s) \n",
    "* FROM table_name \n",
    "* WHERE column_name IN (value1, value2, ...);\n",
    "* ## or\n",
    "* SELECT column_name(s) \n",
    "* FROM table_name \n",
    "* WHERE column_name IN (SELECT STATEMENT);"
   ]
  },
  {
   "cell_type": "code",
   "execution_count": 33,
   "metadata": {},
   "outputs": [
    {
     "name": "stdout",
     "output_type": "stream",
     "text": [
      "('14BT01', 'Aafreen Ansari', 24, 'F', 'afreen@gmail.com')\n",
      "('14BT05', 'Asish Mondal', 26, 'M', 'asish@gmail.com')\n",
      "('14BT06', 'Krish Bhowmick', 26, 'M', 'krish@gmail.com')\n",
      "('14BT10', 'Mrityunjoy Sarker', 26, 'M', 'mrity@gmail.com')\n"
     ]
    }
   ],
   "source": [
    "# IN\n",
    "#Student's whose age are 24&26\n",
    "\n",
    "sql= \"SELECT * FROM BT_Dept WHERE age IN (24,26)  \"  \n",
    "cursor.execute(sql)\n",
    "myresult= cursor.fetchall()    #fetchall() method, which fetches all rows from the last executed statement.\n",
    "\n",
    "for x in myresult:\n",
    "  print(x)"
   ]
  },
  {
   "cell_type": "code",
   "execution_count": 34,
   "metadata": {},
   "outputs": [
    {
     "name": "stdout",
     "output_type": "stream",
     "text": [
      "('14BT02', 'Arnab Baneerjee', 25, 'M', 'arnaba@gmail.com')\n",
      "('14BT03', 'Arushi Sinha', 25, 'F', 'arushi@gmail.com')\n",
      "('14BT04', 'Asifa Nasir', 25, 'F', 'asifa@gmail.com')\n",
      "('14BT08', 'Mallika Ghosh', 25, 'F', 'mallika@gmail.com')\n",
      "('14BT09', 'Moumita Giri', 25, 'F', 'moumi@gmail.com')\n"
     ]
    }
   ],
   "source": [
    "# NOT IN\n",
    "#Student's whose age are not 24&26\n",
    "\n",
    "sql= \"SELECT * FROM BT_Dept WHERE age NOT IN (24,26)  \"  \n",
    "cursor.execute(sql)\n",
    "myresult= cursor.fetchall()    #fetchall() method, which fetches all rows from the last executed statement.\n",
    "\n",
    "for x in myresult:\n",
    "  print(x)"
   ]
  },
  {
   "cell_type": "markdown",
   "metadata": {},
   "source": [
    "# Aliases- (temporary, a false or assumed identity.)\n",
    "* SQL aliases are used to give a table, or a column in a table, a temporary name.\n",
    "* Aliases are often used to make column names more readable.\n",
    "* An alias only exists for the duration of the query.\n",
    "#### Alias Column Syntax\n",
    "* SELECT column_name AS alias_name\n",
    "* FROM table_name;\n",
    "#### Alias Table Syntax\n",
    "* SELECT column_name(s)\n",
    "* FROM table_name AS alias_name;"
   ]
  },
  {
   "cell_type": "code",
   "execution_count": 35,
   "metadata": {},
   "outputs": [
    {
     "name": "stdout",
     "output_type": "stream",
     "text": [
      "('14BT02', 'Arnab Baneerjee')\n",
      "('14BT03', 'Arushi Sinha')\n",
      "('14BT04', 'Asifa Nasir')\n",
      "('14BT08', 'Mallika Ghosh')\n",
      "('14BT09', 'Moumita Giri')\n"
     ]
    }
   ],
   "source": [
    "#ALIASES\n",
    "#\n",
    "\n",
    "sql= \"SELECT id AS RollNo, name AS Name FROM BT_Dept WHERE age NOT IN (24,26)  \"  \n",
    "cursor.execute(sql)\n",
    "myresult= cursor.fetchall()    #fetchall() method, which fetches all rows from the last executed statement.\n",
    "\n",
    "for x in myresult:\n",
    "  print(x)\n",
    "\n",
    "#NOTE--> I was expecting a heading, but it's not comming."
   ]
  },
  {
   "cell_type": "markdown",
   "metadata": {},
   "source": [
    "# GROUP BY\n",
    "* The GROUP BY statement groups rows that have the same values into summary rows, like \"find the number of customers in each country\".\n",
    "* The GROUP BY statement is often used with aggregate functions (COUNT, MAX, MIN, SUM, AVG) to group the result-set by one or more columns.\n",
    "#### GROUP BY Syntax\n",
    "* SELECT column_name(s)\n",
    "* FROM table_name\n",
    "* WHERE condition\n",
    "* GROUP BY column_name(s)\n",
    "* ORDER BY column_name(s);"
   ]
  },
  {
   "cell_type": "code",
   "execution_count": 36,
   "metadata": {},
   "outputs": [
    {
     "name": "stdout",
     "output_type": "stream",
     "text": [
      "(5, 'F')\n",
      "(4, 'M')\n"
     ]
    }
   ],
   "source": [
    "# GROUP BY\n",
    "#How many male and female in your class?\n",
    "\n",
    "sql= \"SELECT COUNT(name), sex FROM BT_Dept GROUP BY sex   \"  \n",
    "cursor.execute(sql)\n",
    "myresult= cursor.fetchall()    #fetchall() method, which fetches all rows from the last executed statement.\n",
    "\n",
    "for x in myresult:\n",
    "  print(x)\n"
   ]
  },
  {
   "cell_type": "markdown",
   "metadata": {},
   "source": [
    "# HAVING\n",
    "* The HAVING clause was added to SQL because the WHERE keyword could not be used with aggregate functions.\n",
    "#### HAVING Syntax\n",
    "* SELECT column_name(s)\n",
    "* FROM table_name\n",
    "* WHERE condition\n",
    "* GROUP BY column_name(s)\n",
    "* HAVING condition\n",
    "* ORDER BY column_name(s);"
   ]
  },
  {
   "cell_type": "code",
   "execution_count": 40,
   "metadata": {},
   "outputs": [
    {
     "name": "stdout",
     "output_type": "stream",
     "text": [
      "(5, 'F')\n"
     ]
    }
   ],
   "source": [
    "# HAVING\n",
    "#\n",
    "\n",
    "sql= \"SELECT COUNT(age), sex FROM BT_Dept GROUP BY sex HAVING COUNT(age) >= 5\"  \n",
    "cursor.execute(sql)\n",
    "myresult= cursor.fetchall()    #fetchall() method, which fetches all rows from the last executed statement.\n",
    "\n",
    "for x in myresult:\n",
    "  print(x)"
   ]
  },
  {
   "cell_type": "markdown",
   "metadata": {},
   "source": [
    "## SQL EXISTS Operator\n",
    "\n",
    "* The EXISTS operator is used to test for the existence of any record in a subquery.\n",
    "* The EXISTS operator returns true if the subquery returns one or more records.\n",
    "#### EXISTS Syntax\n",
    "* SELECT column_name(s)\n",
    "* FROM table_name\n",
    "* WHERE EXISTS (SELECT column_name FROM table_name WHERE condition);"
   ]
  },
  {
   "cell_type": "code",
   "execution_count": null,
   "metadata": {},
   "outputs": [],
   "source": []
  }
 ],
 "metadata": {
  "kernelspec": {
   "display_name": "Python 3",
   "language": "python",
   "name": "python3"
  },
  "language_info": {
   "codemirror_mode": {
    "name": "ipython",
    "version": 3
   },
   "file_extension": ".py",
   "mimetype": "text/x-python",
   "name": "python",
   "nbconvert_exporter": "python",
   "pygments_lexer": "ipython3",
   "version": "3.6.9"
  }
 },
 "nbformat": 4,
 "nbformat_minor": 4
}
